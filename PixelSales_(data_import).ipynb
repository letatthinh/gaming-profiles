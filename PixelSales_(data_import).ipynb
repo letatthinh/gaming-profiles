{
 "nbformat": 4,
 "nbformat_minor": 0,
 "metadata": {
  "colab": {
   "provenance": [],
   "toc_visible": true
  },
  "kernelspec": {
   "name": "python3",
   "display_name": "Python 3 (ipykernel)",
   "language": "python"
  },
  "language_info": {
   "name": "python"
  }
 },
 "cells": [
  {
   "cell_type": "markdown",
   "source": [
    "# Dataset Source"
   ],
   "metadata": {
    "id": "u6kreSzwq3Tq"
   }
  },
  {
   "cell_type": "markdown",
   "source": [
    "https://www.kaggle.com/datasets/artyomkruglov/gaming-profiles-2025-steam-playstation-xbox\n",
    "\n",
    "Note: Before continue, please download the dataset and extract all 3 dataset folders inside the archive to the same folder of the notebook file."
   ],
   "metadata": {
    "id": "t4qKOYOOq7Ar"
   }
  },
  {
   "cell_type": "markdown",
   "source": [
    "# Import Libraries"
   ],
   "metadata": {
    "id": "CYMR6EU51d5l"
   }
  },
  {
   "cell_type": "code",
   "source": [
    "# For data manipulation and analysis\n",
    "import pandas as pd\n",
    "# For working with arrays\n",
    "import numpy as np\n",
    "# For working with database\n",
    "import mysql.connector\n",
    "from sqlalchemy.orm import DeclarativeBase, Mapped, mapped_column, \\\n",
    "relationship, Session\n",
    "from sqlalchemy import create_engine, ForeignKey\n",
    "# Ref: https://docs.sqlalchemy.org/en/20/dialects/mysql.html#mysql-data-types\n",
    "from sqlalchemy.dialects.mysql import (\n",
    "    BIGINT,\n",
    "    MEDIUMINT,\n",
    "    SMALLINT,\n",
    "    INTEGER,\n",
    "    FLOAT,\n",
    "    DATETIME,\n",
    "    TEXT,\n",
    "    MEDIUMTEXT,\n",
    "    NVARCHAR,\n",
    "    VARCHAR,\n",
    "    DATE\n",
    ")\n",
    "from sqlalchemy.dialects.mysql import insert\n",
    "# For working with types\n",
    "from typing import List\n",
    "from datetime import datetime"
   ],
   "metadata": {
    "id": "F7-CdR661fZe",
    "ExecuteTime": {
     "end_time": "2025-04-01T17:17:57.076921Z",
     "start_time": "2025-04-01T17:17:56.100722Z"
    }
   },
   "outputs": [],
   "execution_count": 1
  },
  {
   "cell_type": "markdown",
   "source": [
    "# Config settings"
   ],
   "metadata": {
    "id": "1R6cr37KxaWO"
   }
  },
  {
   "cell_type": "code",
   "source": [
    "# Enable copy on write behavior in pandas\n",
    "# Ref: https://pandas.pydata.org/pandas-docs/stable/user_guide/copy_on_write.html#copy-on-write\n",
    "pd.options.mode.copy_on_write = True"
   ],
   "metadata": {
    "id": "ye29S3jOxdHI",
    "ExecuteTime": {
     "end_time": "2025-04-01T17:17:57.092136Z",
     "start_time": "2025-04-01T17:17:57.089336Z"
    }
   },
   "outputs": [],
   "execution_count": 2
  },
  {
   "cell_type": "markdown",
   "source": [
    "# Reads Data"
   ],
   "metadata": {
    "id": "G5Y79pFAsbCp"
   }
  },
  {
   "cell_type": "markdown",
   "source": [
    "## Reads PlayStation Data"
   ],
   "metadata": {
    "id": "6TXKa8X5scXb"
   }
  },
  {
   "cell_type": "code",
   "source": [
    "# Read game data\n",
    "playstation_games_df = pd.read_csv('playstation/games.csv')"
   ],
   "metadata": {
    "id": "5JvVktnHNqi9",
    "ExecuteTime": {
     "end_time": "2025-04-01T12:06:26.276775Z",
     "start_time": "2025-04-01T12:06:26.194060Z"
    }
   },
   "outputs": [],
   "execution_count": 196
  },
  {
   "cell_type": "code",
   "source": [
    "# Read achievement data\n",
    "playstation_achievements_df = pd.read_csv('playstation/achievements.csv')"
   ],
   "metadata": {
    "id": "ikN5n7wJNsIN",
    "ExecuteTime": {
     "end_time": "2025-04-01T12:06:27.780421Z",
     "start_time": "2025-04-01T12:06:26.312689Z"
    }
   },
   "outputs": [],
   "execution_count": 197
  },
  {
   "cell_type": "code",
   "source": [
    "# Read player data\n",
    "playstation_players_df = pd.read_csv('playstation/players.csv')"
   ],
   "metadata": {
    "id": "m3YQM6QhNtjG",
    "ExecuteTime": {
     "end_time": "2025-04-01T12:06:28.136198Z",
     "start_time": "2025-04-01T12:06:27.784983Z"
    }
   },
   "outputs": [],
   "execution_count": 198
  },
  {
   "cell_type": "code",
   "source": [
    "# Read history data\n",
    "playstation_history_df = pd.read_csv('playstation/history.csv')"
   ],
   "metadata": {
    "id": "QWr1nwjfNuyt",
    "ExecuteTime": {
     "end_time": "2025-04-01T12:06:47.840828Z",
     "start_time": "2025-04-01T12:06:28.169235Z"
    }
   },
   "outputs": [],
   "execution_count": 199
  },
  {
   "cell_type": "code",
   "source": [
    "# Read price data\n",
    "playstation_prices_df = pd.read_csv('playstation/prices.csv')"
   ],
   "metadata": {
    "id": "DXNVMUEzNvwp",
    "ExecuteTime": {
     "end_time": "2025-04-01T12:06:47.960273Z",
     "start_time": "2025-04-01T12:06:47.883248Z"
    }
   },
   "outputs": [],
   "execution_count": 200
  },
  {
   "cell_type": "code",
   "source": [
    "# Read purchased game data\n",
    "playstation_purchased_games_df = pd.read_csv('playstation/purchased_games.csv')"
   ],
   "metadata": {
    "id": "9bsmc_sENwrP",
    "ExecuteTime": {
     "end_time": "2025-04-01T12:06:49.307602Z",
     "start_time": "2025-04-01T12:06:48.041629Z"
    }
   },
   "outputs": [],
   "execution_count": 201
  },
  {
   "cell_type": "markdown",
   "source": [
    "## Reads Steam Data"
   ],
   "metadata": {
    "id": "IhoJKt4I5R-i"
   }
  },
  {
   "metadata": {
    "ExecuteTime": {
     "end_time": "2025-04-01T13:45:23.850137Z",
     "start_time": "2025-04-01T13:45:23.523264Z"
    }
   },
   "cell_type": "code",
   "source": [
    "# Read game data\n",
    "steam_games_df = pd.read_csv('steam/games.csv')"
   ],
   "outputs": [],
   "execution_count": 3
  },
  {
   "metadata": {
    "ExecuteTime": {
     "end_time": "2025-04-01T13:45:26.676423Z",
     "start_time": "2025-04-01T13:45:23.855742Z"
    }
   },
   "cell_type": "code",
   "source": [
    "# Read achievement data\n",
    "steam_achievements_df = pd.read_csv('steam/achievements.csv')"
   ],
   "outputs": [],
   "execution_count": 4
  },
  {
   "metadata": {
    "ExecuteTime": {
     "end_time": "2025-04-01T13:45:27.003884Z",
     "start_time": "2025-04-01T13:45:26.689399Z"
    }
   },
   "cell_type": "code",
   "source": [
    "# Read player data\n",
    "steam_players_df = pd.read_csv('steam/players.csv')"
   ],
   "outputs": [],
   "execution_count": 5
  },
  {
   "metadata": {
    "ExecuteTime": {
     "end_time": "2025-04-01T13:45:32.524019Z",
     "start_time": "2025-04-01T13:45:27.015944Z"
    }
   },
   "cell_type": "code",
   "source": [
    "# Read friend data\n",
    "steam_friends_df = pd.read_csv('steam/friends.csv')"
   ],
   "outputs": [],
   "execution_count": 6
  },
  {
   "metadata": {
    "ExecuteTime": {
     "end_time": "2025-04-01T13:45:40.810594Z",
     "start_time": "2025-04-01T13:45:32.536238Z"
    }
   },
   "cell_type": "code",
   "source": [
    "# Read history data\n",
    "steam_history_df = pd.read_csv('steam/history.csv')"
   ],
   "outputs": [],
   "execution_count": 7
  },
  {
   "metadata": {
    "ExecuteTime": {
     "end_time": "2025-04-01T13:45:42.613590Z",
     "start_time": "2025-04-01T13:45:40.823048Z"
    }
   },
   "cell_type": "code",
   "source": [
    "# Read price data\n",
    "steam_prices_df = pd.read_csv('steam/prices.csv')"
   ],
   "outputs": [],
   "execution_count": 8
  },
  {
   "metadata": {
    "ExecuteTime": {
     "end_time": "2025-04-01T13:45:43.382841Z",
     "start_time": "2025-04-01T13:45:42.630346Z"
    }
   },
   "cell_type": "code",
   "source": [
    "# Read purchased game data\n",
    "steam_purchased_games_df = pd.read_csv('steam/purchased_games.csv')"
   ],
   "outputs": [],
   "execution_count": 9
  },
  {
   "metadata": {
    "ExecuteTime": {
     "end_time": "2025-04-01T13:45:50.833129Z",
     "start_time": "2025-04-01T13:45:43.397814Z"
    }
   },
   "cell_type": "code",
   "source": [
    "# Read review data\n",
    "steam_reviews_df = pd.read_csv('steam/reviews.csv')"
   ],
   "outputs": [],
   "execution_count": 10
  },
  {
   "cell_type": "markdown",
   "source": [
    "Note: exlcuded `private_steamids` data."
   ],
   "metadata": {
    "id": "UHRKXseuJ6YA"
   }
  },
  {
   "cell_type": "markdown",
   "source": [
    "## Reads Xbox Data"
   ],
   "metadata": {
    "id": "xIF3dTCV5Sah"
   }
  },
  {
   "metadata": {
    "ExecuteTime": {
     "end_time": "2025-04-01T17:18:49.912516Z",
     "start_time": "2025-04-01T17:18:49.272664Z"
    }
   },
   "cell_type": "code",
   "source": [
    "# Read achievement data\n",
    "xbox_achievements_df = pd.read_csv('xbox/achievements.csv')"
   ],
   "outputs": [],
   "execution_count": 3
  },
  {
   "metadata": {
    "ExecuteTime": {
     "end_time": "2025-04-01T17:18:49.956307Z",
     "start_time": "2025-04-01T17:18:49.931750Z"
    }
   },
   "cell_type": "code",
   "source": [
    "# Read game data\n",
    "xbox_games_df = pd.read_csv('xbox/games.csv')"
   ],
   "outputs": [],
   "execution_count": 4
  },
  {
   "metadata": {
    "ExecuteTime": {
     "end_time": "2025-04-01T17:19:01.772523Z",
     "start_time": "2025-04-01T17:18:49.970804Z"
    }
   },
   "cell_type": "code",
   "source": [
    "# Read history data\n",
    "xbox_history_df = pd.read_csv('xbox/history.csv')"
   ],
   "outputs": [],
   "execution_count": 5
  },
  {
   "metadata": {
    "ExecuteTime": {
     "end_time": "2025-04-01T17:19:01.952277Z",
     "start_time": "2025-04-01T17:19:01.784037Z"
    }
   },
   "cell_type": "code",
   "source": [
    "# Read player data\n",
    "xbox_players_df = pd.read_csv('xbox/players.csv')"
   ],
   "outputs": [],
   "execution_count": 6
  },
  {
   "metadata": {
    "ExecuteTime": {
     "end_time": "2025-04-01T17:19:01.979695Z",
     "start_time": "2025-04-01T17:19:01.963953Z"
    }
   },
   "cell_type": "code",
   "source": [
    "# Read price data\n",
    "xbox_prices_df = pd.read_csv('xbox/prices.csv')"
   ],
   "outputs": [],
   "execution_count": 7
  },
  {
   "metadata": {
    "ExecuteTime": {
     "end_time": "2025-04-01T17:19:02.741540Z",
     "start_time": "2025-04-01T17:19:01.993596Z"
    }
   },
   "cell_type": "code",
   "source": [
    "# Read purchased game data\n",
    "xbox_purchased_games_df = pd.read_csv('xbox/purchased_games.csv')"
   ],
   "outputs": [],
   "execution_count": 8
  },
  {
   "cell_type": "markdown",
   "source": [
    "# Processes And Cleans Data"
   ],
   "metadata": {
    "id": "oAIyA3-HyEHd"
   }
  },
  {
   "cell_type": "markdown",
   "source": [
    "## PlayStation Data"
   ],
   "metadata": {
    "id": "O6BTFCKmyX56"
   }
  },
  {
   "cell_type": "markdown",
   "source": [
    "### Game Data"
   ],
   "metadata": {
    "id": "sfLvOIhYGjDq"
   }
  },
  {
   "cell_type": "markdown",
   "source": [
    "#### Info"
   ],
   "metadata": {
    "id": "Y8SFqG90GjDq"
   }
  },
  {
   "cell_type": "code",
   "source": [
    "playstation_games_df.info()"
   ],
   "metadata": {
    "colab": {
     "base_uri": "https://localhost:8080/"
    },
    "outputId": "b4ab6930-00e5-4877-9057-addea51a3cb6",
    "id": "KqIgdmpaGjDr",
    "ExecuteTime": {
     "end_time": "2025-04-01T12:08:45.449044Z",
     "start_time": "2025-04-01T12:08:45.395038Z"
    }
   },
   "outputs": [
    {
     "name": "stdout",
     "output_type": "stream",
     "text": [
      "<class 'pandas.core.frame.DataFrame'>\n",
      "RangeIndex: 23151 entries, 0 to 23150\n",
      "Data columns (total 8 columns):\n",
      " #   Column               Non-Null Count  Dtype \n",
      "---  ------               --------------  ----- \n",
      " 0   gameid               23151 non-null  int64 \n",
      " 1   title                23151 non-null  object\n",
      " 2   platform             23151 non-null  object\n",
      " 3   developers           23134 non-null  object\n",
      " 4   publishers           23140 non-null  object\n",
      " 5   genres               23009 non-null  object\n",
      " 6   supported_languages  10614 non-null  object\n",
      " 7   release_date         23151 non-null  object\n",
      "dtypes: int64(1), object(7)\n",
      "memory usage: 1.4+ MB\n"
     ]
    }
   ],
   "execution_count": 216
  },
  {
   "cell_type": "markdown",
   "source": [
    "#### Trim Data"
   ],
   "metadata": {
    "id": "E5FCUTI4GjDr"
   }
  },
  {
   "cell_type": "code",
   "source": [
    "playstation_games_df['title'] = \\\n",
    "  playstation_games_df['title'].str.strip()\n",
    "\n",
    "playstation_games_df['platform'] = \\\n",
    "  playstation_games_df['platform'].str.strip()\n",
    "\n",
    "playstation_games_df['developers'] = \\\n",
    "  playstation_games_df['developers'].str.strip()\n",
    "\n",
    "playstation_games_df['publishers'] = \\\n",
    "  playstation_games_df['publishers'].str.strip()\n",
    "\n",
    "playstation_games_df['genres'] = \\\n",
    "  playstation_games_df['genres'].str.strip()\n",
    "\n",
    "playstation_games_df['supported_languages'] = \\\n",
    "  playstation_games_df['supported_languages'].str.strip()\n",
    "\n",
    "playstation_games_df['release_date'] = \\\n",
    "  playstation_games_df['release_date'].str.strip()"
   ],
   "metadata": {
    "id": "jm-9gzEXGjDr",
    "ExecuteTime": {
     "end_time": "2025-04-01T12:08:45.562963Z",
     "start_time": "2025-04-01T12:08:45.518803Z"
    }
   },
   "outputs": [],
   "execution_count": 217
  },
  {
   "cell_type": "markdown",
   "source": "#### Format Data",
   "metadata": {
    "id": "oS18ftwzZPdr"
   }
  },
  {
   "cell_type": "markdown",
   "source": "Format release_date to `'%Y-%m-%d'`:",
   "metadata": {
    "id": "1mtKCPmTZSiV"
   }
  },
  {
   "cell_type": "code",
   "source": [
    "# Convert release_date from string to datetime\n",
    "playstation_games_df['release_date'] = pd.to_datetime(\n",
    "    playstation_games_df['release_date'],\n",
    "    errors='coerce').dt.strftime('%Y-%m-%d')"
   ],
   "metadata": {
    "id": "pSdaM77vZpp9",
    "ExecuteTime": {
     "end_time": "2025-04-01T12:08:45.649058Z",
     "start_time": "2025-04-01T12:08:45.597015Z"
    }
   },
   "outputs": [],
   "execution_count": 218
  },
  {
   "cell_type": "markdown",
   "source": [
    "#### Remove Duplicates"
   ],
   "metadata": {
    "id": "mRtaSzGQHB00"
   }
  },
  {
   "cell_type": "markdown",
   "source": [
    "Check for games with duplicated title, platform, developers and publishers:"
   ],
   "metadata": {
    "id": "G-4WrxKdMHus"
   }
  },
  {
   "cell_type": "code",
   "source": [
    "playstation_games_df[\n",
    "    playstation_games_df.duplicated(\n",
    "        subset=['title', 'platform', 'developers', 'publishers'],\n",
    "        keep=False\n",
    "    )\n",
    "].sort_values(by=['title', 'platform', 'developers', 'publishers'])"
   ],
   "metadata": {
    "colab": {
     "base_uri": "https://localhost:8080/",
     "height": 545
    },
    "id": "oLSSNV_-HDOX",
    "outputId": "f5a3e8ff-f69f-484d-b8d8-a84c19003fed",
    "ExecuteTime": {
     "end_time": "2025-04-01T12:08:45.731048Z",
     "start_time": "2025-04-01T12:08:45.686135Z"
    }
   },
   "outputs": [
    {
     "data": {
      "text/plain": [
       "       gameid                                     title platform  \\\n",
       "3840   572291  \"Buy The Game, I Have a Gun\" -Sheesh-Man      PS4   \n",
       "3842   572182  \"Buy The Game, I Have a Gun\" -Sheesh-Man      PS4   \n",
       "11886    7728                           #KILLALLZOMBIES      PS4   \n",
       "11889    7724                           #KILLALLZOMBIES      PS4   \n",
       "4916   519164                       'n Verlore Verstand      PS4   \n",
       "...       ...                                       ...      ...   \n",
       "15582  652889                                    qomp 2      PS4   \n",
       "1828   653611                                    qomp 2      PS5   \n",
       "15556  653610                                    qomp 2      PS5   \n",
       "7591   401581            void tRrLM(); //Void Terrarium      PS4   \n",
       "20973  402818            void tRrLM(); //Void Terrarium      PS4   \n",
       "\n",
       "                     developers             publishers  \\\n",
       "3840      [\"Kimulator's Films\"]  [\"Kimulator's Films\"]   \n",
       "3842      [\"Kimulator's Films\"]  [\"Kimulator's Films\"]   \n",
       "11886           ['Beatshapers']        ['Beatshapers']   \n",
       "11889           ['Beatshapers']        ['Beatshapers']   \n",
       "4916        ['Skobbejak Games']    ['Skobbejak Games']   \n",
       "...                         ...                    ...   \n",
       "15582          ['Graphite Lab']              ['Atari']   \n",
       "1828           ['Graphite Lab']              ['Atari']   \n",
       "15556          ['Graphite Lab']              ['Atari']   \n",
       "7591   ['Nippon Ichi Software']        ['nis america']   \n",
       "20973  ['Nippon Ichi Software']        ['nis america']   \n",
       "\n",
       "                                                  genres supported_languages  \\\n",
       "3840                                    ['Visual Novel']                 NaN   \n",
       "3842                                    ['Visual Novel']                 NaN   \n",
       "11886                                        ['shooter']                 NaN   \n",
       "11889                              ['Action', 'shooter']                 NaN   \n",
       "4916               ['Puzzle', 'Adventure', 'Platformer']                 NaN   \n",
       "...                                                  ...                 ...   \n",
       "15582                                         ['Action']                 NaN   \n",
       "1828                                          ['Action']                 NaN   \n",
       "15556                                         ['Action']                 NaN   \n",
       "7591   ['Roguelite', 'Role Playing', 'Turn Based', 'D...                 NaN   \n",
       "20973  ['Roguelite', 'Role Playing', 'Turn Based', 'D...                 NaN   \n",
       "\n",
       "      release_date  \n",
       "3840    2023-01-29  \n",
       "3842    2023-01-29  \n",
       "11886   2014-10-28  \n",
       "11889   2014-10-28  \n",
       "4916    2018-06-12  \n",
       "...            ...  \n",
       "15582   2024-02-20  \n",
       "1828    2024-02-20  \n",
       "15556   2024-02-20  \n",
       "7591    2021-05-18  \n",
       "20973   2021-05-18  \n",
       "\n",
       "[13552 rows x 8 columns]"
      ],
      "text/html": [
       "<div>\n",
       "<style scoped>\n",
       "    .dataframe tbody tr th:only-of-type {\n",
       "        vertical-align: middle;\n",
       "    }\n",
       "\n",
       "    .dataframe tbody tr th {\n",
       "        vertical-align: top;\n",
       "    }\n",
       "\n",
       "    .dataframe thead th {\n",
       "        text-align: right;\n",
       "    }\n",
       "</style>\n",
       "<table border=\"1\" class=\"dataframe\">\n",
       "  <thead>\n",
       "    <tr style=\"text-align: right;\">\n",
       "      <th></th>\n",
       "      <th>gameid</th>\n",
       "      <th>title</th>\n",
       "      <th>platform</th>\n",
       "      <th>developers</th>\n",
       "      <th>publishers</th>\n",
       "      <th>genres</th>\n",
       "      <th>supported_languages</th>\n",
       "      <th>release_date</th>\n",
       "    </tr>\n",
       "  </thead>\n",
       "  <tbody>\n",
       "    <tr>\n",
       "      <th>3840</th>\n",
       "      <td>572291</td>\n",
       "      <td>\"Buy The Game, I Have a Gun\" -Sheesh-Man</td>\n",
       "      <td>PS4</td>\n",
       "      <td>[\"Kimulator's Films\"]</td>\n",
       "      <td>[\"Kimulator's Films\"]</td>\n",
       "      <td>['Visual Novel']</td>\n",
       "      <td>NaN</td>\n",
       "      <td>2023-01-29</td>\n",
       "    </tr>\n",
       "    <tr>\n",
       "      <th>3842</th>\n",
       "      <td>572182</td>\n",
       "      <td>\"Buy The Game, I Have a Gun\" -Sheesh-Man</td>\n",
       "      <td>PS4</td>\n",
       "      <td>[\"Kimulator's Films\"]</td>\n",
       "      <td>[\"Kimulator's Films\"]</td>\n",
       "      <td>['Visual Novel']</td>\n",
       "      <td>NaN</td>\n",
       "      <td>2023-01-29</td>\n",
       "    </tr>\n",
       "    <tr>\n",
       "      <th>11886</th>\n",
       "      <td>7728</td>\n",
       "      <td>#KILLALLZOMBIES</td>\n",
       "      <td>PS4</td>\n",
       "      <td>['Beatshapers']</td>\n",
       "      <td>['Beatshapers']</td>\n",
       "      <td>['shooter']</td>\n",
       "      <td>NaN</td>\n",
       "      <td>2014-10-28</td>\n",
       "    </tr>\n",
       "    <tr>\n",
       "      <th>11889</th>\n",
       "      <td>7724</td>\n",
       "      <td>#KILLALLZOMBIES</td>\n",
       "      <td>PS4</td>\n",
       "      <td>['Beatshapers']</td>\n",
       "      <td>['Beatshapers']</td>\n",
       "      <td>['Action', 'shooter']</td>\n",
       "      <td>NaN</td>\n",
       "      <td>2014-10-28</td>\n",
       "    </tr>\n",
       "    <tr>\n",
       "      <th>4916</th>\n",
       "      <td>519164</td>\n",
       "      <td>'n Verlore Verstand</td>\n",
       "      <td>PS4</td>\n",
       "      <td>['Skobbejak Games']</td>\n",
       "      <td>['Skobbejak Games']</td>\n",
       "      <td>['Puzzle', 'Adventure', 'Platformer']</td>\n",
       "      <td>NaN</td>\n",
       "      <td>2018-06-12</td>\n",
       "    </tr>\n",
       "    <tr>\n",
       "      <th>...</th>\n",
       "      <td>...</td>\n",
       "      <td>...</td>\n",
       "      <td>...</td>\n",
       "      <td>...</td>\n",
       "      <td>...</td>\n",
       "      <td>...</td>\n",
       "      <td>...</td>\n",
       "      <td>...</td>\n",
       "    </tr>\n",
       "    <tr>\n",
       "      <th>15582</th>\n",
       "      <td>652889</td>\n",
       "      <td>qomp 2</td>\n",
       "      <td>PS4</td>\n",
       "      <td>['Graphite Lab']</td>\n",
       "      <td>['Atari']</td>\n",
       "      <td>['Action']</td>\n",
       "      <td>NaN</td>\n",
       "      <td>2024-02-20</td>\n",
       "    </tr>\n",
       "    <tr>\n",
       "      <th>1828</th>\n",
       "      <td>653611</td>\n",
       "      <td>qomp 2</td>\n",
       "      <td>PS5</td>\n",
       "      <td>['Graphite Lab']</td>\n",
       "      <td>['Atari']</td>\n",
       "      <td>['Action']</td>\n",
       "      <td>NaN</td>\n",
       "      <td>2024-02-20</td>\n",
       "    </tr>\n",
       "    <tr>\n",
       "      <th>15556</th>\n",
       "      <td>653610</td>\n",
       "      <td>qomp 2</td>\n",
       "      <td>PS5</td>\n",
       "      <td>['Graphite Lab']</td>\n",
       "      <td>['Atari']</td>\n",
       "      <td>['Action']</td>\n",
       "      <td>NaN</td>\n",
       "      <td>2024-02-20</td>\n",
       "    </tr>\n",
       "    <tr>\n",
       "      <th>7591</th>\n",
       "      <td>401581</td>\n",
       "      <td>void tRrLM(); //Void Terrarium</td>\n",
       "      <td>PS4</td>\n",
       "      <td>['Nippon Ichi Software']</td>\n",
       "      <td>['nis america']</td>\n",
       "      <td>['Roguelite', 'Role Playing', 'Turn Based', 'D...</td>\n",
       "      <td>NaN</td>\n",
       "      <td>2021-05-18</td>\n",
       "    </tr>\n",
       "    <tr>\n",
       "      <th>20973</th>\n",
       "      <td>402818</td>\n",
       "      <td>void tRrLM(); //Void Terrarium</td>\n",
       "      <td>PS4</td>\n",
       "      <td>['Nippon Ichi Software']</td>\n",
       "      <td>['nis america']</td>\n",
       "      <td>['Roguelite', 'Role Playing', 'Turn Based', 'D...</td>\n",
       "      <td>NaN</td>\n",
       "      <td>2021-05-18</td>\n",
       "    </tr>\n",
       "  </tbody>\n",
       "</table>\n",
       "<p>13552 rows × 8 columns</p>\n",
       "</div>"
      ]
     },
     "execution_count": 219,
     "metadata": {},
     "output_type": "execute_result"
    }
   ],
   "execution_count": 219
  },
  {
   "cell_type": "markdown",
   "source": [
    "Remove duplicates:"
   ],
   "metadata": {
    "id": "XD7LZc_gMOJ2"
   }
  },
  {
   "cell_type": "code",
   "source": [
    "playstation_games_df.drop_duplicates(\n",
    "    subset=['title', 'platform', 'developers', 'publishers'],\n",
    "    inplace=True\n",
    ")"
   ],
   "metadata": {
    "id": "gwyNr-roMQTP",
    "ExecuteTime": {
     "end_time": "2025-04-01T12:08:45.824265Z",
     "start_time": "2025-04-01T12:08:45.807597Z"
    }
   },
   "outputs": [],
   "execution_count": 220
  },
  {
   "cell_type": "markdown",
   "source": [
    "#### Remove Missing Values"
   ],
   "metadata": {
    "id": "7xn-ZNFGSM9n"
   }
  },
  {
   "cell_type": "markdown",
   "source": [
    "Remove games with missing title:"
   ],
   "metadata": {
    "id": "aFXYTFjVSM9o"
   }
  },
  {
   "cell_type": "code",
   "source": [
    "playstation_games_df.dropna(subset=['title'], inplace=True)"
   ],
   "metadata": {
    "id": "PgUxT-7ASM9o",
    "ExecuteTime": {
     "end_time": "2025-04-01T12:08:45.883014Z",
     "start_time": "2025-04-01T12:08:45.875130Z"
    }
   },
   "outputs": [],
   "execution_count": 221
  },
  {
   "cell_type": "markdown",
   "source": [
    "View info again:"
   ],
   "metadata": {
    "id": "KzVxGGDm7KZf"
   }
  },
  {
   "cell_type": "code",
   "source": [
    "playstation_games_df.info()"
   ],
   "metadata": {
    "colab": {
     "base_uri": "https://localhost:8080/"
    },
    "outputId": "d2730a08-50ea-4d8e-abb4-3d142b50cd3d",
    "id": "gQAWPh917Jvw",
    "ExecuteTime": {
     "end_time": "2025-04-01T12:08:46.073544Z",
     "start_time": "2025-04-01T12:08:46.061544Z"
    }
   },
   "outputs": [
    {
     "name": "stdout",
     "output_type": "stream",
     "text": [
      "<class 'pandas.core.frame.DataFrame'>\n",
      "Index: 14741 entries, 0 to 23149\n",
      "Data columns (total 8 columns):\n",
      " #   Column               Non-Null Count  Dtype \n",
      "---  ------               --------------  ----- \n",
      " 0   gameid               14741 non-null  int64 \n",
      " 1   title                14741 non-null  object\n",
      " 2   platform             14741 non-null  object\n",
      " 3   developers           14726 non-null  object\n",
      " 4   publishers           14731 non-null  object\n",
      " 5   genres               14629 non-null  object\n",
      " 6   supported_languages  8219 non-null   object\n",
      " 7   release_date         14741 non-null  object\n",
      "dtypes: int64(1), object(7)\n",
      "memory usage: 1.0+ MB\n"
     ]
    }
   ],
   "execution_count": 222
  },
  {
   "cell_type": "markdown",
   "source": [
    "### Achievement Data"
   ],
   "metadata": {
    "id": "AgKRaLWQybUu"
   }
  },
  {
   "cell_type": "markdown",
   "source": [
    "#### Info"
   ],
   "metadata": {
    "id": "37Q6Y_gxOR7r"
   }
  },
  {
   "cell_type": "code",
   "source": [
    "playstation_achievements_df.info()"
   ],
   "metadata": {
    "colab": {
     "base_uri": "https://localhost:8080/"
    },
    "id": "gJ2EalK6OS7w",
    "outputId": "ef5888e8-e900-4687-c535-323352f739ba",
    "ExecuteTime": {
     "end_time": "2025-04-01T12:08:46.495614Z",
     "start_time": "2025-04-01T12:08:46.179871Z"
    }
   },
   "outputs": [
    {
     "name": "stdout",
     "output_type": "stream",
     "text": [
      "<class 'pandas.core.frame.DataFrame'>\n",
      "RangeIndex: 846563 entries, 0 to 846562\n",
      "Data columns (total 5 columns):\n",
      " #   Column         Non-Null Count   Dtype \n",
      "---  ------         --------------   ----- \n",
      " 0   achievementid  846563 non-null  object\n",
      " 1   gameid         846563 non-null  int64 \n",
      " 2   title          846559 non-null  object\n",
      " 3   description    846547 non-null  object\n",
      " 4   rarity         846563 non-null  object\n",
      "dtypes: int64(1), object(4)\n",
      "memory usage: 32.3+ MB\n"
     ]
    }
   ],
   "execution_count": 223
  },
  {
   "cell_type": "markdown",
   "source": [
    "#### Trim Data"
   ],
   "metadata": {
    "id": "CD4bKYy2LGh1"
   }
  },
  {
   "cell_type": "code",
   "source": [
    "playstation_achievements_df['achievementid'] = \\\n",
    "  playstation_achievements_df['achievementid'].str.strip()\n",
    "\n",
    "playstation_achievements_df['title'] = \\\n",
    "  playstation_achievements_df['title'].str.strip()\n",
    "\n",
    "playstation_achievements_df['description'] = \\\n",
    "  playstation_achievements_df['description'].str.strip()\n",
    "\n",
    "playstation_achievements_df['rarity'] = \\\n",
    "  playstation_achievements_df['rarity'].str.strip()"
   ],
   "metadata": {
    "id": "EMYzPJU9LIZT",
    "ExecuteTime": {
     "end_time": "2025-04-01T12:08:47.056241Z",
     "start_time": "2025-04-01T12:08:46.526424Z"
    }
   },
   "outputs": [],
   "execution_count": 224
  },
  {
   "cell_type": "markdown",
   "source": [
    "#### Filter Data"
   ],
   "metadata": {
    "id": "D7EvCvTTO5Pu"
   }
  },
  {
   "cell_type": "markdown",
   "source": [
    "Filter achievements having games that only exist in `playstation_games_df`"
   ],
   "metadata": {
    "id": "bk1pelkGaRnd"
   }
  },
  {
   "cell_type": "code",
   "source": [
    "playstation_achievements_df = playstation_achievements_df[\n",
    "    playstation_achievements_df['gameid'].isin(playstation_games_df['gameid'])\n",
    "]"
   ],
   "metadata": {
    "id": "CbmZjbUKP-Ws",
    "ExecuteTime": {
     "end_time": "2025-04-01T12:08:47.172136Z",
     "start_time": "2025-04-01T12:08:47.092189Z"
    }
   },
   "outputs": [],
   "execution_count": 225
  },
  {
   "cell_type": "markdown",
   "source": [
    "#### About Duplicated Achievements"
   ],
   "metadata": {
    "id": "dIg4NGj6W3Ez"
   }
  },
  {
   "cell_type": "markdown",
   "source": [
    "Players can **earn duplicate achievements** for the same game on PlayStation under certain conditions:\n",
    "\n",
    "* Different Regions – Some games have separate trophy lists for different region (e.g., NA, EU, JP). If you play the same game but from different regions, you can earn trophies again.\n",
    "\n",
    "* Different Platforms – If a game has separate trophy lists for PS4 and PS5 versions, you can earn the trophies twice (or more, depending on the platforms available).\n",
    "\n",
    "* Stackable Trophy Lists – Some developers release multiple versions of the same game with separate trophy lists (e.g., standard edition vs. deluxe edition).\n",
    "\n",
    "* Remastered or Re-released Versions – A remastered or re-released version of a game often has a new trophy list, allowing you to earn the same trophies again."
   ],
   "metadata": {
    "id": "P11PULrTCMJp"
   }
  },
  {
   "cell_type": "markdown",
   "source": [
    "#### Remove Missing Values"
   ],
   "metadata": {
    "id": "zoJJo73bLx7d"
   }
  },
  {
   "cell_type": "markdown",
   "source": [
    "Remove achievements with missing title:"
   ],
   "metadata": {
    "id": "UDvl10f8L0_2"
   }
  },
  {
   "cell_type": "code",
   "source": [
    "playstation_achievements_df.dropna(subset=['title'], inplace=True)"
   ],
   "metadata": {
    "id": "4H9qAqaRME5k",
    "ExecuteTime": {
     "end_time": "2025-04-01T12:08:47.268990Z",
     "start_time": "2025-04-01T12:08:47.201300Z"
    }
   },
   "outputs": [],
   "execution_count": 226
  },
  {
   "cell_type": "markdown",
   "source": [
    "View info again:"
   ],
   "metadata": {
    "id": "3SPyEAIB9gL9"
   }
  },
  {
   "cell_type": "code",
   "source": [
    "playstation_achievements_df.info()"
   ],
   "metadata": {
    "colab": {
     "base_uri": "https://localhost:8080/"
    },
    "outputId": "707b279f-d413-44d1-88ed-816153baf3dc",
    "id": "UuF1pT-O9gL9",
    "ExecuteTime": {
     "end_time": "2025-04-01T12:08:47.364518Z",
     "start_time": "2025-04-01T12:08:47.295493Z"
    }
   },
   "outputs": [
    {
     "name": "stdout",
     "output_type": "stream",
     "text": [
      "<class 'pandas.core.frame.DataFrame'>\n",
      "Index: 410720 entries, 0 to 846562\n",
      "Data columns (total 5 columns):\n",
      " #   Column         Non-Null Count   Dtype \n",
      "---  ------         --------------   ----- \n",
      " 0   achievementid  410720 non-null  object\n",
      " 1   gameid         410720 non-null  int64 \n",
      " 2   title          410720 non-null  object\n",
      " 3   description    410704 non-null  object\n",
      " 4   rarity         410720 non-null  object\n",
      "dtypes: int64(1), object(4)\n",
      "memory usage: 18.8+ MB\n"
     ]
    }
   ],
   "execution_count": 227
  },
  {
   "cell_type": "markdown",
   "source": [
    "### Player Data"
   ],
   "metadata": {
    "id": "VWyh9HDNWIBE"
   }
  },
  {
   "cell_type": "markdown",
   "source": [
    "#### Info"
   ],
   "metadata": {
    "id": "F7ouDYqUWIBF"
   }
  },
  {
   "cell_type": "code",
   "source": [
    "playstation_players_df.info()"
   ],
   "metadata": {
    "colab": {
     "base_uri": "https://localhost:8080/"
    },
    "outputId": "e4867bb3-93db-430e-8d6c-ca9a2d5f13f9",
    "id": "0pAwO1B6WIBF",
    "ExecuteTime": {
     "end_time": "2025-04-01T12:08:47.453863Z",
     "start_time": "2025-04-01T12:08:47.395110Z"
    }
   },
   "outputs": [
    {
     "name": "stdout",
     "output_type": "stream",
     "text": [
      "<class 'pandas.core.frame.DataFrame'>\n",
      "RangeIndex: 356600 entries, 0 to 356599\n",
      "Data columns (total 3 columns):\n",
      " #   Column    Non-Null Count   Dtype \n",
      "---  ------    --------------   ----- \n",
      " 0   playerid  356600 non-null  int64 \n",
      " 1   nickname  356600 non-null  object\n",
      " 2   country   356600 non-null  object\n",
      "dtypes: int64(1), object(2)\n",
      "memory usage: 8.2+ MB\n"
     ]
    }
   ],
   "execution_count": 228
  },
  {
   "cell_type": "markdown",
   "source": [
    "#### Trim Data"
   ],
   "metadata": {
    "id": "fNK7P7PYWIBF"
   }
  },
  {
   "cell_type": "code",
   "source": [
    "playstation_players_df['nickname'] = \\\n",
    "  playstation_players_df['nickname'].str.strip()\n",
    "\n",
    "playstation_players_df['country'] = \\\n",
    "  playstation_players_df['country'].str.strip()"
   ],
   "metadata": {
    "id": "PGS4mOlYWIBF",
    "ExecuteTime": {
     "end_time": "2025-04-01T12:08:47.586892Z",
     "start_time": "2025-04-01T12:08:47.481238Z"
    }
   },
   "outputs": [],
   "execution_count": 229
  },
  {
   "cell_type": "markdown",
   "source": [
    "#### About Duplicated Player Nicknames"
   ],
   "metadata": {
    "id": "TzYqDJFSWIBF"
   }
  },
  {
   "cell_type": "markdown",
   "source": [
    "All nicknames must be unique.\n",
    "\n",
    "Check for duplicated nicknames."
   ],
   "metadata": {
    "id": "WCPJGBNeWIBF"
   }
  },
  {
   "cell_type": "code",
   "source": [
    "playstation_players_df[\n",
    "    playstation_players_df.duplicated(\n",
    "        subset=['nickname'],\n",
    "        keep=False\n",
    "    )\n",
    "].sort_values(by=['nickname'])"
   ],
   "metadata": {
    "colab": {
     "base_uri": "https://localhost:8080/",
     "height": 53
    },
    "id": "hXBirZREWmW3",
    "outputId": "d22315ea-07f5-4cae-b217-7aaf007ce30d",
    "ExecuteTime": {
     "end_time": "2025-04-01T12:08:47.713827Z",
     "start_time": "2025-04-01T12:08:47.614149Z"
    }
   },
   "outputs": [
    {
     "data": {
      "text/plain": [
       "Empty DataFrame\n",
       "Columns: [playerid, nickname, country]\n",
       "Index: []"
      ],
      "text/html": [
       "<div>\n",
       "<style scoped>\n",
       "    .dataframe tbody tr th:only-of-type {\n",
       "        vertical-align: middle;\n",
       "    }\n",
       "\n",
       "    .dataframe tbody tr th {\n",
       "        vertical-align: top;\n",
       "    }\n",
       "\n",
       "    .dataframe thead th {\n",
       "        text-align: right;\n",
       "    }\n",
       "</style>\n",
       "<table border=\"1\" class=\"dataframe\">\n",
       "  <thead>\n",
       "    <tr style=\"text-align: right;\">\n",
       "      <th></th>\n",
       "      <th>playerid</th>\n",
       "      <th>nickname</th>\n",
       "      <th>country</th>\n",
       "    </tr>\n",
       "  </thead>\n",
       "  <tbody>\n",
       "  </tbody>\n",
       "</table>\n",
       "</div>"
      ]
     },
     "execution_count": 230,
     "metadata": {},
     "output_type": "execute_result"
    }
   ],
   "execution_count": 230
  },
  {
   "cell_type": "markdown",
   "source": [
    "Looks good."
   ],
   "metadata": {
    "id": "q99yp0jjXJij"
   }
  },
  {
   "cell_type": "markdown",
   "source": [
    "### History Data"
   ],
   "metadata": {
    "id": "3FrxlRRUQ1MJ"
   }
  },
  {
   "cell_type": "markdown",
   "source": [
    "#### Info"
   ],
   "metadata": {
    "id": "_GUMhpsoQ1MK"
   }
  },
  {
   "cell_type": "code",
   "source": [
    "playstation_history_df.info()"
   ],
   "metadata": {
    "colab": {
     "base_uri": "https://localhost:8080/"
    },
    "outputId": "aa8d6066-9dd6-4933-999f-20eb73772753",
    "id": "TaJUxF2JQ1MK",
    "ExecuteTime": {
     "end_time": "2025-04-01T12:08:47.824511Z",
     "start_time": "2025-04-01T12:08:47.817688Z"
    }
   },
   "outputs": [
    {
     "name": "stdout",
     "output_type": "stream",
     "text": [
      "<class 'pandas.core.frame.DataFrame'>\n",
      "RangeIndex: 19510083 entries, 0 to 19510082\n",
      "Data columns (total 3 columns):\n",
      " #   Column         Dtype \n",
      "---  ------         ----- \n",
      " 0   playerid       int64 \n",
      " 1   achievementid  object\n",
      " 2   date_acquired  object\n",
      "dtypes: int64(1), object(2)\n",
      "memory usage: 446.6+ MB\n"
     ]
    }
   ],
   "execution_count": 231
  },
  {
   "cell_type": "markdown",
   "source": [
    "#### Trim Data"
   ],
   "metadata": {
    "id": "8k4LLJolQ1MK"
   }
  },
  {
   "cell_type": "code",
   "source": [
    "playstation_history_df['achievementid'] = \\\n",
    "  playstation_history_df['achievementid'].str.strip()\n",
    "\n",
    "playstation_history_df['date_acquired'] = \\\n",
    "  playstation_history_df['date_acquired'].str.strip()"
   ],
   "metadata": {
    "id": "jy-TOey4Q1MK",
    "ExecuteTime": {
     "end_time": "2025-04-01T12:08:54.546815Z",
     "start_time": "2025-04-01T12:08:47.864600Z"
    }
   },
   "outputs": [],
   "execution_count": 232
  },
  {
   "cell_type": "markdown",
   "source": [
    "#### Convert Data"
   ],
   "metadata": {
    "id": "AAUqZB4ra2Do"
   }
  },
  {
   "cell_type": "markdown",
   "source": [
    "`date_acquired` should be converted to date time type:"
   ],
   "metadata": {
    "id": "mIxFLETFa2Dp"
   }
  },
  {
   "cell_type": "code",
   "source": [
    "playstation_history_df['date_acquired'] = pd.to_datetime(\n",
    "    playstation_history_df['date_acquired'],\n",
    "    errors='coerce').dt.strftime('%Y-%m-%d %H:%M:%S')"
   ],
   "metadata": {
    "id": "xkqXU7sua2Dp",
    "ExecuteTime": {
     "end_time": "2025-04-01T12:09:23.413438Z",
     "start_time": "2025-04-01T12:08:54.576201Z"
    }
   },
   "outputs": [],
   "execution_count": 233
  },
  {
   "cell_type": "markdown",
   "source": [
    "#### Filter Data"
   ],
   "metadata": {
    "id": "dmxYuu85Q1MK"
   }
  },
  {
   "cell_type": "markdown",
   "source": [
    "Filter history records that only exist in `playstation_achievements_df` and `playstation_players_df`"
   ],
   "metadata": {
    "id": "UpVkRXMFbYwH"
   }
  },
  {
   "cell_type": "code",
   "source": [
    "playstation_history_df = playstation_history_df[\n",
    "    playstation_history_df['achievementid'].isin(\n",
    "        playstation_achievements_df['achievementid']) &\n",
    "    playstation_history_df['playerid'].isin(\n",
    "        playstation_players_df['playerid'])\n",
    "]"
   ],
   "metadata": {
    "id": "3XUjhSxxQ1ML",
    "ExecuteTime": {
     "end_time": "2025-04-01T12:09:28.337131Z",
     "start_time": "2025-04-01T12:09:23.441256Z"
    }
   },
   "outputs": [],
   "execution_count": 234
  },
  {
   "cell_type": "markdown",
   "source": [
    "View info again:"
   ],
   "metadata": {
    "id": "rT9Dawdt9sLq"
   }
  },
  {
   "cell_type": "code",
   "source": [
    "playstation_history_df.info()"
   ],
   "metadata": {
    "id": "bQK1ZQyT9sLq",
    "colab": {
     "base_uri": "https://localhost:8080/"
    },
    "outputId": "a5a4687f-eea8-466f-8b1d-e946b405fa58",
    "ExecuteTime": {
     "end_time": "2025-04-01T12:09:28.380700Z",
     "start_time": "2025-04-01T12:09:28.373688Z"
    }
   },
   "outputs": [
    {
     "name": "stdout",
     "output_type": "stream",
     "text": [
      "<class 'pandas.core.frame.DataFrame'>\n",
      "Index: 13454632 entries, 0 to 19510082\n",
      "Data columns (total 3 columns):\n",
      " #   Column         Dtype \n",
      "---  ------         ----- \n",
      " 0   playerid       int64 \n",
      " 1   achievementid  object\n",
      " 2   date_acquired  object\n",
      "dtypes: int64(1), object(2)\n",
      "memory usage: 410.6+ MB\n"
     ]
    }
   ],
   "execution_count": 235
  },
  {
   "cell_type": "markdown",
   "source": [
    "### Price Data"
   ],
   "metadata": {
    "id": "DsMYJFmcYl8g"
   }
  },
  {
   "cell_type": "markdown",
   "source": [
    "#### Info"
   ],
   "metadata": {
    "id": "Nh_wn3SUYl8h"
   }
  },
  {
   "cell_type": "code",
   "source": [
    "playstation_prices_df.info()"
   ],
   "metadata": {
    "id": "KGmqeKTuYl8h",
    "colab": {
     "base_uri": "https://localhost:8080/"
    },
    "outputId": "2fae59e0-f94b-4955-bc83-a6eca36a4dbb",
    "ExecuteTime": {
     "end_time": "2025-04-01T12:09:28.475364Z",
     "start_time": "2025-04-01T12:09:28.464943Z"
    }
   },
   "outputs": [
    {
     "name": "stdout",
     "output_type": "stream",
     "text": [
      "<class 'pandas.core.frame.DataFrame'>\n",
      "RangeIndex: 62816 entries, 0 to 62815\n",
      "Data columns (total 7 columns):\n",
      " #   Column         Non-Null Count  Dtype  \n",
      "---  ------         --------------  -----  \n",
      " 0   gameid         62816 non-null  int64  \n",
      " 1   usd            49251 non-null  float64\n",
      " 2   eur            47264 non-null  float64\n",
      " 3   gbp            48637 non-null  float64\n",
      " 4   jpy            27038 non-null  float64\n",
      " 5   rub            10911 non-null  float64\n",
      " 6   date_acquired  62816 non-null  object \n",
      "dtypes: float64(5), int64(1), object(1)\n",
      "memory usage: 3.4+ MB\n"
     ]
    }
   ],
   "execution_count": 236
  },
  {
   "cell_type": "markdown",
   "source": [
    "#### Trim Data"
   ],
   "metadata": {
    "id": "_FLCmrKmYl8h"
   }
  },
  {
   "cell_type": "code",
   "source": [
    "playstation_prices_df['date_acquired'] = \\\n",
    "  playstation_prices_df['date_acquired'].str.strip()"
   ],
   "metadata": {
    "id": "S_rmSyEsYl8h",
    "ExecuteTime": {
     "end_time": "2025-04-01T12:09:28.504571Z",
     "start_time": "2025-04-01T12:09:28.485185Z"
    }
   },
   "outputs": [],
   "execution_count": 237
  },
  {
   "cell_type": "markdown",
   "source": [
    "#### Convert Data"
   ],
   "metadata": {
    "id": "kObyVGIOGNmx"
   }
  },
  {
   "cell_type": "markdown",
   "source": [
    "`date_acquired` should be converted to date time type:"
   ],
   "metadata": {
    "id": "SC64rvm3GNmy"
   }
  },
  {
   "cell_type": "code",
   "source": [
    "playstation_prices_df['date_acquired'] = pd.to_datetime(\n",
    "    playstation_prices_df['date_acquired'],\n",
    "    errors='coerce').dt.strftime('%Y-%m-%d')"
   ],
   "metadata": {
    "id": "uBJkDjpBGNmy",
    "ExecuteTime": {
     "end_time": "2025-04-01T12:09:28.609767Z",
     "start_time": "2025-04-01T12:09:28.563690Z"
    }
   },
   "outputs": [],
   "execution_count": 238
  },
  {
   "cell_type": "markdown",
   "source": [
    "#### Filter Data"
   ],
   "metadata": {
    "id": "0G1oH3fdYl8h"
   }
  },
  {
   "cell_type": "markdown",
   "source": [
    "Filter prices that only exist in `playstation_games_df`"
   ],
   "metadata": {
    "id": "DYnbVZYybmV7"
   }
  },
  {
   "cell_type": "code",
   "source": [
    "playstation_prices_df = playstation_prices_df[\n",
    "    playstation_prices_df['gameid'].isin(playstation_games_df['gameid'])\n",
    "]"
   ],
   "metadata": {
    "id": "bQNFoSoiYl8h",
    "ExecuteTime": {
     "end_time": "2025-04-01T12:09:28.669386Z",
     "start_time": "2025-04-01T12:09:28.648509Z"
    }
   },
   "outputs": [],
   "execution_count": 239
  },
  {
   "cell_type": "markdown",
   "source": [
    "#### Remove Missing Values"
   ],
   "metadata": {
    "id": "VNMB2wlvt_ft"
   }
  },
  {
   "cell_type": "markdown",
   "source": [
    "Remove prices with missing date acquired:"
   ],
   "metadata": {
    "id": "irefVqNHt_ft"
   }
  },
  {
   "cell_type": "code",
   "source": [
    "playstation_prices_df.dropna(subset=['date_acquired'], inplace=True)"
   ],
   "metadata": {
    "id": "QinCWwvLt_ft",
    "ExecuteTime": {
     "end_time": "2025-04-01T12:09:28.707366Z",
     "start_time": "2025-04-01T12:09:28.700966Z"
    }
   },
   "outputs": [],
   "execution_count": 240
  },
  {
   "metadata": {},
   "cell_type": "markdown",
   "source": "Remove prices with empty currency data:"
  },
  {
   "metadata": {
    "ExecuteTime": {
     "end_time": "2025-04-01T12:09:28.758461Z",
     "start_time": "2025-04-01T12:09:28.739912Z"
    }
   },
   "cell_type": "code",
   "source": [
    "# Keep rows with at least 1 column has data in selected columns\n",
    "playstation_prices_df.dropna(subset=['usd', 'eur', 'gbp', 'jpy', 'rub'], thresh=1, inplace=True)"
   ],
   "outputs": [],
   "execution_count": 241
  },
  {
   "cell_type": "markdown",
   "source": [
    "View info again:"
   ],
   "metadata": {
    "id": "KIP-UPbclasD"
   }
  },
  {
   "cell_type": "code",
   "source": [
    "playstation_prices_df.info()"
   ],
   "metadata": {
    "id": "A-he4WzblasE",
    "colab": {
     "base_uri": "https://localhost:8080/"
    },
    "outputId": "4fd691d4-945a-42d1-b432-44acc37afc44",
    "ExecuteTime": {
     "end_time": "2025-04-01T12:09:28.807842Z",
     "start_time": "2025-04-01T12:09:28.797649Z"
    }
   },
   "outputs": [
    {
     "name": "stdout",
     "output_type": "stream",
     "text": [
      "<class 'pandas.core.frame.DataFrame'>\n",
      "Index: 26212 entries, 0 to 62814\n",
      "Data columns (total 7 columns):\n",
      " #   Column         Non-Null Count  Dtype  \n",
      "---  ------         --------------  -----  \n",
      " 0   gameid         26212 non-null  int64  \n",
      " 1   usd            25203 non-null  float64\n",
      " 2   eur            23903 non-null  float64\n",
      " 3   gbp            24758 non-null  float64\n",
      " 4   jpy            10335 non-null  float64\n",
      " 5   rub            6156 non-null   float64\n",
      " 6   date_acquired  26212 non-null  object \n",
      "dtypes: float64(5), int64(1), object(1)\n",
      "memory usage: 1.6+ MB\n"
     ]
    }
   ],
   "execution_count": 242
  },
  {
   "cell_type": "markdown",
   "source": [
    "### Purchased Game Data"
   ],
   "metadata": {
    "id": "bEf0B3FfcOtU"
   }
  },
  {
   "cell_type": "markdown",
   "source": [
    "#### Info"
   ],
   "metadata": {
    "id": "6woH9krIcOtV"
   }
  },
  {
   "cell_type": "code",
   "source": [
    "playstation_purchased_games_df.info()"
   ],
   "metadata": {
    "id": "52FGhJDOcOtV",
    "colab": {
     "base_uri": "https://localhost:8080/"
    },
    "outputId": "fa628ed9-3b19-42eb-9896-7097b749f7e4",
    "ExecuteTime": {
     "end_time": "2025-04-01T12:09:28.995266Z",
     "start_time": "2025-04-01T12:09:28.887865Z"
    }
   },
   "outputs": [
    {
     "name": "stdout",
     "output_type": "stream",
     "text": [
      "<class 'pandas.core.frame.DataFrame'>\n",
      "RangeIndex: 46582 entries, 0 to 46581\n",
      "Data columns (total 2 columns):\n",
      " #   Column    Non-Null Count  Dtype \n",
      "---  ------    --------------  ----- \n",
      " 0   playerid  46582 non-null  int64 \n",
      " 1   library   46582 non-null  object\n",
      "dtypes: int64(1), object(1)\n",
      "memory usage: 728.0+ KB\n"
     ]
    }
   ],
   "execution_count": 243
  },
  {
   "cell_type": "markdown",
   "source": [
    "#### Trim Data"
   ],
   "metadata": {
    "id": "M1bZYWnzcOtV"
   }
  },
  {
   "cell_type": "code",
   "source": [
    "playstation_purchased_games_df['library'] = \\\n",
    "  playstation_purchased_games_df['library'].str.strip()"
   ],
   "metadata": {
    "id": "TKRownv1cOtV",
    "ExecuteTime": {
     "end_time": "2025-04-01T12:09:29.066979Z",
     "start_time": "2025-04-01T12:09:29.039123Z"
    }
   },
   "outputs": [],
   "execution_count": 244
  },
  {
   "cell_type": "markdown",
   "source": [
    "#### Filter Data"
   ],
   "metadata": {
    "id": "hozXsm2HcOtV"
   }
  },
  {
   "cell_type": "markdown",
   "source": [
    "Filter players that only exist in `playstation_players_df`"
   ],
   "metadata": {
    "id": "8R_aq7T3cOtV"
   }
  },
  {
   "metadata": {
    "id": "NAAvMmFmcOtW",
    "ExecuteTime": {
     "end_time": "2025-04-01T12:09:29.118914Z",
     "start_time": "2025-04-01T12:09:29.099342Z"
    }
   },
   "cell_type": "code",
   "source": [
    "playstation_purchased_games_df = playstation_purchased_games_df[\n",
    "    playstation_purchased_games_df['playerid'].isin(\n",
    "        playstation_players_df['playerid'])\n",
    "]"
   ],
   "outputs": [],
   "execution_count": 245
  },
  {
   "metadata": {
    "id": "tzPUN1MJxCtv",
    "ExecuteTime": {
     "end_time": "2025-04-01T12:09:29.199917Z",
     "start_time": "2025-04-01T12:09:29.191233Z"
    }
   },
   "cell_type": "code",
   "source": [
    "# Convert column to string format\n",
    "playstation_purchased_games_df['library'] = playstation_purchased_games_df['library'].astype(str)"
   ],
   "outputs": [],
   "execution_count": 246
  },
  {
   "cell_type": "markdown",
   "source": [
    "View info again:"
   ],
   "metadata": {
    "id": "JCPP0Y1Ull-2"
   }
  },
  {
   "cell_type": "code",
   "source": [
    "playstation_purchased_games_df.info()"
   ],
   "metadata": {
    "id": "XgOHhMEqll-2",
    "colab": {
     "base_uri": "https://localhost:8080/"
    },
    "outputId": "9119ca1a-0ffd-48ea-fc73-25a59b35c0ea",
    "ExecuteTime": {
     "end_time": "2025-04-01T12:09:29.236799Z",
     "start_time": "2025-04-01T12:09:29.221256Z"
    }
   },
   "outputs": [
    {
     "name": "stdout",
     "output_type": "stream",
     "text": [
      "<class 'pandas.core.frame.DataFrame'>\n",
      "RangeIndex: 46582 entries, 0 to 46581\n",
      "Data columns (total 2 columns):\n",
      " #   Column    Non-Null Count  Dtype \n",
      "---  ------    --------------  ----- \n",
      " 0   playerid  46582 non-null  int64 \n",
      " 1   library   46582 non-null  object\n",
      "dtypes: int64(1), object(1)\n",
      "memory usage: 728.0+ KB\n"
     ]
    }
   ],
   "execution_count": 247
  },
  {
   "cell_type": "markdown",
   "source": [
    "## Steam Data"
   ],
   "metadata": {
    "id": "xWv2Rum2O69K"
   }
  },
  {
   "cell_type": "markdown",
   "source": [
    "### Game Data"
   ],
   "metadata": {
    "id": "6nNgUC5hO69L"
   }
  },
  {
   "cell_type": "markdown",
   "source": [
    "#### Info"
   ],
   "metadata": {
    "id": "23-uLRv6O69L"
   }
  },
  {
   "cell_type": "code",
   "source": [
    "steam_games_df.info()"
   ],
   "metadata": {
    "colab": {
     "base_uri": "https://localhost:8080/"
    },
    "outputId": "7138ce59-3cac-45bf-9b51-685dbe6bbbc1",
    "id": "BFwJKhvEO69L",
    "ExecuteTime": {
     "end_time": "2025-04-01T13:46:02.588766Z",
     "start_time": "2025-04-01T13:46:02.537340Z"
    }
   },
   "outputs": [
    {
     "name": "stdout",
     "output_type": "stream",
     "text": [
      "<class 'pandas.core.frame.DataFrame'>\n",
      "RangeIndex: 98248 entries, 0 to 98247\n",
      "Data columns (total 7 columns):\n",
      " #   Column               Non-Null Count  Dtype \n",
      "---  ------               --------------  ----- \n",
      " 0   gameid               98248 non-null  int64 \n",
      " 1   title                98245 non-null  object\n",
      " 2   developers           92689 non-null  object\n",
      " 3   publishers           92307 non-null  object\n",
      " 4   genres               92699 non-null  object\n",
      " 5   supported_languages  92742 non-null  object\n",
      " 6   release_date         98248 non-null  object\n",
      "dtypes: int64(1), object(6)\n",
      "memory usage: 5.2+ MB\n"
     ]
    }
   ],
   "execution_count": 11
  },
  {
   "cell_type": "markdown",
   "source": [
    "#### Trim Data"
   ],
   "metadata": {
    "id": "r58jKzTsO69L"
   }
  },
  {
   "cell_type": "code",
   "source": [
    "steam_games_df['title'] = \\\n",
    "  steam_games_df['title'].str.strip()\n",
    "\n",
    "steam_games_df['developers'] = \\\n",
    "  steam_games_df['developers'].str.strip()\n",
    "\n",
    "steam_games_df['publishers'] = \\\n",
    "  steam_games_df['publishers'].str.strip()\n",
    "\n",
    "steam_games_df['genres'] = \\\n",
    "  steam_games_df['genres'].str.strip()\n",
    "\n",
    "steam_games_df['supported_languages'] = \\\n",
    "  steam_games_df['supported_languages'].str.strip()\n",
    "\n",
    "steam_games_df['release_date'] = \\\n",
    "  steam_games_df['release_date'].str.strip()"
   ],
   "metadata": {
    "id": "OGzocwNRO69L",
    "ExecuteTime": {
     "end_time": "2025-04-01T13:46:02.690499Z",
     "start_time": "2025-04-01T13:46:02.597982Z"
    }
   },
   "outputs": [],
   "execution_count": 12
  },
  {
   "cell_type": "markdown",
   "source": [
    "#### Convert Data"
   ],
   "metadata": {
    "id": "g6GvPsV7O69L"
   }
  },
  {
   "cell_type": "markdown",
   "source": [
    "`release_date` should be converted to date time type:"
   ],
   "metadata": {
    "id": "gtRMjUjdO69L"
   }
  },
  {
   "cell_type": "code",
   "source": [
    "steam_games_df['release_date'] = pd.to_datetime(\n",
    "    steam_games_df['release_date'],\n",
    "    errors='coerce').dt.strftime('%Y-%m-%d')"
   ],
   "metadata": {
    "id": "nIjUwtGiO69L",
    "ExecuteTime": {
     "end_time": "2025-04-01T13:46:02.789271Z",
     "start_time": "2025-04-01T13:46:02.707817Z"
    }
   },
   "outputs": [],
   "execution_count": 13
  },
  {
   "cell_type": "markdown",
   "source": [
    "#### Remove Duplicates"
   ],
   "metadata": {
    "id": "MvfhNqIqO69M"
   }
  },
  {
   "cell_type": "markdown",
   "source": [
    "Check for duplicated games, developers and publishers:"
   ],
   "metadata": {
    "id": "mXnrJ-shO69M"
   }
  },
  {
   "cell_type": "code",
   "source": [
    "steam_games_df[\n",
    "    steam_games_df.duplicated(\n",
    "        subset=['title', 'developers', 'publishers'],\n",
    "        keep=False\n",
    "    )\n",
    "].sort_values(by=['title', 'developers', 'publishers'])"
   ],
   "metadata": {
    "id": "Fa_KSAKzO69M",
    "colab": {
     "base_uri": "https://localhost:8080/",
     "height": 597
    },
    "outputId": "86c049de-63a2-4ce7-de47-2e395dd70ea9",
    "ExecuteTime": {
     "end_time": "2025-04-01T13:46:02.884307Z",
     "start_time": "2025-04-01T13:46:02.807444Z"
    }
   },
   "outputs": [
    {
     "data": {
      "text/plain": [
       "        gameid               title                  developers publishers  \\\n",
       "88971    34010     Alpha Protocol™  ['Obsidian Entertainment']   ['SEGA']   \n",
       "88972    34019     Alpha Protocol™  ['Obsidian Entertainment']   ['SEGA']   \n",
       "24906  2206090   Artifice Playtest                         NaN        NaN   \n",
       "56711  2447870   Artifice Playtest                         NaN        NaN   \n",
       "69056  2268670  Ascendant Playtest                         NaN        NaN   \n",
       "...        ...                 ...                         ...        ...   \n",
       "19764  2076340      蜀山：初章 Playtest                         NaN        NaN   \n",
       "19765  2076350      蜀山：初章 Playtest                         NaN        NaN   \n",
       "2853   1347240                 NaN                         NaN        NaN   \n",
       "39705  1116910                 NaN                         NaN        NaN   \n",
       "77700   396420                 NaN                         NaN        NaN   \n",
       "\n",
       "                                                  genres  \\\n",
       "88971                                  ['Action', 'RPG']   \n",
       "88972                                  ['Action', 'RPG']   \n",
       "24906                                                NaN   \n",
       "56711                                                NaN   \n",
       "69056                                                NaN   \n",
       "...                                                  ...   \n",
       "19764                                                NaN   \n",
       "19765                                                NaN   \n",
       "2853                                                 NaN   \n",
       "39705  ['Action', 'Adventure', 'Casual', 'Indie', 'RP...   \n",
       "77700                                                NaN   \n",
       "\n",
       "                                     supported_languages release_date  \n",
       "88971  ['English', 'French', 'German', 'Italian', 'Sp...   2010-06-01  \n",
       "88972  ['English', 'French', 'German', 'Italian', 'Sp...   2010-06-01  \n",
       "24906                                                NaN   2022-11-17  \n",
       "56711                                                NaN   2023-06-12  \n",
       "69056                                                NaN   2023-01-13  \n",
       "...                                                  ...          ...  \n",
       "19764                                                NaN   2023-01-12  \n",
       "19765                                                NaN   2022-07-06  \n",
       "2853                                         ['English']   2021-04-20  \n",
       "39705                                                NaN   2019-09-25  \n",
       "77700                                                NaN   2016-11-01  \n",
       "\n",
       "[204 rows x 7 columns]"
      ],
      "text/html": [
       "<div>\n",
       "<style scoped>\n",
       "    .dataframe tbody tr th:only-of-type {\n",
       "        vertical-align: middle;\n",
       "    }\n",
       "\n",
       "    .dataframe tbody tr th {\n",
       "        vertical-align: top;\n",
       "    }\n",
       "\n",
       "    .dataframe thead th {\n",
       "        text-align: right;\n",
       "    }\n",
       "</style>\n",
       "<table border=\"1\" class=\"dataframe\">\n",
       "  <thead>\n",
       "    <tr style=\"text-align: right;\">\n",
       "      <th></th>\n",
       "      <th>gameid</th>\n",
       "      <th>title</th>\n",
       "      <th>developers</th>\n",
       "      <th>publishers</th>\n",
       "      <th>genres</th>\n",
       "      <th>supported_languages</th>\n",
       "      <th>release_date</th>\n",
       "    </tr>\n",
       "  </thead>\n",
       "  <tbody>\n",
       "    <tr>\n",
       "      <th>88971</th>\n",
       "      <td>34010</td>\n",
       "      <td>Alpha Protocol™</td>\n",
       "      <td>['Obsidian Entertainment']</td>\n",
       "      <td>['SEGA']</td>\n",
       "      <td>['Action', 'RPG']</td>\n",
       "      <td>['English', 'French', 'German', 'Italian', 'Sp...</td>\n",
       "      <td>2010-06-01</td>\n",
       "    </tr>\n",
       "    <tr>\n",
       "      <th>88972</th>\n",
       "      <td>34019</td>\n",
       "      <td>Alpha Protocol™</td>\n",
       "      <td>['Obsidian Entertainment']</td>\n",
       "      <td>['SEGA']</td>\n",
       "      <td>['Action', 'RPG']</td>\n",
       "      <td>['English', 'French', 'German', 'Italian', 'Sp...</td>\n",
       "      <td>2010-06-01</td>\n",
       "    </tr>\n",
       "    <tr>\n",
       "      <th>24906</th>\n",
       "      <td>2206090</td>\n",
       "      <td>Artifice Playtest</td>\n",
       "      <td>NaN</td>\n",
       "      <td>NaN</td>\n",
       "      <td>NaN</td>\n",
       "      <td>NaN</td>\n",
       "      <td>2022-11-17</td>\n",
       "    </tr>\n",
       "    <tr>\n",
       "      <th>56711</th>\n",
       "      <td>2447870</td>\n",
       "      <td>Artifice Playtest</td>\n",
       "      <td>NaN</td>\n",
       "      <td>NaN</td>\n",
       "      <td>NaN</td>\n",
       "      <td>NaN</td>\n",
       "      <td>2023-06-12</td>\n",
       "    </tr>\n",
       "    <tr>\n",
       "      <th>69056</th>\n",
       "      <td>2268670</td>\n",
       "      <td>Ascendant Playtest</td>\n",
       "      <td>NaN</td>\n",
       "      <td>NaN</td>\n",
       "      <td>NaN</td>\n",
       "      <td>NaN</td>\n",
       "      <td>2023-01-13</td>\n",
       "    </tr>\n",
       "    <tr>\n",
       "      <th>...</th>\n",
       "      <td>...</td>\n",
       "      <td>...</td>\n",
       "      <td>...</td>\n",
       "      <td>...</td>\n",
       "      <td>...</td>\n",
       "      <td>...</td>\n",
       "      <td>...</td>\n",
       "    </tr>\n",
       "    <tr>\n",
       "      <th>19764</th>\n",
       "      <td>2076340</td>\n",
       "      <td>蜀山：初章 Playtest</td>\n",
       "      <td>NaN</td>\n",
       "      <td>NaN</td>\n",
       "      <td>NaN</td>\n",
       "      <td>NaN</td>\n",
       "      <td>2023-01-12</td>\n",
       "    </tr>\n",
       "    <tr>\n",
       "      <th>19765</th>\n",
       "      <td>2076350</td>\n",
       "      <td>蜀山：初章 Playtest</td>\n",
       "      <td>NaN</td>\n",
       "      <td>NaN</td>\n",
       "      <td>NaN</td>\n",
       "      <td>NaN</td>\n",
       "      <td>2022-07-06</td>\n",
       "    </tr>\n",
       "    <tr>\n",
       "      <th>2853</th>\n",
       "      <td>1347240</td>\n",
       "      <td>NaN</td>\n",
       "      <td>NaN</td>\n",
       "      <td>NaN</td>\n",
       "      <td>NaN</td>\n",
       "      <td>['English']</td>\n",
       "      <td>2021-04-20</td>\n",
       "    </tr>\n",
       "    <tr>\n",
       "      <th>39705</th>\n",
       "      <td>1116910</td>\n",
       "      <td>NaN</td>\n",
       "      <td>NaN</td>\n",
       "      <td>NaN</td>\n",
       "      <td>['Action', 'Adventure', 'Casual', 'Indie', 'RP...</td>\n",
       "      <td>NaN</td>\n",
       "      <td>2019-09-25</td>\n",
       "    </tr>\n",
       "    <tr>\n",
       "      <th>77700</th>\n",
       "      <td>396420</td>\n",
       "      <td>NaN</td>\n",
       "      <td>NaN</td>\n",
       "      <td>NaN</td>\n",
       "      <td>NaN</td>\n",
       "      <td>NaN</td>\n",
       "      <td>2016-11-01</td>\n",
       "    </tr>\n",
       "  </tbody>\n",
       "</table>\n",
       "<p>204 rows × 7 columns</p>\n",
       "</div>"
      ]
     },
     "execution_count": 14,
     "metadata": {},
     "output_type": "execute_result"
    }
   ],
   "execution_count": 14
  },
  {
   "cell_type": "markdown",
   "source": [
    "Remove duplicates:"
   ],
   "metadata": {
    "id": "R_PnqBsQO69M"
   }
  },
  {
   "cell_type": "code",
   "source": [
    "steam_games_df.drop_duplicates(subset=['title', 'developers', 'publishers'], inplace=True)"
   ],
   "metadata": {
    "id": "0x1mRRYWO69M",
    "ExecuteTime": {
     "end_time": "2025-04-01T13:46:02.990821Z",
     "start_time": "2025-04-01T13:46:02.908791Z"
    }
   },
   "outputs": [],
   "execution_count": 15
  },
  {
   "cell_type": "markdown",
   "source": [
    "#### Remove Missing Values"
   ],
   "metadata": {
    "id": "WVnMSWtlTUef"
   }
  },
  {
   "cell_type": "markdown",
   "source": [
    "Remove games with missing title:"
   ],
   "metadata": {
    "id": "tz1r3GD7TUef"
   }
  },
  {
   "cell_type": "code",
   "source": [
    "steam_games_df.dropna(subset=['title'], inplace=True)"
   ],
   "metadata": {
    "id": "sKEuPQE-TUeg",
    "ExecuteTime": {
     "end_time": "2025-04-01T13:46:03.043726Z",
     "start_time": "2025-04-01T13:46:03.020680Z"
    }
   },
   "outputs": [],
   "execution_count": 16
  },
  {
   "cell_type": "markdown",
   "source": [
    "View info again:"
   ],
   "metadata": {
    "id": "E3ba8iZ1mept"
   }
  },
  {
   "cell_type": "code",
   "source": [
    "steam_games_df.info()"
   ],
   "metadata": {
    "colab": {
     "base_uri": "https://localhost:8080/"
    },
    "outputId": "47d9ea60-80b0-49c9-8b7a-f24dc4feb85d",
    "id": "v4G5H-xCmept",
    "ExecuteTime": {
     "end_time": "2025-04-01T13:46:03.124108Z",
     "start_time": "2025-04-01T13:46:03.093601Z"
    }
   },
   "outputs": [
    {
     "name": "stdout",
     "output_type": "stream",
     "text": [
      "<class 'pandas.core.frame.DataFrame'>\n",
      "Index: 98125 entries, 0 to 98247\n",
      "Data columns (total 7 columns):\n",
      " #   Column               Non-Null Count  Dtype \n",
      "---  ------               --------------  ----- \n",
      " 0   gameid               98125 non-null  int64 \n",
      " 1   title                98125 non-null  object\n",
      " 2   developers           92586 non-null  object\n",
      " 3   publishers           92201 non-null  object\n",
      " 4   genres               92590 non-null  object\n",
      " 5   supported_languages  92633 non-null  object\n",
      " 6   release_date         98125 non-null  object\n",
      "dtypes: int64(1), object(6)\n",
      "memory usage: 6.0+ MB\n"
     ]
    }
   ],
   "execution_count": 17
  },
  {
   "cell_type": "markdown",
   "source": [
    "### Achievement Data"
   ],
   "metadata": {
    "id": "YuuWWkWeO69M"
   }
  },
  {
   "cell_type": "markdown",
   "source": [
    "#### Info"
   ],
   "metadata": {
    "id": "YGTB726oO69M"
   }
  },
  {
   "cell_type": "code",
   "source": [
    "steam_achievements_df.info()"
   ],
   "metadata": {
    "id": "fr5bUtTBO69N",
    "colab": {
     "base_uri": "https://localhost:8080/"
    },
    "outputId": "b8e1cb69-d942-464f-984e-d30d8fa6f95c",
    "ExecuteTime": {
     "end_time": "2025-04-01T13:46:03.193737Z",
     "start_time": "2025-04-01T13:46:03.188484Z"
    }
   },
   "outputs": [
    {
     "name": "stdout",
     "output_type": "stream",
     "text": [
      "<class 'pandas.core.frame.DataFrame'>\n",
      "RangeIndex: 1939027 entries, 0 to 1939026\n",
      "Data columns (total 4 columns):\n",
      " #   Column         Dtype \n",
      "---  ------         ----- \n",
      " 0   achievementid  object\n",
      " 1   gameid         int64 \n",
      " 2   title          object\n",
      " 3   description    object\n",
      "dtypes: int64(1), object(3)\n",
      "memory usage: 59.2+ MB\n"
     ]
    }
   ],
   "execution_count": 18
  },
  {
   "cell_type": "markdown",
   "source": [
    "#### Trim Data"
   ],
   "metadata": {
    "id": "iHdpK4jVO69N"
   }
  },
  {
   "cell_type": "code",
   "source": [
    "steam_achievements_df['achievementid'] = \\\n",
    "  steam_achievements_df['achievementid'].str.strip()\n",
    "\n",
    "steam_achievements_df['title'] = \\\n",
    "  steam_achievements_df['title'].str.strip()\n",
    "\n",
    "steam_achievements_df['description'] = \\\n",
    "  steam_achievements_df['description'].str.strip()"
   ],
   "metadata": {
    "id": "G8NQ1KX3O69N",
    "ExecuteTime": {
     "end_time": "2025-04-01T13:46:04.117353Z",
     "start_time": "2025-04-01T13:46:03.261153Z"
    }
   },
   "outputs": [],
   "execution_count": 19
  },
  {
   "cell_type": "markdown",
   "source": [
    "#### Filter Data"
   ],
   "metadata": {
    "id": "zbRv7ipQO69N"
   }
  },
  {
   "cell_type": "markdown",
   "source": [
    "Filter achievements having gameid that only exist in `steam_games_df`"
   ],
   "metadata": {
    "id": "xpE7V1_4O69N"
   }
  },
  {
   "cell_type": "code",
   "source": [
    "steam_achievements_df = steam_achievements_df[\n",
    "    steam_achievements_df['gameid'].isin(steam_games_df['gameid'])\n",
    "]"
   ],
   "metadata": {
    "id": "ocakTtgOO69N",
    "ExecuteTime": {
     "end_time": "2025-04-01T13:46:04.280557Z",
     "start_time": "2025-04-01T13:46:04.134996Z"
    }
   },
   "outputs": [],
   "execution_count": 20
  },
  {
   "cell_type": "markdown",
   "source": [
    "Filter achievements having id length smaller than 255:"
   ],
   "metadata": {
    "id": "-O_W6ueBg6In"
   }
  },
  {
   "cell_type": "code",
   "source": [
    "steam_achievements_df = steam_achievements_df[\n",
    "    steam_achievements_df['achievementid'].str.len() <= 255]"
   ],
   "metadata": {
    "id": "9p-hl116g_SP",
    "ExecuteTime": {
     "end_time": "2025-04-01T13:46:04.833493Z",
     "start_time": "2025-04-01T13:46:04.295549Z"
    }
   },
   "outputs": [],
   "execution_count": 21
  },
  {
   "cell_type": "markdown",
   "source": [
    "#### About Duplicated Achievements"
   ],
   "metadata": {
    "id": "h31ZRMH9O69N"
   }
  },
  {
   "cell_type": "markdown",
   "source": [
    "Steam does not allow duplicate achievements for a single game."
   ],
   "metadata": {
    "id": "gh9j3X7YO69N"
   }
  },
  {
   "cell_type": "markdown",
   "source": [
    "#### Remove Duplicates"
   ],
   "metadata": {
    "id": "eIYIW4bnUC8Q"
   }
  },
  {
   "cell_type": "markdown",
   "source": [
    "Check for achievements with duplicated title and descriptiom:"
   ],
   "metadata": {
    "id": "gdKlniOLULVv"
   }
  },
  {
   "cell_type": "code",
   "source": [
    "steam_achievements_df[\n",
    "    steam_achievements_df.duplicated(\n",
    "        subset=['title', 'description'],\n",
    "        keep=False\n",
    "    )\n",
    "].sort_values(by=['title', 'description'])"
   ],
   "metadata": {
    "id": "_8IbeZbAULVv",
    "colab": {
     "base_uri": "https://localhost:8080/",
     "height": 423
    },
    "outputId": "3c020527-6768-4bfb-e77a-3609a5cc88aa",
    "ExecuteTime": {
     "end_time": "2025-04-01T13:46:06.172127Z",
     "start_time": "2025-04-01T13:46:04.850998Z"
    }
   },
   "outputs": [
    {
     "data": {
      "text/plain": [
       "                        achievementid   gameid title description\n",
       "144687   806140_NEW_ACHIEVEMENT_61_28   806140                  \n",
       "144688   806140_NEW_ACHIEVEMENT_61_29   806140                  \n",
       "144693    806140_NEW_ACHIEVEMENT_62_2   806140                  \n",
       "144694    806140_NEW_ACHIEVEMENT_62_3   806140                  \n",
       "144695    806140_NEW_ACHIEVEMENT_62_4   806140                  \n",
       "...                               ...      ...   ...         ...\n",
       "1646881  2206130_NEW_ACHIEVEMENT_1_25  2206130   NaN         NaN\n",
       "1646882  2206130_NEW_ACHIEVEMENT_1_26  2206130   NaN         NaN\n",
       "1646883  2206130_NEW_ACHIEVEMENT_1_27  2206130   NaN         NaN\n",
       "1646884  2206130_NEW_ACHIEVEMENT_1_28  2206130   NaN         NaN\n",
       "1646885  2206130_NEW_ACHIEVEMENT_1_29  2206130   NaN         NaN\n",
       "\n",
       "[670464 rows x 4 columns]"
      ],
      "text/html": [
       "<div>\n",
       "<style scoped>\n",
       "    .dataframe tbody tr th:only-of-type {\n",
       "        vertical-align: middle;\n",
       "    }\n",
       "\n",
       "    .dataframe tbody tr th {\n",
       "        vertical-align: top;\n",
       "    }\n",
       "\n",
       "    .dataframe thead th {\n",
       "        text-align: right;\n",
       "    }\n",
       "</style>\n",
       "<table border=\"1\" class=\"dataframe\">\n",
       "  <thead>\n",
       "    <tr style=\"text-align: right;\">\n",
       "      <th></th>\n",
       "      <th>achievementid</th>\n",
       "      <th>gameid</th>\n",
       "      <th>title</th>\n",
       "      <th>description</th>\n",
       "    </tr>\n",
       "  </thead>\n",
       "  <tbody>\n",
       "    <tr>\n",
       "      <th>144687</th>\n",
       "      <td>806140_NEW_ACHIEVEMENT_61_28</td>\n",
       "      <td>806140</td>\n",
       "      <td></td>\n",
       "      <td></td>\n",
       "    </tr>\n",
       "    <tr>\n",
       "      <th>144688</th>\n",
       "      <td>806140_NEW_ACHIEVEMENT_61_29</td>\n",
       "      <td>806140</td>\n",
       "      <td></td>\n",
       "      <td></td>\n",
       "    </tr>\n",
       "    <tr>\n",
       "      <th>144693</th>\n",
       "      <td>806140_NEW_ACHIEVEMENT_62_2</td>\n",
       "      <td>806140</td>\n",
       "      <td></td>\n",
       "      <td></td>\n",
       "    </tr>\n",
       "    <tr>\n",
       "      <th>144694</th>\n",
       "      <td>806140_NEW_ACHIEVEMENT_62_3</td>\n",
       "      <td>806140</td>\n",
       "      <td></td>\n",
       "      <td></td>\n",
       "    </tr>\n",
       "    <tr>\n",
       "      <th>144695</th>\n",
       "      <td>806140_NEW_ACHIEVEMENT_62_4</td>\n",
       "      <td>806140</td>\n",
       "      <td></td>\n",
       "      <td></td>\n",
       "    </tr>\n",
       "    <tr>\n",
       "      <th>...</th>\n",
       "      <td>...</td>\n",
       "      <td>...</td>\n",
       "      <td>...</td>\n",
       "      <td>...</td>\n",
       "    </tr>\n",
       "    <tr>\n",
       "      <th>1646881</th>\n",
       "      <td>2206130_NEW_ACHIEVEMENT_1_25</td>\n",
       "      <td>2206130</td>\n",
       "      <td>NaN</td>\n",
       "      <td>NaN</td>\n",
       "    </tr>\n",
       "    <tr>\n",
       "      <th>1646882</th>\n",
       "      <td>2206130_NEW_ACHIEVEMENT_1_26</td>\n",
       "      <td>2206130</td>\n",
       "      <td>NaN</td>\n",
       "      <td>NaN</td>\n",
       "    </tr>\n",
       "    <tr>\n",
       "      <th>1646883</th>\n",
       "      <td>2206130_NEW_ACHIEVEMENT_1_27</td>\n",
       "      <td>2206130</td>\n",
       "      <td>NaN</td>\n",
       "      <td>NaN</td>\n",
       "    </tr>\n",
       "    <tr>\n",
       "      <th>1646884</th>\n",
       "      <td>2206130_NEW_ACHIEVEMENT_1_28</td>\n",
       "      <td>2206130</td>\n",
       "      <td>NaN</td>\n",
       "      <td>NaN</td>\n",
       "    </tr>\n",
       "    <tr>\n",
       "      <th>1646885</th>\n",
       "      <td>2206130_NEW_ACHIEVEMENT_1_29</td>\n",
       "      <td>2206130</td>\n",
       "      <td>NaN</td>\n",
       "      <td>NaN</td>\n",
       "    </tr>\n",
       "  </tbody>\n",
       "</table>\n",
       "<p>670464 rows × 4 columns</p>\n",
       "</div>"
      ]
     },
     "execution_count": 22,
     "metadata": {},
     "output_type": "execute_result"
    }
   ],
   "execution_count": 22
  },
  {
   "cell_type": "markdown",
   "source": [],
   "metadata": {
    "id": "LQkyoiP5VXQw"
   }
  },
  {
   "cell_type": "markdown",
   "source": [
    "Remove duplicates:"
   ],
   "metadata": {
    "id": "YfoSYgUhULVw"
   }
  },
  {
   "cell_type": "code",
   "source": [
    "steam_achievements_df.drop_duplicates(subset=['achievementid'], inplace=True)\n",
    "steam_achievements_df.drop_duplicates(subset=['title', 'description'], inplace=True)"
   ],
   "metadata": {
    "id": "Qb2yuNrEULVw",
    "ExecuteTime": {
     "end_time": "2025-04-01T13:46:07.893255Z",
     "start_time": "2025-04-01T13:46:06.277023Z"
    }
   },
   "outputs": [],
   "execution_count": 23
  },
  {
   "cell_type": "markdown",
   "source": [
    "#### Remove Missing Values"
   ],
   "metadata": {
    "id": "mSWjUC4KO69O"
   }
  },
  {
   "cell_type": "markdown",
   "source": [
    "Remove achievements with missing title:"
   ],
   "metadata": {
    "id": "hu-LDavnO69O"
   }
  },
  {
   "cell_type": "code",
   "source": [
    "steam_achievements_df.dropna(subset=['title'], inplace=True)"
   ],
   "metadata": {
    "id": "kD87pTsxO69O",
    "ExecuteTime": {
     "end_time": "2025-04-01T13:46:08.069485Z",
     "start_time": "2025-04-01T13:46:07.921570Z"
    }
   },
   "outputs": [],
   "execution_count": 24
  },
  {
   "cell_type": "markdown",
   "source": [
    "View info again:"
   ],
   "metadata": {
    "id": "nNE6G7vlniYP"
   }
  },
  {
   "cell_type": "code",
   "source": [
    "steam_achievements_df.info()"
   ],
   "metadata": {
    "colab": {
     "base_uri": "https://localhost:8080/"
    },
    "outputId": "ef2a0287-eea6-43c0-b8e4-8a7174114dbd",
    "id": "WLe1CgwWniYP",
    "ExecuteTime": {
     "end_time": "2025-04-01T13:46:08.220860Z",
     "start_time": "2025-04-01T13:46:08.083708Z"
    }
   },
   "outputs": [
    {
     "name": "stdout",
     "output_type": "stream",
     "text": [
      "<class 'pandas.core.frame.DataFrame'>\n",
      "Index: 1330877 entries, 0 to 1939026\n",
      "Data columns (total 4 columns):\n",
      " #   Column         Non-Null Count    Dtype \n",
      "---  ------         --------------    ----- \n",
      " 0   achievementid  1330877 non-null  object\n",
      " 1   gameid         1330877 non-null  int64 \n",
      " 2   title          1330877 non-null  object\n",
      " 3   description    1192444 non-null  object\n",
      "dtypes: int64(1), object(3)\n",
      "memory usage: 50.8+ MB\n"
     ]
    }
   ],
   "execution_count": 25
  },
  {
   "cell_type": "markdown",
   "source": [
    "### Player Data"
   ],
   "metadata": {
    "id": "8X_T1L_3O69O"
   }
  },
  {
   "cell_type": "markdown",
   "source": [
    "#### Info"
   ],
   "metadata": {
    "id": "UsscqOBUO69O"
   }
  },
  {
   "cell_type": "code",
   "source": [
    "steam_players_df.info()"
   ],
   "metadata": {
    "id": "Vitqgh2nO69O",
    "colab": {
     "base_uri": "https://localhost:8080/"
    },
    "outputId": "72818e63-e8d2-4006-bc88-8649b69583ce",
    "ExecuteTime": {
     "end_time": "2025-04-01T13:46:08.291985Z",
     "start_time": "2025-04-01T13:46:08.260301Z"
    }
   },
   "outputs": [
    {
     "name": "stdout",
     "output_type": "stream",
     "text": [
      "<class 'pandas.core.frame.DataFrame'>\n",
      "RangeIndex: 424683 entries, 0 to 424682\n",
      "Data columns (total 3 columns):\n",
      " #   Column    Non-Null Count   Dtype \n",
      "---  ------    --------------   ----- \n",
      " 0   playerid  424683 non-null  int64 \n",
      " 1   country   246815 non-null  object\n",
      " 2   created   377014 non-null  object\n",
      "dtypes: int64(1), object(2)\n",
      "memory usage: 9.7+ MB\n"
     ]
    }
   ],
   "execution_count": 26
  },
  {
   "cell_type": "markdown",
   "source": [
    "#### Trim Data"
   ],
   "metadata": {
    "id": "ZoJuulThO69O"
   }
  },
  {
   "cell_type": "code",
   "source": [
    "steam_players_df['country'] = \\\n",
    "  steam_players_df['country'].str.strip()\n",
    "\n",
    "steam_players_df['created'] = \\\n",
    "  steam_players_df['created'].str.strip()"
   ],
   "metadata": {
    "id": "abxus6RoO69O",
    "ExecuteTime": {
     "end_time": "2025-04-01T13:46:08.421101Z",
     "start_time": "2025-04-01T13:46:08.318618Z"
    }
   },
   "outputs": [],
   "execution_count": 27
  },
  {
   "cell_type": "markdown",
   "source": [
    "#### Convert Data"
   ],
   "metadata": {
    "id": "oXtYaqberQrP"
   }
  },
  {
   "cell_type": "markdown",
   "source": [
    "`created` should be converted to date time type:"
   ],
   "metadata": {
    "id": "CmIKrZm3rQrb"
   }
  },
  {
   "cell_type": "code",
   "source": [
    "steam_players_df['created'] = pd.to_datetime(\n",
    "    steam_players_df['created'], errors='coerce')"
   ],
   "metadata": {
    "id": "tuVSRofnrQrb",
    "ExecuteTime": {
     "end_time": "2025-04-01T13:46:08.581716Z",
     "start_time": "2025-04-01T13:46:08.436841Z"
    }
   },
   "outputs": [],
   "execution_count": 28
  },
  {
   "cell_type": "markdown",
   "source": [
    "View info again:"
   ],
   "metadata": {
    "id": "I_0AxgKrralg"
   }
  },
  {
   "cell_type": "code",
   "source": [
    "steam_players_df.info()"
   ],
   "metadata": {
    "colab": {
     "base_uri": "https://localhost:8080/"
    },
    "outputId": "22826b5e-c87a-49c0-fc5f-49cc11b61c8d",
    "id": "WmcTzAF1ralg",
    "ExecuteTime": {
     "end_time": "2025-04-01T13:46:08.620275Z",
     "start_time": "2025-04-01T13:46:08.601015Z"
    }
   },
   "outputs": [
    {
     "name": "stdout",
     "output_type": "stream",
     "text": [
      "<class 'pandas.core.frame.DataFrame'>\n",
      "RangeIndex: 424683 entries, 0 to 424682\n",
      "Data columns (total 3 columns):\n",
      " #   Column    Non-Null Count   Dtype         \n",
      "---  ------    --------------   -----         \n",
      " 0   playerid  424683 non-null  int64         \n",
      " 1   country   246815 non-null  object        \n",
      " 2   created   377014 non-null  datetime64[ns]\n",
      "dtypes: datetime64[ns](1), int64(1), object(1)\n",
      "memory usage: 9.7+ MB\n"
     ]
    }
   ],
   "execution_count": 29
  },
  {
   "cell_type": "markdown",
   "source": [
    "### Friend Data"
   ],
   "metadata": {
    "id": "UezdpmFbr-1F"
   }
  },
  {
   "cell_type": "markdown",
   "source": [
    "#### Info"
   ],
   "metadata": {
    "id": "1Ur7_UURr-1F"
   }
  },
  {
   "cell_type": "code",
   "source": [
    "steam_friends_df.info()"
   ],
   "metadata": {
    "colab": {
     "base_uri": "https://localhost:8080/"
    },
    "outputId": "06445ca8-ef07-4466-ce92-e1bbaabba7f1",
    "id": "bo1o64qDr-1F",
    "ExecuteTime": {
     "end_time": "2025-04-01T13:46:08.697223Z",
     "start_time": "2025-04-01T13:46:08.645561Z"
    }
   },
   "outputs": [
    {
     "name": "stdout",
     "output_type": "stream",
     "text": [
      "<class 'pandas.core.frame.DataFrame'>\n",
      "RangeIndex: 424683 entries, 0 to 424682\n",
      "Data columns (total 2 columns):\n",
      " #   Column    Non-Null Count   Dtype \n",
      "---  ------    --------------   ----- \n",
      " 0   playerid  424683 non-null  int64 \n",
      " 1   friends   339461 non-null  object\n",
      "dtypes: int64(1), object(1)\n",
      "memory usage: 6.5+ MB\n"
     ]
    }
   ],
   "execution_count": 30
  },
  {
   "cell_type": "markdown",
   "source": [
    "#### Trim Data"
   ],
   "metadata": {
    "id": "8bXq9cpfr-1F"
   }
  },
  {
   "cell_type": "code",
   "source": [
    "steam_friends_df['friends'] = \\\n",
    "  steam_friends_df['friends'].str.strip()"
   ],
   "metadata": {
    "id": "5pbDYQnor-1F",
    "ExecuteTime": {
     "end_time": "2025-04-01T13:46:08.892054Z",
     "start_time": "2025-04-01T13:46:08.738917Z"
    }
   },
   "outputs": [],
   "execution_count": 31
  },
  {
   "cell_type": "markdown",
   "source": [
    "#### Filter Data"
   ],
   "metadata": {
    "id": "c8swYLSusetT"
   }
  },
  {
   "cell_type": "markdown",
   "source": [
    "Filter games that only exist in `steam_players_df`"
   ],
   "metadata": {
    "id": "1wSAwJ8jsetT"
   }
  },
  {
   "cell_type": "code",
   "source": [
    "steam_friends_df = steam_friends_df[\n",
    "    steam_friends_df['playerid'].isin(steam_players_df['playerid'])\n",
    "]"
   ],
   "metadata": {
    "id": "qvO-h9WcsetU",
    "ExecuteTime": {
     "end_time": "2025-04-01T13:46:08.952646Z",
     "start_time": "2025-04-01T13:46:08.907840Z"
    }
   },
   "outputs": [],
   "execution_count": 32
  },
  {
   "cell_type": "markdown",
   "source": [
    "#### Remove Missing Values"
   ],
   "metadata": {
    "id": "P0t7WAbIsRAq"
   }
  },
  {
   "cell_type": "markdown",
   "source": [
    "Remove players with no friends:"
   ],
   "metadata": {
    "id": "atZqMM2wsRAq"
   }
  },
  {
   "cell_type": "code",
   "source": [
    "steam_friends_df.dropna(subset=['friends'], inplace=True)"
   ],
   "metadata": {
    "id": "_1whsFqtsRAq",
    "ExecuteTime": {
     "end_time": "2025-04-01T13:46:09.032369Z",
     "start_time": "2025-04-01T13:46:08.968388Z"
    }
   },
   "outputs": [],
   "execution_count": 33
  },
  {
   "cell_type": "markdown",
   "source": [
    "View info again:"
   ],
   "metadata": {
    "id": "me26iBnusRAr"
   }
  },
  {
   "cell_type": "code",
   "source": [
    "steam_friends_df.info()"
   ],
   "metadata": {
    "colab": {
     "base_uri": "https://localhost:8080/"
    },
    "outputId": "c12f2fbd-229e-4a6f-d0e5-326a71d481e4",
    "id": "_ZKnVIIssRAr",
    "ExecuteTime": {
     "end_time": "2025-04-01T13:46:09.096241Z",
     "start_time": "2025-04-01T13:46:09.048741Z"
    }
   },
   "outputs": [
    {
     "name": "stdout",
     "output_type": "stream",
     "text": [
      "<class 'pandas.core.frame.DataFrame'>\n",
      "Index: 339461 entries, 0 to 424682\n",
      "Data columns (total 2 columns):\n",
      " #   Column    Non-Null Count   Dtype \n",
      "---  ------    --------------   ----- \n",
      " 0   playerid  339461 non-null  int64 \n",
      " 1   friends   339461 non-null  object\n",
      "dtypes: int64(1), object(1)\n",
      "memory usage: 7.8+ MB\n"
     ]
    }
   ],
   "execution_count": 34
  },
  {
   "cell_type": "markdown",
   "source": [
    "### History Data"
   ],
   "metadata": {
    "id": "iBXFY8s8O69P"
   }
  },
  {
   "cell_type": "markdown",
   "source": [
    "#### Info"
   ],
   "metadata": {
    "id": "OQoZ4mh_O69P"
   }
  },
  {
   "cell_type": "code",
   "source": [
    "steam_history_df.info()"
   ],
   "metadata": {
    "id": "zXCkaKtMO69P",
    "colab": {
     "base_uri": "https://localhost:8080/"
    },
    "outputId": "c1ac0451-6d0f-4c03-df0b-a911862861b0",
    "ExecuteTime": {
     "end_time": "2025-04-01T13:46:09.140187Z",
     "start_time": "2025-04-01T13:46:09.134464Z"
    }
   },
   "outputs": [
    {
     "name": "stdout",
     "output_type": "stream",
     "text": [
      "<class 'pandas.core.frame.DataFrame'>\n",
      "RangeIndex: 10693879 entries, 0 to 10693878\n",
      "Data columns (total 3 columns):\n",
      " #   Column         Dtype \n",
      "---  ------         ----- \n",
      " 0   playerid       int64 \n",
      " 1   achievementid  object\n",
      " 2   date_acquired  object\n",
      "dtypes: int64(1), object(2)\n",
      "memory usage: 244.8+ MB\n"
     ]
    }
   ],
   "execution_count": 35
  },
  {
   "cell_type": "markdown",
   "source": [
    "#### Trim Data"
   ],
   "metadata": {
    "id": "0h_TmiNrO69P"
   }
  },
  {
   "cell_type": "code",
   "source": [
    "steam_history_df['achievementid'] = \\\n",
    "  steam_history_df['achievementid'].str.strip()\n",
    "\n",
    "steam_history_df['date_acquired'] = \\\n",
    "  steam_history_df['date_acquired'].str.strip()"
   ],
   "metadata": {
    "id": "FAjJ5Fa2O69P",
    "ExecuteTime": {
     "end_time": "2025-04-01T13:46:12.127009Z",
     "start_time": "2025-04-01T13:46:09.213166Z"
    }
   },
   "outputs": [],
   "execution_count": 36
  },
  {
   "cell_type": "markdown",
   "source": [
    "#### Convert Data"
   ],
   "metadata": {
    "id": "oOpHY9SCO69P"
   }
  },
  {
   "cell_type": "markdown",
   "source": [
    "`date_acquired` should be converted to date time type:"
   ],
   "metadata": {
    "id": "sWZuAH3UO69P"
   }
  },
  {
   "cell_type": "code",
   "source": [
    "steam_history_df['date_acquired'] = pd.to_datetime(\n",
    "    steam_history_df['date_acquired'],\n",
    "    errors='coerce').dt.strftime('%Y-%m-%d %H:%M:%S')"
   ],
   "metadata": {
    "id": "BpKiyDrqO69P",
    "ExecuteTime": {
     "end_time": "2025-04-01T13:46:28.118189Z",
     "start_time": "2025-04-01T13:46:12.143175Z"
    }
   },
   "outputs": [],
   "execution_count": 37
  },
  {
   "cell_type": "markdown",
   "source": [
    "#### Filter Data"
   ],
   "metadata": {
    "id": "LCrYhri3O69P"
   }
  },
  {
   "cell_type": "markdown",
   "source": [
    "Filter history records that only exist in `steam_achievements_df` and `steam_players_df`"
   ],
   "metadata": {
    "id": "Nyaf_dWIO69P"
   }
  },
  {
   "cell_type": "code",
   "source": [
    "steam_history_df = steam_history_df[\n",
    "    steam_history_df['achievementid'].isin(\n",
    "        steam_achievements_df['achievementid']) &\n",
    "    steam_history_df['playerid'].isin(\n",
    "        steam_players_df['playerid'])\n",
    "]"
   ],
   "metadata": {
    "id": "oOIiLnQmO69P",
    "ExecuteTime": {
     "end_time": "2025-04-01T13:46:31.661399Z",
     "start_time": "2025-04-01T13:46:28.134620Z"
    }
   },
   "outputs": [],
   "execution_count": 38
  },
  {
   "cell_type": "markdown",
   "source": [
    "View info again:"
   ],
   "metadata": {
    "id": "LjH4VaUjtNP9"
   }
  },
  {
   "cell_type": "code",
   "source": [
    "steam_history_df.info()"
   ],
   "metadata": {
    "colab": {
     "base_uri": "https://localhost:8080/"
    },
    "outputId": "e2e70f40-1b4a-4179-9b78-83d409dfaeff",
    "id": "IvTzX5D4tNP9",
    "ExecuteTime": {
     "end_time": "2025-04-01T13:46:31.688456Z",
     "start_time": "2025-04-01T13:46:31.681045Z"
    }
   },
   "outputs": [
    {
     "name": "stdout",
     "output_type": "stream",
     "text": [
      "<class 'pandas.core.frame.DataFrame'>\n",
      "Index: 5362397 entries, 0 to 10693878\n",
      "Data columns (total 3 columns):\n",
      " #   Column         Dtype \n",
      "---  ------         ----- \n",
      " 0   playerid       int64 \n",
      " 1   achievementid  object\n",
      " 2   date_acquired  object\n",
      "dtypes: int64(1), object(2)\n",
      "memory usage: 163.6+ MB\n"
     ]
    }
   ],
   "execution_count": 39
  },
  {
   "cell_type": "markdown",
   "source": [
    "### Price Data"
   ],
   "metadata": {
    "id": "i6_5Ma0YO69Q"
   }
  },
  {
   "cell_type": "markdown",
   "source": [
    "#### Info"
   ],
   "metadata": {
    "id": "b_Szn3k8O69Q"
   }
  },
  {
   "cell_type": "code",
   "source": [
    "steam_prices_df.info()"
   ],
   "metadata": {
    "id": "O-smCRBDO69Q",
    "colab": {
     "base_uri": "https://localhost:8080/"
    },
    "outputId": "023f6565-7d1b-49ce-a9e2-edf46bb2dc1a",
    "ExecuteTime": {
     "end_time": "2025-04-01T13:46:31.746144Z",
     "start_time": "2025-04-01T13:46:31.738576Z"
    }
   },
   "outputs": [
    {
     "name": "stdout",
     "output_type": "stream",
     "text": [
      "<class 'pandas.core.frame.DataFrame'>\n",
      "RangeIndex: 4414273 entries, 0 to 4414272\n",
      "Data columns (total 7 columns):\n",
      " #   Column         Dtype  \n",
      "---  ------         -----  \n",
      " 0   gameid         int64  \n",
      " 1   usd            float64\n",
      " 2   eur            float64\n",
      " 3   gbp            float64\n",
      " 4   jpy            float64\n",
      " 5   rub            float64\n",
      " 6   date_acquired  object \n",
      "dtypes: float64(5), int64(1), object(1)\n",
      "memory usage: 235.7+ MB\n"
     ]
    }
   ],
   "execution_count": 40
  },
  {
   "cell_type": "markdown",
   "source": [
    "#### Trim Data"
   ],
   "metadata": {
    "id": "Q9_SQnrsO69Q"
   }
  },
  {
   "cell_type": "code",
   "source": [
    "steam_prices_df['date_acquired'] = \\\n",
    "  steam_prices_df['date_acquired'].str.strip()"
   ],
   "metadata": {
    "id": "fYuACUxFO69Q",
    "ExecuteTime": {
     "end_time": "2025-04-01T13:46:32.371610Z",
     "start_time": "2025-04-01T13:46:31.789440Z"
    }
   },
   "outputs": [],
   "execution_count": 41
  },
  {
   "cell_type": "markdown",
   "source": [
    "#### Convert Data"
   ],
   "metadata": {
    "id": "d2YLjMzhO69Q"
   }
  },
  {
   "cell_type": "markdown",
   "source": [
    "`date_acquired` should be converted to date time type:"
   ],
   "metadata": {
    "id": "OgFpL6mjO69Q"
   }
  },
  {
   "cell_type": "code",
   "source": [
    "steam_prices_df['date_acquired'] = pd.to_datetime(\n",
    "    steam_prices_df['date_acquired'],\n",
    "    errors='coerce').dt.strftime('%Y-%m-%d %H:%M:%S')"
   ],
   "metadata": {
    "id": "mLeAD-v3O69Q",
    "ExecuteTime": {
     "end_time": "2025-04-01T13:46:37.827438Z",
     "start_time": "2025-04-01T13:46:32.386798Z"
    }
   },
   "outputs": [],
   "execution_count": 42
  },
  {
   "cell_type": "markdown",
   "source": [
    "#### Filter Data"
   ],
   "metadata": {
    "id": "T5vo7gvPO69Q"
   }
  },
  {
   "cell_type": "markdown",
   "source": [
    "Filter prices that only exist in `playstation_games_df`"
   ],
   "metadata": {
    "id": "Vqt6SrxKO69Q"
   }
  },
  {
   "cell_type": "code",
   "source": [
    "steam_prices_df = steam_prices_df[\n",
    "    steam_prices_df['gameid'].isin(steam_games_df['gameid'])\n",
    "]"
   ],
   "metadata": {
    "id": "WKTu6a6LO69Q",
    "ExecuteTime": {
     "end_time": "2025-04-01T13:46:38.139743Z",
     "start_time": "2025-04-01T13:46:37.842809Z"
    }
   },
   "outputs": [],
   "execution_count": 43
  },
  {
   "cell_type": "markdown",
   "source": [
    "#### Remove Missing Values"
   ],
   "metadata": {
    "id": "R8KTMJvAt2Zn"
   }
  },
  {
   "cell_type": "markdown",
   "source": [
    "Remove prices with missing date acquired:"
   ],
   "metadata": {
    "id": "RvnEd_m5t2Zn"
   }
  },
  {
   "cell_type": "code",
   "source": "steam_prices_df.dropna(subset=['date_acquired'], inplace=True)",
   "metadata": {
    "id": "CmbAuGB4t2Zn",
    "ExecuteTime": {
     "end_time": "2025-04-01T13:46:38.286173Z",
     "start_time": "2025-04-01T13:46:38.155750Z"
    }
   },
   "outputs": [],
   "execution_count": 44
  },
  {
   "metadata": {},
   "cell_type": "markdown",
   "source": "Remove prices with empty currency data:"
  },
  {
   "metadata": {
    "ExecuteTime": {
     "end_time": "2025-04-01T13:46:38.951407Z",
     "start_time": "2025-04-01T13:46:38.302334Z"
    }
   },
   "cell_type": "code",
   "source": [
    "# Keep rows with at least 1 column has data in selected columns\n",
    "steam_prices_df.dropna(subset=['usd', 'eur', 'gbp', 'jpy', 'rub'], thresh=1, inplace=True)"
   ],
   "outputs": [],
   "execution_count": 45
  },
  {
   "cell_type": "markdown",
   "source": [
    "View info again:"
   ],
   "metadata": {
    "id": "4kLdFHoBtufM"
   }
  },
  {
   "cell_type": "code",
   "source": [
    "steam_prices_df.info()"
   ],
   "metadata": {
    "colab": {
     "base_uri": "https://localhost:8080/"
    },
    "outputId": "5178666f-7e66-487f-f89d-703e2a07f6ae",
    "id": "f-_YWyUYtufN",
    "ExecuteTime": {
     "end_time": "2025-04-01T13:46:38.975592Z",
     "start_time": "2025-04-01T13:46:38.969355Z"
    }
   },
   "outputs": [
    {
     "name": "stdout",
     "output_type": "stream",
     "text": [
      "<class 'pandas.core.frame.DataFrame'>\n",
      "Index: 3499754 entries, 5 to 4414272\n",
      "Data columns (total 7 columns):\n",
      " #   Column         Dtype  \n",
      "---  ------         -----  \n",
      " 0   gameid         int64  \n",
      " 1   usd            float64\n",
      " 2   eur            float64\n",
      " 3   gbp            float64\n",
      " 4   jpy            float64\n",
      " 5   rub            float64\n",
      " 6   date_acquired  object \n",
      "dtypes: float64(5), int64(1), object(1)\n",
      "memory usage: 213.6+ MB\n"
     ]
    }
   ],
   "execution_count": 46
  },
  {
   "cell_type": "markdown",
   "source": [
    "### Purchased Game Data"
   ],
   "metadata": {
    "id": "OkojJ4gQO69R"
   }
  },
  {
   "cell_type": "markdown",
   "source": [
    "#### Info"
   ],
   "metadata": {
    "id": "OWT3cS7aO69R"
   }
  },
  {
   "cell_type": "code",
   "source": [
    "steam_purchased_games_df.info()"
   ],
   "metadata": {
    "id": "JS6SR4OYO69R",
    "colab": {
     "base_uri": "https://localhost:8080/"
    },
    "outputId": "b5ed326d-ca05-4f76-a40b-a3d728839505",
    "ExecuteTime": {
     "end_time": "2025-04-01T13:46:39.066153Z",
     "start_time": "2025-04-01T13:46:39.052583Z"
    }
   },
   "outputs": [
    {
     "name": "stdout",
     "output_type": "stream",
     "text": [
      "<class 'pandas.core.frame.DataFrame'>\n",
      "RangeIndex: 102548 entries, 0 to 102547\n",
      "Data columns (total 2 columns):\n",
      " #   Column    Non-Null Count   Dtype \n",
      "---  ------    --------------   ----- \n",
      " 0   playerid  102548 non-null  int64 \n",
      " 1   library   46941 non-null   object\n",
      "dtypes: int64(1), object(1)\n",
      "memory usage: 1.6+ MB\n"
     ]
    }
   ],
   "execution_count": 47
  },
  {
   "cell_type": "markdown",
   "source": [
    "#### Trim Data"
   ],
   "metadata": {
    "id": "qxxETZBZO69R"
   }
  },
  {
   "cell_type": "code",
   "source": [
    "steam_purchased_games_df['library'] = \\\n",
    "  steam_purchased_games_df['library'].str.strip()"
   ],
   "metadata": {
    "id": "FbEVRtJfO69R",
    "ExecuteTime": {
     "end_time": "2025-04-01T13:46:39.174864Z",
     "start_time": "2025-04-01T13:46:39.147312Z"
    }
   },
   "outputs": [],
   "execution_count": 48
  },
  {
   "cell_type": "markdown",
   "source": [
    "#### Filter Data"
   ],
   "metadata": {
    "id": "4jUdX_yoO69R"
   }
  },
  {
   "cell_type": "markdown",
   "source": [
    "Filter players that only exist in `playstation_players_df`"
   ],
   "metadata": {
    "id": "SKDIykUjO69R"
   }
  },
  {
   "cell_type": "code",
   "source": [
    "steam_purchased_games_df = steam_purchased_games_df[\n",
    "    steam_purchased_games_df['playerid'].isin(\n",
    "        steam_players_df['playerid'])\n",
    "]"
   ],
   "metadata": {
    "id": "fbayOSQ2O69R",
    "ExecuteTime": {
     "end_time": "2025-04-01T13:46:39.248902Z",
     "start_time": "2025-04-01T13:46:39.210088Z"
    }
   },
   "outputs": [],
   "execution_count": 49
  },
  {
   "cell_type": "markdown",
   "source": [
    "#### Remove Missing Values"
   ],
   "metadata": {
    "id": "GHVeEFDlvDnA"
   }
  },
  {
   "cell_type": "markdown",
   "source": [
    "Remove players with missing purchased games:"
   ],
   "metadata": {
    "id": "Tejv5kNNvDnB"
   }
  },
  {
   "cell_type": "code",
   "source": [
    "steam_purchased_games_df.dropna(subset=['library'], inplace=True)"
   ],
   "metadata": {
    "id": "n7oTMVzovDnB",
    "ExecuteTime": {
     "end_time": "2025-04-01T13:46:39.271135Z",
     "start_time": "2025-04-01T13:46:39.256276Z"
    }
   },
   "outputs": [],
   "execution_count": 50
  },
  {
   "cell_type": "markdown",
   "source": [
    "View info again:"
   ],
   "metadata": {
    "id": "p6VAUsaGu9o2"
   }
  },
  {
   "cell_type": "code",
   "source": [
    "steam_purchased_games_df.info()"
   ],
   "metadata": {
    "colab": {
     "base_uri": "https://localhost:8080/"
    },
    "outputId": "fe065c2b-8e76-48ed-aa5a-8f749ee5bd3a",
    "id": "szt7ViE6u9o2",
    "ExecuteTime": {
     "end_time": "2025-04-01T13:46:39.300969Z",
     "start_time": "2025-04-01T13:46:39.288657Z"
    }
   },
   "outputs": [
    {
     "name": "stdout",
     "output_type": "stream",
     "text": [
      "<class 'pandas.core.frame.DataFrame'>\n",
      "Index: 46941 entries, 0 to 102544\n",
      "Data columns (total 2 columns):\n",
      " #   Column    Non-Null Count  Dtype \n",
      "---  ------    --------------  ----- \n",
      " 0   playerid  46941 non-null  int64 \n",
      " 1   library   46941 non-null  object\n",
      "dtypes: int64(1), object(1)\n",
      "memory usage: 1.1+ MB\n"
     ]
    }
   ],
   "execution_count": 51
  },
  {
   "cell_type": "markdown",
   "source": [
    "### Review Data"
   ],
   "metadata": {
    "id": "iXXPWyAUvV8m"
   }
  },
  {
   "cell_type": "markdown",
   "source": [
    "#### Info"
   ],
   "metadata": {
    "id": "Y5_SlHYRvV8m"
   }
  },
  {
   "cell_type": "code",
   "source": [
    "steam_reviews_df.info()"
   ],
   "metadata": {
    "colab": {
     "base_uri": "https://localhost:8080/"
    },
    "outputId": "2bf5a3a0-9ee6-429f-b0ae-0110c4b2013f",
    "id": "u7w8lILrvV8m",
    "ExecuteTime": {
     "end_time": "2025-04-01T13:46:39.481811Z",
     "start_time": "2025-04-01T13:46:39.347443Z"
    }
   },
   "outputs": [
    {
     "name": "stdout",
     "output_type": "stream",
     "text": [
      "<class 'pandas.core.frame.DataFrame'>\n",
      "RangeIndex: 1204534 entries, 0 to 1204533\n",
      "Data columns (total 8 columns):\n",
      " #   Column    Non-Null Count    Dtype \n",
      "---  ------    --------------    ----- \n",
      " 0   reviewid  1204534 non-null  int64 \n",
      " 1   playerid  1204534 non-null  int64 \n",
      " 2   gameid    1204534 non-null  int64 \n",
      " 3   review    1202437 non-null  object\n",
      " 4   helpful   1204534 non-null  int64 \n",
      " 5   funny     1204534 non-null  int64 \n",
      " 6   awards    1204534 non-null  int64 \n",
      " 7   posted    1204534 non-null  object\n",
      "dtypes: int64(6), object(2)\n",
      "memory usage: 73.5+ MB\n"
     ]
    }
   ],
   "execution_count": 52
  },
  {
   "cell_type": "markdown",
   "source": [
    "#### Trim Data"
   ],
   "metadata": {
    "id": "odyQqIpOvV8m"
   }
  },
  {
   "cell_type": "code",
   "source": [
    "steam_reviews_df['review'] = \\\n",
    "  steam_reviews_df['review'].str.strip()\n",
    "\n",
    "steam_reviews_df['posted'] = \\\n",
    "  steam_reviews_df['posted'].str.strip()"
   ],
   "metadata": {
    "id": "RV0KFI_jvV8m",
    "ExecuteTime": {
     "end_time": "2025-04-01T13:46:40.040608Z",
     "start_time": "2025-04-01T13:46:39.553978Z"
    }
   },
   "outputs": [],
   "execution_count": 53
  },
  {
   "cell_type": "markdown",
   "source": [
    "#### Convert Data"
   ],
   "metadata": {
    "id": "hlSq3LMTv7T4"
   }
  },
  {
   "cell_type": "markdown",
   "source": [
    "`posted` should be converted to date time type:"
   ],
   "metadata": {
    "id": "VFP4Env6v7T4"
   }
  },
  {
   "cell_type": "code",
   "source": [
    "steam_reviews_df['posted'] = pd.to_datetime(\n",
    "    steam_reviews_df['posted'],\n",
    "    errors='coerce').dt.strftime('%Y-%m-%d %H:%M:%S')"
   ],
   "metadata": {
    "id": "-Y24VOIRv7T4",
    "ExecuteTime": {
     "end_time": "2025-04-01T13:46:41.747548Z",
     "start_time": "2025-04-01T13:46:40.045567Z"
    }
   },
   "outputs": [],
   "execution_count": 54
  },
  {
   "cell_type": "markdown",
   "source": [
    "#### Filter Data"
   ],
   "metadata": {
    "id": "ma9zjlu2vV8n"
   }
  },
  {
   "cell_type": "markdown",
   "source": [
    "Filter players that only exist in `playstation_players_df`"
   ],
   "metadata": {
    "id": "KFoKh4FPvV8n"
   }
  },
  {
   "cell_type": "code",
   "source": [
    "steam_reviews_df = steam_reviews_df[\n",
    "    steam_reviews_df['gameid'].isin(\n",
    "        steam_games_df['gameid']) &\n",
    "    steam_reviews_df['playerid'].isin(\n",
    "        steam_players_df['playerid'])\n",
    "]"
   ],
   "metadata": {
    "id": "NlfjH155vV8n",
    "ExecuteTime": {
     "end_time": "2025-04-01T13:46:41.977282Z",
     "start_time": "2025-04-01T13:46:41.764263Z"
    }
   },
   "outputs": [],
   "execution_count": 55
  },
  {
   "cell_type": "markdown",
   "source": [
    "#### Remove Missing Values"
   ],
   "metadata": {
    "id": "_hLQehHCvV8n"
   }
  },
  {
   "cell_type": "markdown",
   "source": [
    "Remove reviews with no content:"
   ],
   "metadata": {
    "id": "ArAahUBavV8n"
   }
  },
  {
   "cell_type": "code",
   "source": [
    "steam_reviews_df.dropna(subset=['review'], inplace=True)"
   ],
   "metadata": {
    "id": "Sqe1YXJvvV8n",
    "ExecuteTime": {
     "end_time": "2025-04-01T13:46:42.206515Z",
     "start_time": "2025-04-01T13:46:41.993752Z"
    }
   },
   "outputs": [],
   "execution_count": 56
  },
  {
   "cell_type": "markdown",
   "source": [
    "View info again:"
   ],
   "metadata": {
    "id": "gIMv-PZPvV8n"
   }
  },
  {
   "cell_type": "code",
   "source": [
    "steam_reviews_df.info()"
   ],
   "metadata": {
    "colab": {
     "base_uri": "https://localhost:8080/"
    },
    "outputId": "24582a3a-2eb8-4248-e095-31bb4b308070",
    "id": "0Z6f1DM6vV8n",
    "ExecuteTime": {
     "end_time": "2025-04-01T13:46:42.389589Z",
     "start_time": "2025-04-01T13:46:42.224791Z"
    }
   },
   "outputs": [
    {
     "name": "stdout",
     "output_type": "stream",
     "text": [
      "<class 'pandas.core.frame.DataFrame'>\n",
      "Index: 1171765 entries, 0 to 1204533\n",
      "Data columns (total 8 columns):\n",
      " #   Column    Non-Null Count    Dtype \n",
      "---  ------    --------------    ----- \n",
      " 0   reviewid  1171765 non-null  int64 \n",
      " 1   playerid  1171765 non-null  int64 \n",
      " 2   gameid    1171765 non-null  int64 \n",
      " 3   review    1171765 non-null  object\n",
      " 4   helpful   1171765 non-null  int64 \n",
      " 5   funny     1171765 non-null  int64 \n",
      " 6   awards    1171765 non-null  int64 \n",
      " 7   posted    1171765 non-null  object\n",
      "dtypes: int64(6), object(2)\n",
      "memory usage: 80.5+ MB\n"
     ]
    }
   ],
   "execution_count": 57
  },
  {
   "cell_type": "markdown",
   "source": [
    "## Xbox Data"
   ],
   "metadata": {
    "id": "6PpkQDGZx7BE"
   }
  },
  {
   "cell_type": "markdown",
   "source": [
    "### Game Data"
   ],
   "metadata": {
    "id": "DX9CXWugx7BE"
   }
  },
  {
   "cell_type": "markdown",
   "source": [
    "#### Info"
   ],
   "metadata": {
    "id": "6ioOAP5rx7BF"
   }
  },
  {
   "cell_type": "code",
   "source": [
    "xbox_games_df.info()"
   ],
   "metadata": {
    "colab": {
     "base_uri": "https://localhost:8080/"
    },
    "outputId": "82de2aad-66b0-4317-98fe-4fab3093ab72",
    "id": "Gv9oSix1x7BF",
    "ExecuteTime": {
     "end_time": "2025-04-01T17:19:05.576081Z",
     "start_time": "2025-04-01T17:19:05.566098Z"
    }
   },
   "outputs": [
    {
     "name": "stdout",
     "output_type": "stream",
     "text": [
      "<class 'pandas.core.frame.DataFrame'>\n",
      "RangeIndex: 10489 entries, 0 to 10488\n",
      "Data columns (total 7 columns):\n",
      " #   Column               Non-Null Count  Dtype \n",
      "---  ------               --------------  ----- \n",
      " 0   gameid               10489 non-null  int64 \n",
      " 1   title                10489 non-null  object\n",
      " 2   developers           9913 non-null   object\n",
      " 3   publishers           9944 non-null   object\n",
      " 4   genres               9884 non-null   object\n",
      " 5   supported_languages  3842 non-null   object\n",
      " 6   release_date         10489 non-null  object\n",
      "dtypes: int64(1), object(6)\n",
      "memory usage: 573.7+ KB\n"
     ]
    }
   ],
   "execution_count": 9
  },
  {
   "cell_type": "markdown",
   "source": [
    "#### Trim Data"
   ],
   "metadata": {
    "id": "vGEU4TOcx7BF"
   }
  },
  {
   "cell_type": "code",
   "source": [
    "xbox_games_df['title'] = \\\n",
    "  xbox_games_df['title'].str.strip()\n",
    "\n",
    "xbox_games_df['developers'] = \\\n",
    "  xbox_games_df['developers'].str.strip()\n",
    "\n",
    "xbox_games_df['publishers'] = \\\n",
    "  xbox_games_df['publishers'].str.strip()\n",
    "\n",
    "xbox_games_df['genres'] = \\\n",
    "  xbox_games_df['genres'].str.strip()\n",
    "\n",
    "xbox_games_df['supported_languages'] = \\\n",
    "  xbox_games_df['supported_languages'].str.strip()\n",
    "\n",
    "xbox_games_df['release_date'] = \\\n",
    "  xbox_games_df['release_date'].str.strip()"
   ],
   "metadata": {
    "id": "DwVtVgkKx7BF",
    "ExecuteTime": {
     "end_time": "2025-04-01T17:19:05.651265Z",
     "start_time": "2025-04-01T17:19:05.636739Z"
    }
   },
   "outputs": [],
   "execution_count": 10
  },
  {
   "cell_type": "markdown",
   "source": [
    "#### Convert Data"
   ],
   "metadata": {
    "id": "pwPUjOh8x7BG"
   }
  },
  {
   "cell_type": "markdown",
   "source": [
    "`release_date` should be converted to date time type:"
   ],
   "metadata": {
    "id": "521atHCOx7BG"
   }
  },
  {
   "cell_type": "code",
   "source": [
    "xbox_games_df['release_date'] = pd.to_datetime(\n",
    "    xbox_games_df['release_date'],\n",
    "    errors='coerce').dt.strftime('%Y-%m-%d %H:%M:%S')"
   ],
   "metadata": {
    "id": "vL3rJYx5x7BG",
    "ExecuteTime": {
     "end_time": "2025-04-01T17:19:05.700983Z",
     "start_time": "2025-04-01T17:19:05.680141Z"
    }
   },
   "outputs": [],
   "execution_count": 11
  },
  {
   "cell_type": "markdown",
   "source": [
    "#### Remove Duplicates"
   ],
   "metadata": {
    "id": "PMp_kZs-x7BG"
   }
  },
  {
   "cell_type": "markdown",
   "source": [
    "Check for games with duplicated title, platform, developers and publishers:"
   ],
   "metadata": {
    "id": "o9U2cH5Gx7BG"
   }
  },
  {
   "cell_type": "code",
   "source": [
    "xbox_games_df[\n",
    "    xbox_games_df.duplicated(\n",
    "        subset=['title', 'developers', 'publishers'],\n",
    "        keep=False\n",
    "    )\n",
    "].sort_values(by=['title', 'developers', 'publishers'])"
   ],
   "metadata": {
    "colab": {
     "base_uri": "https://localhost:8080/",
     "height": 597
    },
    "outputId": "ef88163b-ba14-44e0-e278-0d1d61db1103",
    "id": "RyWs4jJVx7BG",
    "ExecuteTime": {
     "end_time": "2025-04-01T17:19:05.737513Z",
     "start_time": "2025-04-01T17:19:05.716959Z"
    }
   },
   "outputs": [
    {
     "data": {
      "text/plain": [
       "      gameid                        title             developers  \\\n",
       "1710  465822          2 Synchro Hedgehogs         ['grin robot']   \n",
       "8686  467381          2 Synchro Hedgehogs         ['grin robot']   \n",
       "1300    1600   50 Cent: Blood on the Sand  ['Swordfish Studios']   \n",
       "8405    1528   50 Cent: Blood on the Sand  ['Swordfish Studios']   \n",
       "1243  511937          A Winter’s Daydream                    NaN   \n",
       "...      ...                          ...                    ...   \n",
       "5796   16303                  iO The Game            ['Gamious']   \n",
       "5421    1867                      ilomilo           ['southend']   \n",
       "9777    1934                      ilomilo           ['southend']   \n",
       "4151   19565  theHunter: Call of the Wild   ['Expansive Worlds']   \n",
       "8823  465691  theHunter: Call of the Wild   ['Expansive Worlds']   \n",
       "\n",
       "                 publishers  \\\n",
       "1710         ['grin robot']   \n",
       "8686         ['grin robot']   \n",
       "1300                ['THQ']   \n",
       "8405                ['THQ']   \n",
       "1243                    NaN   \n",
       "...                     ...   \n",
       "5796      ['Game Troopers']   \n",
       "5421  ['Xbox Game Studios']   \n",
       "9777  ['Xbox Game Studios']   \n",
       "4151  ['Avalanche Studios']   \n",
       "8823  ['Avalanche Studios']   \n",
       "\n",
       "                                                 genres  \\\n",
       "1710                                     ['Platformer']   \n",
       "8686                                     ['Platformer']   \n",
       "1300                 ['Action', 'Adventure', 'shooter']   \n",
       "8405                 ['Action', 'Adventure', 'shooter']   \n",
       "1243                                                NaN   \n",
       "...                                                 ...   \n",
       "5796                                         ['puzzle']   \n",
       "5421                                         ['puzzle']   \n",
       "9777                           ['platformer', 'puzzle']   \n",
       "4151                                         ['sports']   \n",
       "8823  ['First Person Shooter', 'Open World', 'Sports...   \n",
       "\n",
       "                                    supported_languages         release_date  \n",
       "1710                                                NaN  2021-12-15 00:00:00  \n",
       "8686                                                NaN  2021-12-15 00:00:00  \n",
       "1300                                       ['Japanese']  2009-02-24 00:00:00  \n",
       "8405                               ['French', 'German']  2009-02-24 00:00:00  \n",
       "1243                                                NaN  2022-06-24 00:00:00  \n",
       "...                                                 ...                  ...  \n",
       "5796                                                NaN  2017-02-14 00:00:00  \n",
       "5421         ['French', 'Spanish', 'German', 'Italian']  2011-01-05 00:00:00  \n",
       "9777  ['Japanese', 'French', 'Spanish', 'German', 'I...  2010-11-03 00:00:00  \n",
       "4151  ['French', 'Spanish', 'German', 'Russian', 'Po...  2017-10-02 00:00:00  \n",
       "8823                                                NaN  2021-11-30 00:00:00  \n",
       "\n",
       "[1527 rows x 7 columns]"
      ],
      "text/html": [
       "<div>\n",
       "<style scoped>\n",
       "    .dataframe tbody tr th:only-of-type {\n",
       "        vertical-align: middle;\n",
       "    }\n",
       "\n",
       "    .dataframe tbody tr th {\n",
       "        vertical-align: top;\n",
       "    }\n",
       "\n",
       "    .dataframe thead th {\n",
       "        text-align: right;\n",
       "    }\n",
       "</style>\n",
       "<table border=\"1\" class=\"dataframe\">\n",
       "  <thead>\n",
       "    <tr style=\"text-align: right;\">\n",
       "      <th></th>\n",
       "      <th>gameid</th>\n",
       "      <th>title</th>\n",
       "      <th>developers</th>\n",
       "      <th>publishers</th>\n",
       "      <th>genres</th>\n",
       "      <th>supported_languages</th>\n",
       "      <th>release_date</th>\n",
       "    </tr>\n",
       "  </thead>\n",
       "  <tbody>\n",
       "    <tr>\n",
       "      <th>1710</th>\n",
       "      <td>465822</td>\n",
       "      <td>2 Synchro Hedgehogs</td>\n",
       "      <td>['grin robot']</td>\n",
       "      <td>['grin robot']</td>\n",
       "      <td>['Platformer']</td>\n",
       "      <td>NaN</td>\n",
       "      <td>2021-12-15 00:00:00</td>\n",
       "    </tr>\n",
       "    <tr>\n",
       "      <th>8686</th>\n",
       "      <td>467381</td>\n",
       "      <td>2 Synchro Hedgehogs</td>\n",
       "      <td>['grin robot']</td>\n",
       "      <td>['grin robot']</td>\n",
       "      <td>['Platformer']</td>\n",
       "      <td>NaN</td>\n",
       "      <td>2021-12-15 00:00:00</td>\n",
       "    </tr>\n",
       "    <tr>\n",
       "      <th>1300</th>\n",
       "      <td>1600</td>\n",
       "      <td>50 Cent: Blood on the Sand</td>\n",
       "      <td>['Swordfish Studios']</td>\n",
       "      <td>['THQ']</td>\n",
       "      <td>['Action', 'Adventure', 'shooter']</td>\n",
       "      <td>['Japanese']</td>\n",
       "      <td>2009-02-24 00:00:00</td>\n",
       "    </tr>\n",
       "    <tr>\n",
       "      <th>8405</th>\n",
       "      <td>1528</td>\n",
       "      <td>50 Cent: Blood on the Sand</td>\n",
       "      <td>['Swordfish Studios']</td>\n",
       "      <td>['THQ']</td>\n",
       "      <td>['Action', 'Adventure', 'shooter']</td>\n",
       "      <td>['French', 'German']</td>\n",
       "      <td>2009-02-24 00:00:00</td>\n",
       "    </tr>\n",
       "    <tr>\n",
       "      <th>1243</th>\n",
       "      <td>511937</td>\n",
       "      <td>A Winter’s Daydream</td>\n",
       "      <td>NaN</td>\n",
       "      <td>NaN</td>\n",
       "      <td>NaN</td>\n",
       "      <td>NaN</td>\n",
       "      <td>2022-06-24 00:00:00</td>\n",
       "    </tr>\n",
       "    <tr>\n",
       "      <th>...</th>\n",
       "      <td>...</td>\n",
       "      <td>...</td>\n",
       "      <td>...</td>\n",
       "      <td>...</td>\n",
       "      <td>...</td>\n",
       "      <td>...</td>\n",
       "      <td>...</td>\n",
       "    </tr>\n",
       "    <tr>\n",
       "      <th>5796</th>\n",
       "      <td>16303</td>\n",
       "      <td>iO The Game</td>\n",
       "      <td>['Gamious']</td>\n",
       "      <td>['Game Troopers']</td>\n",
       "      <td>['puzzle']</td>\n",
       "      <td>NaN</td>\n",
       "      <td>2017-02-14 00:00:00</td>\n",
       "    </tr>\n",
       "    <tr>\n",
       "      <th>5421</th>\n",
       "      <td>1867</td>\n",
       "      <td>ilomilo</td>\n",
       "      <td>['southend']</td>\n",
       "      <td>['Xbox Game Studios']</td>\n",
       "      <td>['puzzle']</td>\n",
       "      <td>['French', 'Spanish', 'German', 'Italian']</td>\n",
       "      <td>2011-01-05 00:00:00</td>\n",
       "    </tr>\n",
       "    <tr>\n",
       "      <th>9777</th>\n",
       "      <td>1934</td>\n",
       "      <td>ilomilo</td>\n",
       "      <td>['southend']</td>\n",
       "      <td>['Xbox Game Studios']</td>\n",
       "      <td>['platformer', 'puzzle']</td>\n",
       "      <td>['Japanese', 'French', 'Spanish', 'German', 'I...</td>\n",
       "      <td>2010-11-03 00:00:00</td>\n",
       "    </tr>\n",
       "    <tr>\n",
       "      <th>4151</th>\n",
       "      <td>19565</td>\n",
       "      <td>theHunter: Call of the Wild</td>\n",
       "      <td>['Expansive Worlds']</td>\n",
       "      <td>['Avalanche Studios']</td>\n",
       "      <td>['sports']</td>\n",
       "      <td>['French', 'Spanish', 'German', 'Russian', 'Po...</td>\n",
       "      <td>2017-10-02 00:00:00</td>\n",
       "    </tr>\n",
       "    <tr>\n",
       "      <th>8823</th>\n",
       "      <td>465691</td>\n",
       "      <td>theHunter: Call of the Wild</td>\n",
       "      <td>['Expansive Worlds']</td>\n",
       "      <td>['Avalanche Studios']</td>\n",
       "      <td>['First Person Shooter', 'Open World', 'Sports...</td>\n",
       "      <td>NaN</td>\n",
       "      <td>2021-11-30 00:00:00</td>\n",
       "    </tr>\n",
       "  </tbody>\n",
       "</table>\n",
       "<p>1527 rows × 7 columns</p>\n",
       "</div>"
      ]
     },
     "execution_count": 12,
     "metadata": {},
     "output_type": "execute_result"
    }
   ],
   "execution_count": 12
  },
  {
   "cell_type": "markdown",
   "source": [
    "Remove duplicates:"
   ],
   "metadata": {
    "id": "zED1X7pmx7BG"
   }
  },
  {
   "cell_type": "code",
   "source": [
    "xbox_games_df.drop_duplicates(\n",
    "    subset=['title', 'developers', 'publishers'],\n",
    "    inplace=True\n",
    ")"
   ],
   "metadata": {
    "id": "r-Dc5N_jx7BH",
    "ExecuteTime": {
     "end_time": "2025-04-01T17:19:05.813976Z",
     "start_time": "2025-04-01T17:19:05.804977Z"
    }
   },
   "outputs": [],
   "execution_count": 13
  },
  {
   "cell_type": "markdown",
   "source": [
    "View info again:"
   ],
   "metadata": {
    "id": "lfJ100NWx7BH"
   }
  },
  {
   "cell_type": "code",
   "source": [
    "xbox_games_df.info()"
   ],
   "metadata": {
    "colab": {
     "base_uri": "https://localhost:8080/"
    },
    "outputId": "669ed7bb-6f34-400a-9c40-711cbab1c7aa",
    "id": "DDIgcAi7x7BH",
    "ExecuteTime": {
     "end_time": "2025-04-01T17:19:05.880088Z",
     "start_time": "2025-04-01T17:19:05.871986Z"
    }
   },
   "outputs": [
    {
     "name": "stdout",
     "output_type": "stream",
     "text": [
      "<class 'pandas.core.frame.DataFrame'>\n",
      "Index: 9686 entries, 0 to 10488\n",
      "Data columns (total 7 columns):\n",
      " #   Column               Non-Null Count  Dtype \n",
      "---  ------               --------------  ----- \n",
      " 0   gameid               9686 non-null   int64 \n",
      " 1   title                9686 non-null   object\n",
      " 2   developers           9127 non-null   object\n",
      " 3   publishers           9157 non-null   object\n",
      " 4   genres               9101 non-null   object\n",
      " 5   supported_languages  3414 non-null   object\n",
      " 6   release_date         9686 non-null   object\n",
      "dtypes: int64(1), object(6)\n",
      "memory usage: 605.4+ KB\n"
     ]
    }
   ],
   "execution_count": 14
  },
  {
   "cell_type": "markdown",
   "source": [
    "### Achievement Data"
   ],
   "metadata": {
    "id": "UQQDbotNx7BH"
   }
  },
  {
   "cell_type": "markdown",
   "source": [
    "#### Info"
   ],
   "metadata": {
    "id": "wbFiyGvrx7BH"
   }
  },
  {
   "cell_type": "code",
   "source": [
    "xbox_achievements_df.info()"
   ],
   "metadata": {
    "colab": {
     "base_uri": "https://localhost:8080/"
    },
    "outputId": "de9494f2-756f-434c-ac50-98365e0e69d4",
    "id": "bTNekrnox7BH",
    "ExecuteTime": {
     "end_time": "2025-04-01T17:19:06.000359Z",
     "start_time": "2025-04-01T17:19:05.954890Z"
    }
   },
   "outputs": [
    {
     "name": "stdout",
     "output_type": "stream",
     "text": [
      "<class 'pandas.core.frame.DataFrame'>\n",
      "RangeIndex: 351111 entries, 0 to 351110\n",
      "Data columns (total 5 columns):\n",
      " #   Column         Non-Null Count   Dtype  \n",
      "---  ------         --------------   -----  \n",
      " 0   achievementid  351111 non-null  object \n",
      " 1   gameid         351111 non-null  int64  \n",
      " 2   title          351110 non-null  object \n",
      " 3   description    351057 non-null  object \n",
      " 4   points         350233 non-null  float64\n",
      "dtypes: float64(1), int64(1), object(3)\n",
      "memory usage: 13.4+ MB\n"
     ]
    }
   ],
   "execution_count": 15
  },
  {
   "cell_type": "markdown",
   "source": [
    "#### Trim Data"
   ],
   "metadata": {
    "id": "O6y3966Nx7BH"
   }
  },
  {
   "cell_type": "code",
   "source": [
    "xbox_achievements_df['achievementid'] = \\\n",
    "  xbox_achievements_df['achievementid'].str.strip()\n",
    "\n",
    "xbox_achievements_df['title'] = \\\n",
    "  xbox_achievements_df['title'].str.strip()\n",
    "\n",
    "xbox_achievements_df['description'] = \\\n",
    "  xbox_achievements_df['description'].str.strip()"
   ],
   "metadata": {
    "id": "jvsHC3six7BH",
    "ExecuteTime": {
     "end_time": "2025-04-01T17:19:06.329117Z",
     "start_time": "2025-04-01T17:19:06.160172Z"
    }
   },
   "outputs": [],
   "execution_count": 16
  },
  {
   "cell_type": "markdown",
   "source": [
    "#### Filter Data"
   ],
   "metadata": {
    "id": "F9LLfqoCx7BI"
   }
  },
  {
   "cell_type": "markdown",
   "source": [
    "Filter games that only exist in `xbox_games_df`"
   ],
   "metadata": {
    "id": "7blUBx5xx7BI"
   }
  },
  {
   "cell_type": "code",
   "source": [
    "xbox_achievements_df = xbox_achievements_df[\n",
    "    xbox_achievements_df['gameid'].isin(xbox_games_df['gameid'])\n",
    "]"
   ],
   "metadata": {
    "id": "aodAHhCZx7BI",
    "ExecuteTime": {
     "end_time": "2025-04-01T17:19:06.379956Z",
     "start_time": "2025-04-01T17:19:06.346102Z"
    }
   },
   "outputs": [],
   "execution_count": 17
  },
  {
   "cell_type": "markdown",
   "source": [
    "#### About Duplicated Achievements"
   ],
   "metadata": {
    "id": "6Q8neeWNx7BI"
   }
  },
  {
   "cell_type": "markdown",
   "source": [
    "Some Xbox games, particularly those with backwards compatibility, can have duplicate achievement entries, especially when playing an Xbox 360 game on Xbox One or Xbox Series X/S."
   ],
   "metadata": {
    "id": "hjGOLm16x7BI"
   }
  },
  {
   "cell_type": "markdown",
   "source": [
    "#### Remove Missing Values"
   ],
   "metadata": {
    "id": "zrvLc-Uvx7BI"
   }
  },
  {
   "cell_type": "markdown",
   "source": [
    "Remove achievements with missing title:"
   ],
   "metadata": {
    "id": "J8EuioTkx7BI"
   }
  },
  {
   "cell_type": "code",
   "source": [
    "xbox_achievements_df.dropna(subset=['title'], inplace=True)"
   ],
   "metadata": {
    "id": "-daTXblSx7BI",
    "ExecuteTime": {
     "end_time": "2025-04-01T17:19:06.433360Z",
     "start_time": "2025-04-01T17:19:06.395036Z"
    }
   },
   "outputs": [],
   "execution_count": 18
  },
  {
   "cell_type": "markdown",
   "source": [
    "View info again:"
   ],
   "metadata": {
    "id": "WkIw2DRpx7BI"
   }
  },
  {
   "cell_type": "code",
   "source": [
    "xbox_achievements_df.info()"
   ],
   "metadata": {
    "colab": {
     "base_uri": "https://localhost:8080/"
    },
    "outputId": "a0eb2783-65f6-4d8f-95ae-9fb0dadbead9",
    "id": "yEMysiH3x7BJ",
    "ExecuteTime": {
     "end_time": "2025-04-01T17:19:06.484990Z",
     "start_time": "2025-04-01T17:19:06.448479Z"
    }
   },
   "outputs": [
    {
     "name": "stdout",
     "output_type": "stream",
     "text": [
      "<class 'pandas.core.frame.DataFrame'>\n",
      "Index: 296334 entries, 0 to 351110\n",
      "Data columns (total 5 columns):\n",
      " #   Column         Non-Null Count   Dtype  \n",
      "---  ------         --------------   -----  \n",
      " 0   achievementid  296334 non-null  object \n",
      " 1   gameid         296334 non-null  int64  \n",
      " 2   title          296334 non-null  object \n",
      " 3   description    296299 non-null  object \n",
      " 4   points         295597 non-null  float64\n",
      "dtypes: float64(1), int64(1), object(3)\n",
      "memory usage: 13.6+ MB\n"
     ]
    }
   ],
   "execution_count": 19
  },
  {
   "cell_type": "markdown",
   "source": [
    "### Player Data"
   ],
   "metadata": {
    "id": "q-KdtiHqx7BJ"
   }
  },
  {
   "cell_type": "markdown",
   "source": [
    "#### Info"
   ],
   "metadata": {
    "id": "_AvcJSOhx7BJ"
   }
  },
  {
   "cell_type": "code",
   "source": [
    "xbox_players_df.info()"
   ],
   "metadata": {
    "colab": {
     "base_uri": "https://localhost:8080/"
    },
    "outputId": "5736f592-76ef-4d57-c71a-0959fb295053",
    "id": "Avj7Xw2sx7BJ",
    "ExecuteTime": {
     "end_time": "2025-04-01T17:19:06.529458Z",
     "start_time": "2025-04-01T17:19:06.513193Z"
    }
   },
   "outputs": [
    {
     "name": "stdout",
     "output_type": "stream",
     "text": [
      "<class 'pandas.core.frame.DataFrame'>\n",
      "RangeIndex: 274450 entries, 0 to 274449\n",
      "Data columns (total 2 columns):\n",
      " #   Column    Non-Null Count   Dtype \n",
      "---  ------    --------------   ----- \n",
      " 0   playerid  274450 non-null  int64 \n",
      " 1   nickname  274449 non-null  object\n",
      "dtypes: int64(1), object(1)\n",
      "memory usage: 4.2+ MB\n"
     ]
    }
   ],
   "execution_count": 20
  },
  {
   "cell_type": "markdown",
   "source": [
    "#### Trim Data"
   ],
   "metadata": {
    "id": "v07pA8yrx7BJ"
   }
  },
  {
   "cell_type": "code",
   "source": [
    "xbox_players_df['nickname'] = \\\n",
    "  xbox_players_df['nickname'].str.strip()"
   ],
   "metadata": {
    "id": "AM2ImCJWx7BJ",
    "ExecuteTime": {
     "end_time": "2025-04-01T17:19:06.744517Z",
     "start_time": "2025-04-01T17:19:06.699301Z"
    }
   },
   "outputs": [],
   "execution_count": 21
  },
  {
   "cell_type": "markdown",
   "source": [
    "#### About Duplicated Player Nicknames"
   ],
   "metadata": {
    "id": "Qmb_kvLMx7BJ"
   }
  },
  {
   "cell_type": "markdown",
   "source": [
    "All nicknames must be unique.\n",
    "\n",
    "Check for duplicated nicknames."
   ],
   "metadata": {
    "id": "C5b6ONvAx7BJ"
   }
  },
  {
   "cell_type": "code",
   "source": [
    "xbox_players_df[\n",
    "    xbox_players_df.duplicated(\n",
    "        subset=['nickname'],\n",
    "        keep=False\n",
    "    )\n",
    "].sort_values(by=['nickname'])"
   ],
   "metadata": {
    "colab": {
     "base_uri": "https://localhost:8080/",
     "height": 53
    },
    "outputId": "051e607b-9a3d-4a8e-82d0-187ce90d96c8",
    "id": "ejxipHE8x7BJ",
    "ExecuteTime": {
     "end_time": "2025-04-01T17:19:06.840720Z",
     "start_time": "2025-04-01T17:19:06.769437Z"
    }
   },
   "outputs": [
    {
     "data": {
      "text/plain": [
       "Empty DataFrame\n",
       "Columns: [playerid, nickname]\n",
       "Index: []"
      ],
      "text/html": [
       "<div>\n",
       "<style scoped>\n",
       "    .dataframe tbody tr th:only-of-type {\n",
       "        vertical-align: middle;\n",
       "    }\n",
       "\n",
       "    .dataframe tbody tr th {\n",
       "        vertical-align: top;\n",
       "    }\n",
       "\n",
       "    .dataframe thead th {\n",
       "        text-align: right;\n",
       "    }\n",
       "</style>\n",
       "<table border=\"1\" class=\"dataframe\">\n",
       "  <thead>\n",
       "    <tr style=\"text-align: right;\">\n",
       "      <th></th>\n",
       "      <th>playerid</th>\n",
       "      <th>nickname</th>\n",
       "    </tr>\n",
       "  </thead>\n",
       "  <tbody>\n",
       "  </tbody>\n",
       "</table>\n",
       "</div>"
      ]
     },
     "execution_count": 22,
     "metadata": {},
     "output_type": "execute_result"
    }
   ],
   "execution_count": 22
  },
  {
   "cell_type": "markdown",
   "source": [
    "Looks good."
   ],
   "metadata": {
    "id": "gvZmTiZgx7BJ"
   }
  },
  {
   "metadata": {},
   "cell_type": "markdown",
   "source": "#### Remove Missing Values"
  },
  {
   "metadata": {},
   "cell_type": "markdown",
   "source": "Remove players with missing nickname:"
  },
  {
   "metadata": {
    "ExecuteTime": {
     "end_time": "2025-04-01T17:19:06.943966Z",
     "start_time": "2025-04-01T17:19:06.920035Z"
    }
   },
   "cell_type": "code",
   "source": "xbox_players_df.dropna(subset=['nickname'], inplace=True)",
   "outputs": [],
   "execution_count": 23
  },
  {
   "cell_type": "markdown",
   "source": [
    "### History Data"
   ],
   "metadata": {
    "id": "9XMg8mfux7BK"
   }
  },
  {
   "cell_type": "markdown",
   "source": [
    "#### Info"
   ],
   "metadata": {
    "id": "zqr4XJ0hx7BK"
   }
  },
  {
   "cell_type": "code",
   "source": [
    "xbox_history_df.info()"
   ],
   "metadata": {
    "colab": {
     "base_uri": "https://localhost:8080/"
    },
    "outputId": "dc6f5497-ef19-4e9e-d4be-44cfa2ce2d91",
    "id": "LoHMjreUx7BK",
    "ExecuteTime": {
     "end_time": "2025-04-01T17:19:06.992382Z",
     "start_time": "2025-04-01T17:19:06.985576Z"
    }
   },
   "outputs": [
    {
     "name": "stdout",
     "output_type": "stream",
     "text": [
      "<class 'pandas.core.frame.DataFrame'>\n",
      "RangeIndex: 15275900 entries, 0 to 15275899\n",
      "Data columns (total 3 columns):\n",
      " #   Column         Dtype \n",
      "---  ------         ----- \n",
      " 0   playerid       int64 \n",
      " 1   achievementid  object\n",
      " 2   date_acquired  object\n",
      "dtypes: int64(1), object(2)\n",
      "memory usage: 349.6+ MB\n"
     ]
    }
   ],
   "execution_count": 24
  },
  {
   "cell_type": "markdown",
   "source": [
    "#### Trim Data"
   ],
   "metadata": {
    "id": "jjmTWTkex7BK"
   }
  },
  {
   "cell_type": "code",
   "source": [
    "xbox_history_df['achievementid'] = \\\n",
    "  xbox_history_df['achievementid'].str.strip()\n",
    "\n",
    "xbox_history_df['date_acquired'] = \\\n",
    "  xbox_history_df['date_acquired'].str.strip()"
   ],
   "metadata": {
    "id": "dSd1x9WIx7BK",
    "ExecuteTime": {
     "end_time": "2025-04-01T17:19:11.607003Z",
     "start_time": "2025-04-01T17:19:07.146376Z"
    }
   },
   "outputs": [],
   "execution_count": 25
  },
  {
   "cell_type": "markdown",
   "source": [
    "#### Convert Data"
   ],
   "metadata": {
    "id": "qbFc48LSx7BK"
   }
  },
  {
   "cell_type": "markdown",
   "source": [
    "`date_acquired` should be converted to date time type:"
   ],
   "metadata": {
    "id": "0bhu3n0Kx7BK"
   }
  },
  {
   "cell_type": "code",
   "source": [
    "xbox_history_df['date_acquired'] = pd.to_datetime(\n",
    "    xbox_history_df['date_acquired'],\n",
    "    errors='coerce').dt.strftime('%Y-%m-%d %H:%M:%S')"
   ],
   "metadata": {
    "id": "kVoXCOFzx7BK",
    "ExecuteTime": {
     "end_time": "2025-04-01T17:19:33.719315Z",
     "start_time": "2025-04-01T17:19:11.622135Z"
    }
   },
   "outputs": [],
   "execution_count": 26
  },
  {
   "cell_type": "markdown",
   "source": [
    "#### Filter Data"
   ],
   "metadata": {
    "id": "jkII_WIzx7BK"
   }
  },
  {
   "cell_type": "markdown",
   "source": [
    "Filter history records that only exist in `xbox_achievements_df` and `xbox_players_df`"
   ],
   "metadata": {
    "id": "-cqkQiNdx7BL"
   }
  },
  {
   "cell_type": "code",
   "source": [
    "xbox_history_df = xbox_history_df[\n",
    "    xbox_history_df['achievementid'].isin(\n",
    "        xbox_achievements_df['achievementid']) &\n",
    "    xbox_history_df['playerid'].isin(\n",
    "        xbox_players_df['playerid'])\n",
    "]"
   ],
   "metadata": {
    "id": "5Lb52dgDx7BL",
    "ExecuteTime": {
     "end_time": "2025-04-01T17:19:37.609660Z",
     "start_time": "2025-04-01T17:19:33.733632Z"
    }
   },
   "outputs": [],
   "execution_count": 27
  },
  {
   "cell_type": "markdown",
   "source": [
    "View info again:"
   ],
   "metadata": {
    "id": "7SKLlZgxx7BL"
   }
  },
  {
   "cell_type": "code",
   "source": [
    "xbox_history_df.info()"
   ],
   "metadata": {
    "colab": {
     "base_uri": "https://localhost:8080/"
    },
    "outputId": "05926d84-a14e-4d4a-f531-109da4f291e9",
    "id": "MW77iH3Ex7BL",
    "ExecuteTime": {
     "end_time": "2025-04-01T17:19:37.631759Z",
     "start_time": "2025-04-01T17:19:37.624901Z"
    }
   },
   "outputs": [
    {
     "name": "stdout",
     "output_type": "stream",
     "text": [
      "<class 'pandas.core.frame.DataFrame'>\n",
      "Index: 12240025 entries, 0 to 15275880\n",
      "Data columns (total 3 columns):\n",
      " #   Column         Dtype \n",
      "---  ------         ----- \n",
      " 0   playerid       int64 \n",
      " 1   achievementid  object\n",
      " 2   date_acquired  object\n",
      "dtypes: int64(1), object(2)\n",
      "memory usage: 373.5+ MB\n"
     ]
    }
   ],
   "execution_count": 28
  },
  {
   "cell_type": "markdown",
   "source": [
    "### Price Data"
   ],
   "metadata": {
    "id": "EsZln2xXx7BL"
   }
  },
  {
   "cell_type": "markdown",
   "source": [
    "#### Info"
   ],
   "metadata": {
    "id": "QRs41P5Px7BL"
   }
  },
  {
   "cell_type": "code",
   "source": [
    "xbox_prices_df.info()"
   ],
   "metadata": {
    "colab": {
     "base_uri": "https://localhost:8080/"
    },
    "outputId": "78203d38-f8c5-4ea9-acd4-0cca6c4994ad",
    "id": "ll27-4nMx7BM",
    "ExecuteTime": {
     "end_time": "2025-04-01T17:19:37.675002Z",
     "start_time": "2025-04-01T17:19:37.667331Z"
    }
   },
   "outputs": [
    {
     "name": "stdout",
     "output_type": "stream",
     "text": [
      "<class 'pandas.core.frame.DataFrame'>\n",
      "RangeIndex: 22638 entries, 0 to 22637\n",
      "Data columns (total 7 columns):\n",
      " #   Column         Non-Null Count  Dtype  \n",
      "---  ------         --------------  -----  \n",
      " 0   gameid         22638 non-null  int64  \n",
      " 1   usd            16003 non-null  float64\n",
      " 2   eur            15269 non-null  float64\n",
      " 3   gbp            15812 non-null  float64\n",
      " 4   jpy            0 non-null      float64\n",
      " 5   rub            14377 non-null  float64\n",
      " 6   date_acquired  22638 non-null  object \n",
      "dtypes: float64(5), int64(1), object(1)\n",
      "memory usage: 1.2+ MB\n"
     ]
    }
   ],
   "execution_count": 29
  },
  {
   "cell_type": "markdown",
   "source": [
    "#### Trim Data"
   ],
   "metadata": {
    "id": "s6Lvxvrmx7BM"
   }
  },
  {
   "cell_type": "code",
   "source": [
    "xbox_prices_df['date_acquired'] = \\\n",
    "  xbox_prices_df['date_acquired'].str.strip()"
   ],
   "metadata": {
    "id": "0k4sZL8Ux7BM",
    "ExecuteTime": {
     "end_time": "2025-04-01T17:19:37.713538Z",
     "start_time": "2025-04-01T17:19:37.707451Z"
    }
   },
   "outputs": [],
   "execution_count": 30
  },
  {
   "cell_type": "markdown",
   "source": [
    "#### Convert Data"
   ],
   "metadata": {
    "id": "hAclYbiBx7BM"
   }
  },
  {
   "cell_type": "markdown",
   "source": [
    "`date_acquired` should be converted to date time type:"
   ],
   "metadata": {
    "id": "bkKWwP35x7BM"
   }
  },
  {
   "cell_type": "code",
   "source": [
    "xbox_prices_df['date_acquired'] = pd.to_datetime(\n",
    "    xbox_prices_df['date_acquired'],\n",
    "    errors='coerce').dt.strftime('%Y-%m-%d %H:%M:%S')"
   ],
   "metadata": {
    "id": "azVbOAeex7BM",
    "ExecuteTime": {
     "end_time": "2025-04-01T17:19:37.782293Z",
     "start_time": "2025-04-01T17:19:37.749787Z"
    }
   },
   "outputs": [],
   "execution_count": 31
  },
  {
   "cell_type": "markdown",
   "source": [
    "#### Filter Data"
   ],
   "metadata": {
    "id": "MDsd7KkVx7BM"
   }
  },
  {
   "cell_type": "markdown",
   "source": [
    "Filter prices that only exist in `xbox_games_df`"
   ],
   "metadata": {
    "id": "WVKg3Uaxx7BM"
   }
  },
  {
   "cell_type": "code",
   "source": [
    "xbox_prices_df = xbox_prices_df[\n",
    "    xbox_prices_df['gameid'].isin(xbox_games_df['gameid'])\n",
    "]"
   ],
   "metadata": {
    "id": "DEdQVpl0x7BM",
    "ExecuteTime": {
     "end_time": "2025-04-01T17:19:37.802306Z",
     "start_time": "2025-04-01T17:19:37.797007Z"
    }
   },
   "outputs": [],
   "execution_count": 32
  },
  {
   "cell_type": "markdown",
   "source": [
    "#### Remove Missing Values"
   ],
   "metadata": {
    "id": "uuuZtz1Mx7BM"
   }
  },
  {
   "cell_type": "markdown",
   "source": [
    "Remove prices with missing date acquired:"
   ],
   "metadata": {
    "id": "faT-frDOx7BM"
   }
  },
  {
   "cell_type": "code",
   "source": [
    "xbox_prices_df.dropna(subset=['date_acquired'], inplace=True)"
   ],
   "metadata": {
    "id": "0-mjEUAXx7BM",
    "ExecuteTime": {
     "end_time": "2025-04-01T17:19:37.822757Z",
     "start_time": "2025-04-01T17:19:37.817072Z"
    }
   },
   "outputs": [],
   "execution_count": 33
  },
  {
   "metadata": {},
   "cell_type": "markdown",
   "source": "Remove prices with empty currency data:"
  },
  {
   "metadata": {
    "ExecuteTime": {
     "end_time": "2025-04-01T17:19:37.845937Z",
     "start_time": "2025-04-01T17:19:37.837080Z"
    }
   },
   "cell_type": "code",
   "source": [
    "# Keep rows with at least 1 column has data in selected columns\n",
    "xbox_prices_df.dropna(subset=['usd', 'eur', 'gbp', 'jpy', 'rub'], thresh=1, inplace=True)"
   ],
   "outputs": [],
   "execution_count": 34
  },
  {
   "cell_type": "markdown",
   "source": [
    "View info again:"
   ],
   "metadata": {
    "id": "UC9R_wRcx7BN"
   }
  },
  {
   "cell_type": "code",
   "source": [
    "xbox_prices_df.info()"
   ],
   "metadata": {
    "colab": {
     "base_uri": "https://localhost:8080/"
    },
    "outputId": "5738ea86-924c-496a-ff6d-2478aab96c17",
    "id": "zMlgvbSCx7BN",
    "ExecuteTime": {
     "end_time": "2025-04-01T17:19:37.868161Z",
     "start_time": "2025-04-01T17:19:37.859541Z"
    }
   },
   "outputs": [
    {
     "name": "stdout",
     "output_type": "stream",
     "text": [
      "<class 'pandas.core.frame.DataFrame'>\n",
      "Index: 14770 entries, 0 to 22636\n",
      "Data columns (total 7 columns):\n",
      " #   Column         Non-Null Count  Dtype  \n",
      "---  ------         --------------  -----  \n",
      " 0   gameid         14770 non-null  int64  \n",
      " 1   usd            14713 non-null  float64\n",
      " 2   eur            14044 non-null  float64\n",
      " 3   gbp            14538 non-null  float64\n",
      " 4   jpy            0 non-null      float64\n",
      " 5   rub            13219 non-null  float64\n",
      " 6   date_acquired  14770 non-null  object \n",
      "dtypes: float64(5), int64(1), object(1)\n",
      "memory usage: 923.1+ KB\n"
     ]
    }
   ],
   "execution_count": 35
  },
  {
   "cell_type": "markdown",
   "source": [
    "### Purchased Game Data"
   ],
   "metadata": {
    "id": "l7x-BAHwx7BN"
   }
  },
  {
   "cell_type": "markdown",
   "source": [
    "#### Info"
   ],
   "metadata": {
    "id": "9vek0Z8qx7BN"
   }
  },
  {
   "cell_type": "code",
   "source": [
    "xbox_purchased_games_df.info()"
   ],
   "metadata": {
    "colab": {
     "base_uri": "https://localhost:8080/"
    },
    "outputId": "4e436c4c-c73b-4a76-d2be-fd729090a9ac",
    "id": "C09hYB0Ex7BN",
    "ExecuteTime": {
     "end_time": "2025-04-01T17:19:37.915806Z",
     "start_time": "2025-04-01T17:19:37.903525Z"
    }
   },
   "outputs": [
    {
     "name": "stdout",
     "output_type": "stream",
     "text": [
      "<class 'pandas.core.frame.DataFrame'>\n",
      "RangeIndex: 46466 entries, 0 to 46465\n",
      "Data columns (total 2 columns):\n",
      " #   Column    Non-Null Count  Dtype \n",
      "---  ------    --------------  ----- \n",
      " 0   playerid  46466 non-null  int64 \n",
      " 1   library   46466 non-null  object\n",
      "dtypes: int64(1), object(1)\n",
      "memory usage: 726.2+ KB\n"
     ]
    }
   ],
   "execution_count": 36
  },
  {
   "cell_type": "markdown",
   "source": [
    "#### Trim Data"
   ],
   "metadata": {
    "id": "d_Ak2HyGx7BN"
   }
  },
  {
   "cell_type": "code",
   "source": [
    "xbox_purchased_games_df['library'] = \\\n",
    "  xbox_purchased_games_df['library'].str.strip()"
   ],
   "metadata": {
    "id": "cLRZlIrGx7BN",
    "ExecuteTime": {
     "end_time": "2025-04-01T17:19:37.974946Z",
     "start_time": "2025-04-01T17:19:37.952298Z"
    }
   },
   "outputs": [],
   "execution_count": 37
  },
  {
   "cell_type": "markdown",
   "source": [
    "#### Filter Data"
   ],
   "metadata": {
    "id": "kx58B7Q2x7BN"
   }
  },
  {
   "cell_type": "markdown",
   "source": [
    "Filter players that only exist in `xbox_players_df`"
   ],
   "metadata": {
    "id": "3OMiCsL5x7BN"
   }
  },
  {
   "cell_type": "code",
   "source": [
    "xbox_purchased_games_df = xbox_purchased_games_df[\n",
    "    xbox_purchased_games_df['playerid'].isin(\n",
    "        xbox_players_df['playerid'])\n",
    "]"
   ],
   "metadata": {
    "id": "rWQkRiTMx7BN",
    "ExecuteTime": {
     "end_time": "2025-04-01T17:19:38.003954Z",
     "start_time": "2025-04-01T17:19:37.992497Z"
    }
   },
   "outputs": [],
   "execution_count": 38
  },
  {
   "cell_type": "markdown",
   "source": [
    "View info again:"
   ],
   "metadata": {
    "id": "Njgjx3-rx7BN"
   }
  },
  {
   "cell_type": "code",
   "source": [
    "xbox_purchased_games_df.info()"
   ],
   "metadata": {
    "colab": {
     "base_uri": "https://localhost:8080/"
    },
    "outputId": "52d5d123-264b-496c-a871-ee6f0bd75207",
    "id": "46Qbf3Dax7BO",
    "ExecuteTime": {
     "end_time": "2025-04-01T17:19:38.046626Z",
     "start_time": "2025-04-01T17:19:38.034335Z"
    }
   },
   "outputs": [
    {
     "name": "stdout",
     "output_type": "stream",
     "text": [
      "<class 'pandas.core.frame.DataFrame'>\n",
      "RangeIndex: 46466 entries, 0 to 46465\n",
      "Data columns (total 2 columns):\n",
      " #   Column    Non-Null Count  Dtype \n",
      "---  ------    --------------  ----- \n",
      " 0   playerid  46466 non-null  int64 \n",
      " 1   library   46466 non-null  object\n",
      "dtypes: int64(1), object(1)\n",
      "memory usage: 726.2+ KB\n"
     ]
    }
   ],
   "execution_count": 39
  },
  {
   "cell_type": "markdown",
   "source": [
    "# Define Models"
   ],
   "metadata": {
    "id": "FsUE2Y5333vZ"
   }
  },
  {
   "cell_type": "markdown",
   "source": [
    "Models are tables in database."
   ],
   "metadata": {
    "id": "i0jPxfQE7PhG"
   }
  },
  {
   "cell_type": "markdown",
   "source": [
    "## Base Model"
   ],
   "metadata": {
    "id": "Hq9fG7vP49eI"
   }
  },
  {
   "metadata": {},
   "cell_type": "markdown",
   "source": "Base model is required."
  },
  {
   "cell_type": "code",
   "source": [
    "class Base(DeclarativeBase):\n",
    "  pass"
   ],
   "metadata": {
    "id": "FHqfAR0Q4-3S",
    "ExecuteTime": {
     "end_time": "2025-04-01T17:19:51.258474Z",
     "start_time": "2025-04-01T17:19:51.254705Z"
    }
   },
   "outputs": [],
   "execution_count": 40
  },
  {
   "cell_type": "markdown",
   "source": [
    "## PlayStation Models"
   ],
   "metadata": {
    "id": "lEkaYeyp4byZ"
   }
  },
  {
   "cell_type": "code",
   "source": [
    "# Game table\n",
    "class PlayStationGames(Base):\n",
    "  # Table name\n",
    "  __tablename__ = 'playstation_games'\n",
    "\n",
    "  # Columns\n",
    "  gameid: Mapped[int] = mapped_column(MEDIUMINT(unsigned=True),\n",
    "                                      primary_key=True,\n",
    "                                      nullable=False)\n",
    "  title: Mapped[str] = mapped_column(NVARCHAR(255), nullable=False)\n",
    "  platform: Mapped[str] = mapped_column(NVARCHAR(255), nullable=True)\n",
    "  developers: Mapped[str] = mapped_column(NVARCHAR(255), nullable=True)\n",
    "  publishers: Mapped[str] = mapped_column(NVARCHAR(255), nullable=True)\n",
    "  genres: Mapped[str] = mapped_column(NVARCHAR(255), nullable=True)\n",
    "  supported_languages: Mapped[str] = mapped_column(TEXT, nullable=True)\n",
    "  release_date: Mapped[datetime] = mapped_column(DATE, nullable=True)\n",
    "\n",
    "  # Relationships\n",
    "  achievements: Mapped[List['PlayStationAchievements']] = relationship(\n",
    "      back_populates='game')\n",
    "  prices: Mapped[List['PlayStationPrices']] = relationship(\n",
    "      back_populates='game')\n",
    "\n",
    "\n",
    "class PlayStationAchievements(Base):\n",
    "  # Table name\n",
    "  __tablename__ = 'playstation_achievements'\n",
    "\n",
    "  # Columns\n",
    "  # collation: to make the column case sensitive\n",
    "  # VARCHAR can go with collation setting\n",
    "  # utf8mb4_bin: allow some special characters (e.g. japanese characters)\n",
    "  achievementid: Mapped[str] = mapped_column(VARCHAR(255,\n",
    "                                                     collation=\"utf8mb4_bin\"),\n",
    "                                             primary_key=True,\n",
    "                                             nullable=False)\n",
    "  gameid: Mapped[int] = mapped_column(ForeignKey('playstation_games.gameid'))\n",
    "  title: Mapped[str] = mapped_column(VARCHAR(255, collation=\"utf8mb4_bin\"), nullable=False)\n",
    "  description: Mapped[str] = mapped_column(TEXT, nullable=True)\n",
    "  rarity: Mapped[str] = mapped_column(NVARCHAR(255), nullable=True)\n",
    "\n",
    "  # Relationships\n",
    "  game: Mapped['PlayStationGames'] = relationship(back_populates='achievements')\n",
    "  history: Mapped[List['PlayStationHistory']] = relationship(\n",
    "      back_populates='achievement')\n",
    "\n",
    "\n",
    "class PlayStationPlayers(Base):\n",
    "  # Table name\n",
    "  __tablename__ = 'playstation_players'\n",
    "\n",
    "  # Columns\n",
    "  playerid: Mapped[int] = mapped_column(MEDIUMINT(unsigned=True),\n",
    "                                        primary_key=True,\n",
    "                                        nullable=False)\n",
    "  nickname: Mapped[str] = mapped_column(NVARCHAR(255), nullable=False)\n",
    "  country: Mapped[str] = mapped_column(NVARCHAR(255), nullable=True)\n",
    "\n",
    "  # Relationships\n",
    "  history: Mapped[List['PlayStationHistory']] = relationship(\n",
    "      back_populates='player')\n",
    "  purchased_game: Mapped['PlayStationPurchasedGames'] = relationship(\n",
    "      back_populates='player')\n",
    "\n",
    "\n",
    "class PlayStationHistory(Base):\n",
    "  # Table name\n",
    "  __tablename__ = 'playstation_history'\n",
    "\n",
    "  # Columns\n",
    "  playerid: Mapped[int] = mapped_column(\n",
    "      ForeignKey('playstation_players.playerid'),\n",
    "      primary_key=True,\n",
    "      nullable=False)\n",
    "  achievementid: Mapped[str] = mapped_column(\n",
    "      ForeignKey('playstation_achievements.achievementid'),\n",
    "      primary_key=True,\n",
    "      nullable=False)\n",
    "  date_acquired: Mapped[datetime] = mapped_column(DATETIME, nullable=True)\n",
    "\n",
    "  # Relationships\n",
    "  achievement: Mapped['PlayStationAchievements'] = relationship(\n",
    "      back_populates='history')\n",
    "  player: Mapped['PlayStationPlayers'] = relationship(back_populates='history')\n",
    "\n",
    "\n",
    "class PlayStationPrices(Base):\n",
    "  # Table name\n",
    "  __tablename__ = 'playstation_prices'\n",
    "\n",
    "  # Columns\n",
    "  gameid: Mapped[int] = mapped_column(ForeignKey('playstation_games.gameid'),\n",
    "                                      primary_key=True,\n",
    "                                      nullable=False)\n",
    "  usd: Mapped[float] = mapped_column(FLOAT, nullable=True)\n",
    "  eur: Mapped[float] = mapped_column(FLOAT, nullable=True)\n",
    "  gbp: Mapped[float] = mapped_column(FLOAT, nullable=True)\n",
    "  jpy: Mapped[float] = mapped_column(FLOAT, nullable=True)\n",
    "  rub: Mapped[float] = mapped_column(FLOAT, nullable=True)\n",
    "  date_acquired: Mapped[datetime] = mapped_column(DATE,\n",
    "                                                  primary_key=True,\n",
    "                                                  nullable=False)\n",
    "\n",
    "  # Relationships\n",
    "  game: Mapped['PlayStationGames'] = relationship(back_populates='prices')\n",
    "\n",
    "\n",
    "class PlayStationPurchasedGames(Base):\n",
    "  # Table name\n",
    "  __tablename__ = 'playstation_purchased_games'\n",
    "\n",
    "  # Columns\n",
    "  playerid: Mapped[int] = mapped_column(\n",
    "      ForeignKey('playstation_players.playerid'),\n",
    "      primary_key=True,\n",
    "      nullable=False)\n",
    "  library: Mapped[str] = mapped_column(MEDIUMTEXT, nullable=True)\n",
    "\n",
    "  # Relationships\n",
    "  player: Mapped['PlayStationPlayers'] = relationship(\n",
    "      back_populates='purchased_game')"
   ],
   "metadata": {
    "id": "FDTQVV6V2Wu3",
    "ExecuteTime": {
     "end_time": "2025-04-01T17:19:51.642008Z",
     "start_time": "2025-04-01T17:19:51.280092Z"
    }
   },
   "outputs": [],
   "execution_count": 41
  },
  {
   "cell_type": "markdown",
   "source": [
    "## Steam Models"
   ],
   "metadata": {
    "id": "i_V1S5eDHfCQ"
   }
  },
  {
   "cell_type": "code",
   "source": [
    "class SteamGames(Base):\n",
    "  # Table name\n",
    "  __tablename__ = 'steam_games'\n",
    "\n",
    "  # Columns\n",
    "  gameid: Mapped[int] = mapped_column(MEDIUMINT(unsigned=True),\n",
    "                                      primary_key=True,\n",
    "                                      nullable=False)\n",
    "  title: Mapped[str] = mapped_column(VARCHAR(255,\n",
    "                                             collation=\"utf8mb4_bin\"),\n",
    "                                     nullable=False)\n",
    "  developers: Mapped[str] = mapped_column(TEXT, nullable=True)\n",
    "  publishers: Mapped[str] = mapped_column(VARCHAR(255,\n",
    "                                             collation=\"utf8mb4_bin\"),\n",
    "                                          nullable=True)\n",
    "  genres: Mapped[str] = mapped_column(TEXT, nullable=True)\n",
    "  supported_languages: Mapped[str] = mapped_column(TEXT, nullable=True)\n",
    "  release_date: Mapped[datetime] = mapped_column(DATE, nullable=True)\n",
    "\n",
    "  # Relationships\n",
    "  achievements: Mapped[List['SteamAchievements']] = relationship(\n",
    "      back_populates='game')\n",
    "  prices: Mapped[List['SteamPrices']] = relationship(back_populates='game')\n",
    "  reviews: Mapped[List['SteamReviews']] = relationship(back_populates='game')\n",
    "\n",
    "\n",
    "class SteamAchievements(Base):\n",
    "  # Table name\n",
    "  __tablename__ = 'steam_achievements'\n",
    "\n",
    "  # Columns\n",
    "  achievementid: Mapped[str] = mapped_column(VARCHAR(255,\n",
    "                                                      collation=\"utf8mb4_bin\"),\n",
    "                                             primary_key=True,\n",
    "                                             nullable=False)\n",
    "  gameid: Mapped[int] = mapped_column(ForeignKey('steam_games.gameid'),\n",
    "                                      nullable=False)\n",
    "  title: Mapped[str] = mapped_column(TEXT, nullable=False)\n",
    "  description: Mapped[str] = mapped_column(TEXT, nullable=True)\n",
    "\n",
    "  # Relationships\n",
    "  game: Mapped['SteamGames'] = relationship(back_populates='achievements')\n",
    "  history: Mapped[List['SteamHistory']] = relationship(\n",
    "      back_populates='achievement')\n",
    "\n",
    "\n",
    "class SteamPlayers(Base):\n",
    "  # Table name\n",
    "  __tablename__ = 'steam_players'\n",
    "\n",
    "  # Columns\n",
    "  # Why bigint? because the largest number is 76561199815552638\n",
    "  playerid: Mapped[int] = mapped_column(BIGINT,\n",
    "                                        primary_key=True,\n",
    "                                        nullable=False)\n",
    "  country: Mapped[str] = mapped_column(NVARCHAR(255), nullable=True)\n",
    "  created: Mapped[datetime] = mapped_column(DATETIME, nullable=True)\n",
    "\n",
    "  # Relationships\n",
    "  history: Mapped[List['SteamHistory']] = relationship(back_populates='player')\n",
    "  friend: Mapped['SteamFriends'] = relationship(back_populates='player')\n",
    "  purchased_game: Mapped['SteamPurchasedGames'] = relationship(\n",
    "      back_populates='player')\n",
    "  reviews: Mapped[List['SteamReviews']] = relationship(back_populates='player')\n",
    "\n",
    "\n",
    "class SteamHistory(Base):\n",
    "  # Table name\n",
    "  __tablename__ = 'steam_history'\n",
    "\n",
    "  # Columns\n",
    "  playerid: Mapped[int] = mapped_column(ForeignKey('steam_players.playerid'),\n",
    "                                        primary_key=True,\n",
    "                                        nullable=False)\n",
    "  achievementid: Mapped[str] = mapped_column(\n",
    "      ForeignKey('steam_achievements.achievementid'),\n",
    "      primary_key=True,\n",
    "      nullable=False)\n",
    "  date_acquired: Mapped[datetime] = mapped_column(DATETIME, nullable=True)\n",
    "\n",
    "  # Relationships\n",
    "  achievement: Mapped['SteamAchievements'] = relationship(\n",
    "      back_populates='history')\n",
    "  player: Mapped['SteamPlayers'] = relationship(back_populates='history')\n",
    "\n",
    "\n",
    "class SteamPrices(Base):\n",
    "  # Table name\n",
    "  __tablename__ = 'steam_prices'\n",
    "\n",
    "  # Columns\n",
    "  gameid: Mapped[int] = mapped_column(ForeignKey('steam_games.gameid'),\n",
    "                                      primary_key=True,\n",
    "                                      nullable=False)\n",
    "  usd: Mapped[float] = mapped_column(FLOAT, nullable=True)\n",
    "  eur: Mapped[float] = mapped_column(FLOAT, nullable=True)\n",
    "  gbp: Mapped[float] = mapped_column(FLOAT, nullable=True)\n",
    "  jpy: Mapped[float] = mapped_column(FLOAT, nullable=True)\n",
    "  rub: Mapped[float] = mapped_column(FLOAT, nullable=True)\n",
    "  date_acquired: Mapped[datetime] = mapped_column(DATE,\n",
    "                                                  primary_key=True,\n",
    "                                                  nullable=False)\n",
    "\n",
    "  # Relationships\n",
    "  game: Mapped['SteamGames'] = relationship(back_populates='prices')\n",
    "\n",
    "\n",
    "class SteamFriends(Base):\n",
    "  # Table name\n",
    "  __tablename__ = 'steam_friends'\n",
    "\n",
    "  # Columns\n",
    "  playerid: Mapped[int] = mapped_column(ForeignKey('steam_players.playerid'),\n",
    "                                        primary_key=True,\n",
    "                                        nullable=False)\n",
    "  friends: Mapped[str] = mapped_column(TEXT, nullable=False)\n",
    "\n",
    "  # Relationships\n",
    "  player: Mapped['SteamPlayers'] = relationship(back_populates='friend')\n",
    "\n",
    "\n",
    "class SteamPurchasedGames(Base):\n",
    "  # Table name\n",
    "  __tablename__ = 'steam_purchased_games'\n",
    "\n",
    "  # Columns\n",
    "  playerid: Mapped[int] = mapped_column(ForeignKey('steam_players.playerid'),\n",
    "                                        primary_key=True,\n",
    "                                        nullable=False)\n",
    "  # Why MEDIUMTEXT? There is a row with 265945 characters\n",
    "  library: Mapped[str] = mapped_column(MEDIUMTEXT,\n",
    "                                       nullable=False)\n",
    "\n",
    "  # Relationships\n",
    "  player: Mapped['SteamPlayers'] = relationship(back_populates='purchased_game')\n",
    "\n",
    "\n",
    "class SteamReviews(Base):\n",
    "  # Table name\n",
    "  __tablename__ = 'steam_reviews'\n",
    "\n",
    "  # Columns\n",
    "  reviewid: Mapped[int] = mapped_column(MEDIUMINT(unsigned=True),\n",
    "                                        primary_key=True,\n",
    "                                        nullable=False)\n",
    "  playerid: Mapped[int] = mapped_column(ForeignKey('steam_players.playerid'),\n",
    "                                        nullable=False)\n",
    "  gameid: Mapped[int] = mapped_column(ForeignKey('steam_games.gameid'),\n",
    "                                      nullable=False)\n",
    "  review: Mapped[str] = mapped_column(TEXT, nullable=False)\n",
    "  helpful: Mapped[int] = mapped_column(SMALLINT(unsigned=True), nullable=True)\n",
    "  funny: Mapped[int] = mapped_column(SMALLINT(unsigned=True), nullable=True)\n",
    "  awards: Mapped[int] = mapped_column(SMALLINT(unsigned=True), nullable=True)\n",
    "  posted: Mapped[datetime] = mapped_column(DATE, nullable=True)\n",
    "\n",
    "  # Relationships\n",
    "  player: Mapped['SteamPlayers'] = relationship(back_populates='reviews')\n",
    "  game: Mapped['SteamGames'] = relationship(back_populates='reviews')"
   ],
   "metadata": {
    "id": "dR2qtsKRHd2D",
    "ExecuteTime": {
     "end_time": "2025-04-01T17:19:51.678689Z",
     "start_time": "2025-04-01T17:19:51.656748Z"
    }
   },
   "outputs": [],
   "execution_count": 42
  },
  {
   "cell_type": "markdown",
   "source": [
    "## Xbox Models"
   ],
   "metadata": {
    "id": "2Nd1SfQWWWC_"
   }
  },
  {
   "cell_type": "code",
   "source": [
    "# class XboxGames(Base):\n",
    "#   # Table name\n",
    "#   __tablename__ = 'xbox_games'\n",
    "#\n",
    "#   # Columns\n",
    "#   gameid: Mapped[int] = mapped_column(MEDIUMINT(unsigned=True),\n",
    "#                                       primary_key=True,\n",
    "#                                       nullable=False)\n",
    "#   title: Mapped[str] = mapped_column(VARCHAR(255,\n",
    "#                                              collation=\"utf8mb4_bin\"),\n",
    "#                                      nullable=False)\n",
    "#   developers: Mapped[str] = mapped_column(NVARCHAR(255), nullable=True)\n",
    "#   publishers: Mapped[str] = mapped_column(NVARCHAR(255), nullable=True)\n",
    "#   genres: Mapped[str] = mapped_column(NVARCHAR(255), nullable=True)\n",
    "#   supported_languages: Mapped[str] = mapped_column(NVARCHAR(255), nullable=True)\n",
    "#   release_date: Mapped[datetime] = mapped_column(DATE, nullable=True)\n",
    "#\n",
    "#   # Relationships\n",
    "#   achievements: Mapped[List['XboxAchievements']] = relationship(\n",
    "#       back_populates='game')\n",
    "#   prices: Mapped[List['XboxPrices']] = relationship(back_populates='game')\n",
    "#\n",
    "#\n",
    "# class XboxAchievements(Base):\n",
    "#   # Table name\n",
    "#   __tablename__ = 'xbox_achievements'\n",
    "#\n",
    "#   # Columns\n",
    "#   achievementid: Mapped[str] = mapped_column(VARCHAR(255,\n",
    "#                                                      collation=\"utf8mb4_bin\"),\n",
    "#                                              primary_key=True,\n",
    "#                                              nullable=False)\n",
    "#   gameid: Mapped[int] = mapped_column(ForeignKey('xbox_games.gameid'),\n",
    "#                                       nullable=False)\n",
    "#   title: Mapped[str] = mapped_column(VARCHAR(255,\n",
    "#                                              collation=\"utf8mb4_bin\"),\n",
    "#                                      nullable=False)\n",
    "#   description: Mapped[str] = mapped_column(VARCHAR(255,\n",
    "#                                                    collation=\"utf8mb4_bin\"),\n",
    "#                                            nullable=True)\n",
    "#   points: Mapped[float] = mapped_column(FLOAT, nullable=True)\n",
    "#\n",
    "#   # Relationships\n",
    "#   game: Mapped['XboxGames'] = relationship(back_populates='achievements')\n",
    "#   history: Mapped[List['XboxHistory']] = relationship(\n",
    "#       back_populates='achievement')\n",
    "#\n",
    "#\n",
    "# class XboxPlayers(Base):\n",
    "#   # Table name\n",
    "#   __tablename__ = 'xbox_players'\n",
    "#\n",
    "#   # Columns\n",
    "#   playerid: Mapped[int] = mapped_column(INTEGER,\n",
    "#                                         primary_key=True,\n",
    "#                                         nullable=False)\n",
    "#   nickname: Mapped[str] = mapped_column(NVARCHAR(255),\n",
    "#                                         nullable=False)\n",
    "#\n",
    "#   # Relationships\n",
    "#   history: Mapped[List['XboxHistory']] = relationship(back_populates='player')\n",
    "#   purchased_game: Mapped['XboxPurchasedGames'] = relationship(\n",
    "#       back_populates='player')\n",
    "#\n",
    "#\n",
    "# class XboxHistory(Base):\n",
    "#   # Table name\n",
    "#   __tablename__ = 'xbox_history'\n",
    "#\n",
    "#   # Columns\n",
    "#   playerid: Mapped[int] = mapped_column(ForeignKey('xbox_players.playerid'),\n",
    "#                                         primary_key=True,\n",
    "#                                         nullable=False)\n",
    "#   achievementid: Mapped[str] = mapped_column(\n",
    "#       ForeignKey('xbox_achievements.achievementid'),\n",
    "#       primary_key=True,\n",
    "#       nullable=False)\n",
    "#   date_acquired: Mapped[datetime] = mapped_column(DATETIME, nullable=True)\n",
    "#\n",
    "#   # Relationships\n",
    "#   achievement: Mapped['XboxAchievements'] = relationship(\n",
    "#       back_populates='history')\n",
    "#   player: Mapped['XboxPlayers'] = relationship(back_populates='history')\n",
    "#\n",
    "#\n",
    "# class XboxPrices(Base):\n",
    "#   # Table name\n",
    "#   __tablename__ = 'xbox_prices'\n",
    "#\n",
    "#   # Columns\n",
    "#   gameid: Mapped[int] = mapped_column(ForeignKey('xbox_games.gameid'),\n",
    "#                                       primary_key=True,\n",
    "#                                       nullable=False)\n",
    "#   usd: Mapped[float] = mapped_column(FLOAT, nullable=True)\n",
    "#   eur: Mapped[float] = mapped_column(FLOAT, nullable=True)\n",
    "#   gbp: Mapped[float] = mapped_column(FLOAT, nullable=True)\n",
    "#   jpy: Mapped[float] = mapped_column(FLOAT, nullable=True)\n",
    "#   rub: Mapped[float] = mapped_column(FLOAT, nullable=True)\n",
    "#   date_acquired: Mapped[datetime] = mapped_column(DATE,\n",
    "#                                                   primary_key=True,\n",
    "#                                                   nullable=False)\n",
    "#\n",
    "#   # Relationships\n",
    "#   game: Mapped['XboxGames'] = relationship(back_populates='prices')\n",
    "#\n",
    "#\n",
    "# class XboxPurchasedGames(Base):\n",
    "#   # Table name\n",
    "#   __tablename__ = 'xbox_purchased_games'\n",
    "#\n",
    "#   # Columns\n",
    "#   playerid: Mapped[int] = mapped_column(ForeignKey('xbox_players.playerid'),\n",
    "#                                         primary_key=True,\n",
    "#                                         nullable=False)\n",
    "#   library: Mapped[str] = mapped_column(TEXT,\n",
    "#                                        nullable=False)\n",
    "#\n",
    "#   # Relationships\n",
    "#   player: Mapped['XboxPlayers'] = relationship(back_populates='purchased_game')"
   ],
   "metadata": {
    "id": "vJYLAIshVU7i",
    "ExecuteTime": {
     "end_time": "2025-04-01T17:19:51.712888Z",
     "start_time": "2025-04-01T17:19:51.694261Z"
    }
   },
   "outputs": [],
   "execution_count": 43
  },
  {
   "cell_type": "markdown",
   "source": [
    "# Database Info"
   ],
   "metadata": {
    "id": "m4ZgnPGeafhJ"
   }
  },
  {
   "metadata": {},
   "cell_type": "markdown",
   "source": "Note: feel free to update these fields to match your server connection:"
  },
  {
   "cell_type": "code",
   "source": [
    "server_host = '127.0.0.1'\n",
    "server_port = 3306\n",
    "server_user = 'root'\n",
    "server_password = '123456'\n",
    "database_name = 'pixelsales'"
   ],
   "metadata": {
    "id": "RV4x2wZoahBb",
    "ExecuteTime": {
     "end_time": "2025-04-01T17:20:05.529445Z",
     "start_time": "2025-04-01T17:20:05.526439Z"
    }
   },
   "outputs": [],
   "execution_count": 45
  },
  {
   "cell_type": "markdown",
   "source": [
    "# Create Database"
   ],
   "metadata": {
    "id": "MauI8aDNZsOu"
   }
  },
  {
   "cell_type": "code",
   "source": [
    "mysql_connection = mysql.connector.connect(\n",
    "    host=server_host,\n",
    "    port=server_port,\n",
    "    user=server_user,\n",
    "    password=server_password)\n",
    "\n",
    "cursor = mysql_connection.cursor()\n",
    "cursor.execute(f'''CREATE DATABASE IF NOT EXISTS {database_name}''')\n",
    "\n",
    "cursor.close()\n",
    "mysql_connection.close()"
   ],
   "metadata": {
    "id": "bM-c9sX8Z8F2",
    "ExecuteTime": {
     "end_time": "2025-04-01T14:53:02.756165Z",
     "start_time": "2025-04-01T14:53:02.483206Z"
    }
   },
   "outputs": [],
   "execution_count": 41
  },
  {
   "cell_type": "markdown",
   "source": [
    "# Create Engine"
   ],
   "metadata": {
    "id": "1Naon3c3bCIs"
   }
  },
  {
   "cell_type": "code",
   "source": [
    "# Define connection url\n",
    "database_url = f'''mysql+mysqlconnector://{server_user}:{server_password}@{server_host}:{server_port}/{database_name}'''\n",
    "engine = create_engine(database_url)"
   ],
   "metadata": {
    "id": "CEI90M8VbFeD",
    "ExecuteTime": {
     "end_time": "2025-04-01T17:20:08.164502Z",
     "start_time": "2025-04-01T17:20:08.160510Z"
    }
   },
   "outputs": [],
   "execution_count": 46
  },
  {
   "cell_type": "markdown",
   "source": [
    "# Create Tables In Database"
   ],
   "metadata": {
    "id": "_a3z4nT9YB07"
   }
  },
  {
   "cell_type": "code",
   "source": [
    "# Create tables if not exist.\n",
    "Base.metadata.create_all(engine)"
   ],
   "metadata": {
    "id": "b4pQJjRsYGqX",
    "ExecuteTime": {
     "end_time": "2025-04-01T17:20:11.041456Z",
     "start_time": "2025-04-01T17:20:10.838308Z"
    }
   },
   "outputs": [],
   "execution_count": 47
  },
  {
   "cell_type": "markdown",
   "source": [
    "# Import Data"
   ],
   "metadata": {
    "id": "jyV1dIBvlvBm"
   }
  },
  {
   "cell_type": "markdown",
   "source": [
    "Define a function to import data:"
   ],
   "metadata": {
    "id": "_qoEKrSFX0v8"
   }
  },
  {
   "cell_type": "code",
   "source": [
    "# chunksize=n: The number of rows in each batch to be written at a time.\n",
    "def insert_data_from_df(df, table_name, chunksize=10000):\n",
    "  # Create a session\n",
    "  with Session(engine) as session:\n",
    "    try:\n",
    "      df.to_sql(table_name,\n",
    "                con=engine,\n",
    "                # Drop table if redo the insert operator\n",
    "                if_exists=\"append\",\n",
    "                index=False,\n",
    "                chunksize=chunksize,\n",
    "                # Pass multiple values in a single INSERT clause.\n",
    "                method=\"multi\")\n",
    "      print(f'Successfully inserted data into {table_name}')\n",
    "    except Exception as exception:\n",
    "      print(f'Couldn\\'t insert data to database. Error: {exception}')\n",
    "    finally:\n",
    "      # Close session\n",
    "      session.close()"
   ],
   "metadata": {
    "id": "wvjRP8D5KEUw",
    "ExecuteTime": {
     "end_time": "2025-04-01T17:20:29.051939Z",
     "start_time": "2025-04-01T17:20:29.047191Z"
    }
   },
   "outputs": [],
   "execution_count": 49
  },
  {
   "cell_type": "markdown",
   "source": [
    "## PlayStation Data"
   ],
   "metadata": {
    "id": "Ud5MVgwglxA1"
   }
  },
  {
   "cell_type": "code",
   "source": "insert_data_from_df(playstation_games_df, PlayStationGames.__tablename__)",
   "metadata": {
    "colab": {
     "base_uri": "https://localhost:8080/"
    },
    "id": "OL0yt7PTFbSx",
    "outputId": "23d88179-0376-4417-eb67-a603462a8a9f"
   },
   "outputs": [],
   "execution_count": null
  },
  {
   "cell_type": "code",
   "source": "insert_data_from_df(playstation_achievements_df, PlayStationAchievements.__tablename__)",
   "metadata": {
    "colab": {
     "base_uri": "https://localhost:8080/"
    },
    "id": "3hQbMAwZsB4o",
    "outputId": "b8bd921b-396c-439b-f0ac-2cb2061c991d",
    "ExecuteTime": {
     "end_time": "2025-04-01T12:15:04.065725Z",
     "start_time": "2025-04-01T12:14:26.651538Z"
    }
   },
   "outputs": [
    {
     "name": "stdout",
     "output_type": "stream",
     "text": [
      "Successfully inserted data into playstation_achievements\n"
     ]
    }
   ],
   "execution_count": 350
  },
  {
   "cell_type": "code",
   "source": "insert_data_from_df(playstation_players_df, PlayStationPlayers.__tablename__)",
   "metadata": {
    "colab": {
     "base_uri": "https://localhost:8080/"
    },
    "id": "BphKR66BsEse",
    "outputId": "63032c05-cc16-4a90-b2bc-6a62b5e7588d",
    "ExecuteTime": {
     "end_time": "2025-04-01T12:15:23.011832Z",
     "start_time": "2025-04-01T12:15:04.099464Z"
    }
   },
   "outputs": [
    {
     "name": "stdout",
     "output_type": "stream",
     "text": [
      "Successfully inserted data into playstation_players\n"
     ]
    }
   ],
   "execution_count": 351
  },
  {
   "cell_type": "code",
   "source": "insert_data_from_df(playstation_history_df, PlayStationHistory.__tablename__)",
   "metadata": {
    "colab": {
     "base_uri": "https://localhost:8080/"
    },
    "id": "iGRWHR8asF5X",
    "outputId": "c4549002-107e-4021-b27f-c4ee59b33c25",
    "ExecuteTime": {
     "end_time": "2025-04-01T12:39:08.409938Z",
     "start_time": "2025-04-01T12:15:23.039691Z"
    }
   },
   "outputs": [
    {
     "name": "stdout",
     "output_type": "stream",
     "text": [
      "Successfully inserted data into playstation_history\n"
     ]
    }
   ],
   "execution_count": 352
  },
  {
   "cell_type": "code",
   "source": "insert_data_from_df(playstation_prices_df, PlayStationPrices.__tablename__)",
   "metadata": {
    "colab": {
     "base_uri": "https://localhost:8080/"
    },
    "id": "4VZfYAMJ6wKJ",
    "outputId": "3c8853c7-6337-4328-9def-ab00f4ff847a",
    "ExecuteTime": {
     "end_time": "2025-04-01T12:39:11.597409Z",
     "start_time": "2025-04-01T12:39:08.519518Z"
    }
   },
   "outputs": [
    {
     "name": "stdout",
     "output_type": "stream",
     "text": [
      "Successfully inserted data into playstation_prices\n"
     ]
    }
   ],
   "execution_count": 353
  },
  {
   "cell_type": "code",
   "source": [
    "insert_data_from_df(playstation_purchased_games_df,\n",
    "                    PlayStationPurchasedGames.__tablename__,\n",
    "                    100)"
   ],
   "metadata": {
    "colab": {
     "base_uri": "https://localhost:8080/"
    },
    "id": "Lh6C_AWdsG0R",
    "outputId": "bc16364d-a235-4033-b524-6be4b53f8984",
    "ExecuteTime": {
     "end_time": "2025-04-01T12:39:20.466735Z",
     "start_time": "2025-04-01T12:39:11.646546Z"
    }
   },
   "outputs": [
    {
     "name": "stdout",
     "output_type": "stream",
     "text": [
      "Successfully inserted data into playstation_purchased_games\n"
     ]
    }
   ],
   "execution_count": 354
  },
  {
   "cell_type": "markdown",
   "source": [
    "## Steam Data"
   ],
   "metadata": {
    "id": "EqFEaS_kCAy2"
   }
  },
  {
   "cell_type": "code",
   "source": "insert_data_from_df(steam_games_df, SteamGames.__tablename__)",
   "metadata": {
    "colab": {
     "base_uri": "https://localhost:8080/"
    },
    "outputId": "f35ba510-84b9-4ee4-ce84-f8d8bcc0cf98",
    "id": "OqkYbXpMCU62",
    "ExecuteTime": {
     "end_time": "2025-04-01T13:08:38.089235Z",
     "start_time": "2025-04-01T13:08:26.229494Z"
    }
   },
   "outputs": [
    {
     "name": "stdout",
     "output_type": "stream",
     "text": [
      "Successfully inserted data into steam_games\n"
     ]
    }
   ],
   "execution_count": 383
  },
  {
   "cell_type": "code",
   "source": "insert_data_from_df(steam_achievements_df, SteamAchievements.__tablename__)",
   "metadata": {
    "colab": {
     "base_uri": "https://localhost:8080/"
    },
    "outputId": "cadd7d34-8322-49d8-a4a6-77171abdd825",
    "id": "rPxdmhpWCU63",
    "ExecuteTime": {
     "end_time": "2025-04-01T13:10:25.087595Z",
     "start_time": "2025-04-01T13:08:41.040620Z"
    }
   },
   "outputs": [
    {
     "name": "stdout",
     "output_type": "stream",
     "text": [
      "Successfully inserted data into steam_achievements\n"
     ]
    }
   ],
   "execution_count": 384
  },
  {
   "cell_type": "code",
   "source": "insert_data_from_df(steam_players_df, SteamPlayers.__tablename__)",
   "metadata": {
    "colab": {
     "base_uri": "https://localhost:8080/"
    },
    "outputId": "b6e30a36-c647-45d9-f858-d8c0888c6fdd",
    "id": "PcekMluECU63",
    "ExecuteTime": {
     "end_time": "2025-04-01T13:10:55.315991Z",
     "start_time": "2025-04-01T13:10:31.784733Z"
    }
   },
   "outputs": [
    {
     "name": "stdout",
     "output_type": "stream",
     "text": [
      "Successfully inserted data into steam_players\n"
     ]
    }
   ],
   "execution_count": 385
  },
  {
   "cell_type": "code",
   "source": "insert_data_from_df(steam_history_df, SteamHistory.__tablename__)",
   "metadata": {
    "colab": {
     "base_uri": "https://localhost:8080/"
    },
    "outputId": "003cbb6c-6fbb-4647-bba4-142884da79b2",
    "id": "ZSbLTNsDCU64",
    "ExecuteTime": {
     "end_time": "2025-04-01T13:21:54.174872Z",
     "start_time": "2025-04-01T13:12:08.669181Z"
    }
   },
   "outputs": [
    {
     "name": "stdout",
     "output_type": "stream",
     "text": [
      "Successfully inserted data into steam_history\n"
     ]
    }
   ],
   "execution_count": 386
  },
  {
   "cell_type": "code",
   "source": "insert_data_from_df(steam_prices_df, SteamPrices.__tablename__)",
   "metadata": {
    "colab": {
     "base_uri": "https://localhost:8080/"
    },
    "outputId": "dd6dfda1-adb5-4029-9419-14e3d022d521",
    "id": "uL6WONusCU64",
    "ExecuteTime": {
     "end_time": "2025-04-01T13:31:21.912848Z",
     "start_time": "2025-04-01T13:22:24.842168Z"
    }
   },
   "outputs": [
    {
     "name": "stdout",
     "output_type": "stream",
     "text": [
      "Successfully inserted data into steam_prices\n"
     ]
    }
   ],
   "execution_count": 387
  },
  {
   "cell_type": "code",
   "source": "insert_data_from_df(steam_purchased_games_df, SteamPurchasedGames, 100)",
   "metadata": {
    "colab": {
     "base_uri": "https://localhost:8080/"
    },
    "outputId": "bc16364d-a235-4033-b524-6be4b53f8984",
    "id": "n9UTU7eBCU64",
    "ExecuteTime": {
     "end_time": "2025-04-01T13:32:44.922974Z",
     "start_time": "2025-04-01T13:32:36.811886Z"
    }
   },
   "outputs": [
    {
     "name": "stdout",
     "output_type": "stream",
     "text": [
      "Successfully inserted data into steam_purchased_games\n"
     ]
    }
   ],
   "execution_count": 389
  },
  {
   "metadata": {
    "ExecuteTime": {
     "end_time": "2025-04-01T14:01:34.984578Z",
     "start_time": "2025-04-01T13:56:05.300652Z"
    }
   },
   "cell_type": "code",
   "source": "insert_data_from_df(steam_friends_df, SteamFriends.__tablename__, 50)",
   "outputs": [
    {
     "name": "stdout",
     "output_type": "stream",
     "text": [
      "Successfully inserted data into steam_friends\n"
     ]
    }
   ],
   "execution_count": 71
  },
  {
   "metadata": {
    "ExecuteTime": {
     "end_time": "2025-04-01T14:05:23.162630Z",
     "start_time": "2025-04-01T14:01:41.659594Z"
    }
   },
   "cell_type": "code",
   "source": "insert_data_from_df(steam_reviews_df, SteamReviews.__tablename__, 50)",
   "outputs": [
    {
     "name": "stdout",
     "output_type": "stream",
     "text": [
      "Successfully inserted data into steam_reviews\n"
     ]
    }
   ],
   "execution_count": 72
  },
  {
   "metadata": {},
   "cell_type": "markdown",
   "source": "## Xbox Data"
  },
  {
   "metadata": {
    "ExecuteTime": {
     "end_time": "2025-04-01T14:15:26.470069Z",
     "start_time": "2025-04-01T14:15:25.396800Z"
    }
   },
   "cell_type": "code",
   "source": "# insert_data_from_df(xbox_games_df, XboxGames.__tablename__)",
   "outputs": [
    {
     "name": "stdout",
     "output_type": "stream",
     "text": [
      "Successfully inserted data into xbox_games\n"
     ]
    }
   ],
   "execution_count": 140
  },
  {
   "metadata": {
    "ExecuteTime": {
     "end_time": "2025-04-01T14:19:29.308133Z",
     "start_time": "2025-04-01T14:19:03.710025Z"
    }
   },
   "cell_type": "code",
   "source": "# insert_data_from_df(xbox_achievements_df, XboxAchievements.__tablename__)",
   "outputs": [
    {
     "name": "stdout",
     "output_type": "stream",
     "text": [
      "Successfully inserted data into xbox_achievements\n"
     ]
    }
   ],
   "execution_count": 159
  },
  {
   "metadata": {
    "ExecuteTime": {
     "end_time": "2025-04-01T14:22:06.256449Z",
     "start_time": "2025-04-01T14:21:56.316923Z"
    }
   },
   "cell_type": "code",
   "source": "# insert_data_from_df(xbox_players_df, XboxPlayers.__tablename__)",
   "outputs": [
    {
     "name": "stdout",
     "output_type": "stream",
     "text": [
      "Successfully inserted data into xbox_players\n"
     ]
    }
   ],
   "execution_count": 162
  },
  {
   "metadata": {
    "ExecuteTime": {
     "end_time": "2025-04-01T17:41:39.019820Z",
     "start_time": "2025-04-01T17:20:34.268955Z"
    }
   },
   "cell_type": "code",
   "source": "# insert_data_from_df(xbox_history_df, XboxHistory.__tablename__)",
   "outputs": [
    {
     "name": "stdout",
     "output_type": "stream",
     "text": [
      "Successfully inserted data into xbox_history\n"
     ]
    }
   ],
   "execution_count": 50
  },
  {
   "metadata": {
    "ExecuteTime": {
     "end_time": "2025-04-01T17:44:57.722370Z",
     "start_time": "2025-04-01T17:44:55.914554Z"
    }
   },
   "cell_type": "code",
   "source": "# insert_data_from_df(xbox_prices_df, XboxPrices.__tablename__)",
   "outputs": [
    {
     "name": "stdout",
     "output_type": "stream",
     "text": [
      "Successfully inserted data into xbox_prices\n"
     ]
    }
   ],
   "execution_count": 51
  },
  {
   "metadata": {
    "ExecuteTime": {
     "end_time": "2025-04-01T17:45:07.895300Z",
     "start_time": "2025-04-01T17:45:00.675133Z"
    }
   },
   "cell_type": "code",
   "source": [
    "# insert_data_from_df(xbox_purchased_games_df,\n",
    "#                     XboxPurchasedGames.__tablename__,\n",
    "#                     100)"
   ],
   "outputs": [
    {
     "name": "stdout",
     "output_type": "stream",
     "text": [
      "Successfully inserted data into xbox_purchased_games\n"
     ]
    }
   ],
   "execution_count": 52
  },
  {
   "cell_type": "markdown",
   "source": [
    "# Close engine"
   ],
   "metadata": {
    "id": "7VyEwTSiW0Du"
   }
  },
  {
   "cell_type": "code",
   "source": [
    "# Close the engine when done\n",
    "engine.dispose()"
   ],
   "metadata": {
    "id": "rInU3E_vWzXu",
    "ExecuteTime": {
     "end_time": "2025-04-01T17:45:18.310167Z",
     "start_time": "2025-04-01T17:45:18.302831Z"
    }
   },
   "outputs": [],
   "execution_count": 53
  }
 ]
}
